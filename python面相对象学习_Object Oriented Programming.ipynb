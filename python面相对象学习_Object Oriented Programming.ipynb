{
 "cells": [
  {
   "cell_type": "markdown",
   "metadata": {},
   "source": [
    "面向过程的程序设计把计算机程序视为一系列的命令集合，即一组函数的顺序执行。为了简化程序设计，面向过程把函数继续切分为子函数，即把大块函数通过切割成小块函数来降低系统的复杂度。\n",
    "\n",
    "而面向对象的程序设计把计算机程序视为一组对象的集合，而每个对象都可以接收其他对象发过来的消息，并处理这些消息，计算机程序的执行就是一系列消息在各个对象之间传递。\n",
    "\n",
    "在Python中，所有数据类型都可以视为对象，当然也可以自定义对象。自定义的对象数据类型就是面向对象中的类（Class）的概念。\n",
    "\n",
    "数据封装、继承和多态是面向对象的三大特点"
   ]
  },
  {
   "cell_type": "markdown",
   "metadata": {},
   "source": [
    "类的定义：\n",
    "class Student(object):\n",
    "    pass\n",
    "class后面紧接着是类名，即Student，类名通常是大写开头的单词，\n",
    "紧接着是(object)，表示该类是从哪个类继承下来的，如果没有合适的继承类，就使用object类，这是所有类最终都会继承的类。\n",
    "\n",
    "实例的创建：\n",
    "创建实例是通过类名+()实现的\n",
    "Student()\n",
    "\n",
    "由于类可以起到模板的作用，因此，可以在创建实例的时候，把一些我们认为必须绑定的属性强制填写进去。\n",
    "通过定义一个特殊的__init__方法，在创建实例的时候，就把name，score等属性绑上去：\n",
    "class Student(object):\n",
    "    def __init__(self, name, score):\n",
    "        self.name = name\n",
    "        self.score = score\n",
    "注意到__init__方法的第一个参数永远是self，表示创建的实例本身，因此，在__init__方法内部，就可以把各种属性绑定到self，因为self就指向创建的实例本身。\n"
   ]
  },
  {
   "cell_type": "code",
   "execution_count": 18,
   "metadata": {
    "collapsed": false
   },
   "outputs": [
    {
     "name": "stdout",
     "output_type": "stream",
     "text": [
      "7474822 emily 2017-02-23\n",
      "7474822,emily,2017-02-23\n"
     ]
    }
   ],
   "source": [
    "#练习写一个顺风车乘客的类，属性包括用户id、用户名和注册日期\n",
    "class Passenger(object):\n",
    "    def __init__(self,uid,name,registed_day):\n",
    "        self.uid = uid\n",
    "        self.name = name\n",
    "        self.registed_day = registed_day\n",
    "    def print_self(self):\n",
    "        print(self.uid,self.name,self.registed_day)\n",
    "p1 = Passenger(7474822,'emily','2017-02-23')\n",
    "P1.print_self()\n",
    "\n",
    "def print_pass(passenger):\n",
    "    print('%s,%s,%s' % (passenger.uid,passenger.name,passenger.registed_day))\n",
    "print_pass(p1)"
   ]
  },
  {
   "cell_type": "markdown",
   "metadata": {},
   "source": [
    "小结:\n",
    "和普通的函数相比，在类中定义的函数只有一点不同，就是第一个参数永远是实例变量self，并且，调用时，不用传递该参数。\n",
    "除此之外，类的方法和普通函数没有什么区别，所以，你仍然可以用默认参数、可变参数、关键字参数和命名关键字参数"
   ]
  },
  {
   "cell_type": "markdown",
   "metadata": {},
   "source": [
    "面向对象编程的特点一：数据封装\n",
    "上面的小练习是通过两种方式实现了乘客p1的输出。\n",
    "1、可以直接在Student类的内部定义访问数据的函数，通过调用类的实例的方法来实现。\n",
    "这样就算是把“数据”给封装起来了。这些封装数据的函数是和Student类本身是关联起来的，我们称之为类的方法。\n",
    "\n",
    "要定义一个方法，除了第一个参数是self外，其他和普通函数一样。要调用一个方法，只需要在实例变量上直接调用，除了self不用传递\n",
    "类的方法可以直接在实例变量上调用，不需要知道内部实现细节，这就叫做把数据给封装起来了。\n",
    "\n",
    "2、通过外部定义一个函数，调用函数实现输出。\n",
    "\n",
    "\n",
    "类是创建实例的模板，而实例则是一个一个具体的对象，各个实例拥有的数据都互相独立，互不影响；\n",
    "\n",
    "方法就是与实例绑定的函数，和普通函数不同，方法可以直接访问实例的数据；\n",
    "\n",
    "通过在实例上调用方法，我们就直接操作了对象内部的数据，但无需知道方法内部的实现细节。\n",
    "\n",
    "和静态语言不同，Python允许对实例变量绑定任何数据，也就是说，对于两个实例变量，虽然它们都是同一个类的不同实例，但拥有的变量名称都可能不同："
   ]
  },
  {
   "cell_type": "markdown",
   "metadata": {},
   "source": [
    "在Class内部，可以有属性和方法，而外部代码可以通过直接调用实例变量的方法来操作数据，这样，就隐藏了内部的复杂逻辑，也就是数据封装\n",
    "但是前面Student类的定义来看，外部代码通过调用类的属性不仅可以查看属性值可以自由地修改一个实例的name、score属性，为了不让外部的代码修改属性，可以在属性名之前加__，使之成为私有变量。这样外部不可以通过 实例对象.属性名 来访问属性了。\n",
    "\n",
    "若想访问属性，可以额外定义一个类的方法，同理若想重新修改属性值，可以再定义一个类的方法，并在方法内部添加修改检查代码，实现代码的安全。"
   ]
  },
  {
   "cell_type": "code",
   "execution_count": 23,
   "metadata": {
    "collapsed": false
   },
   "outputs": [
    {
     "name": "stdout",
     "output_type": "stream",
     "text": [
      "emily\n",
      "8384\n"
     ]
    }
   ],
   "source": [
    "#练习2\n",
    "#1、将Passenger中的所有属性设置为私有变量，并添加获取属性的方法和修改属性的方法\n",
    "\n",
    "class Passenger(object):\n",
    "    def __init__(self,uid,name,registed_day):\n",
    "        self.__uid = uid\n",
    "        self.__name = name\n",
    "        self.__registed_day = registed_day\n",
    "    def print_self(self):\n",
    "        print(self.__uid,self.__name,self.__registed_day)\n",
    "    def get_uid(self):\n",
    "        print(self.__uid)\n",
    "    def get_name(self):\n",
    "        print(self.__name)\n",
    "    def set_uid(self,uid):\n",
    "        if uid < 0:\n",
    "            return False\n",
    "        else:\n",
    "            self.__uid = uid\n",
    "    def set_name(self,name):\n",
    "        if name is int:\n",
    "            return False\n",
    "        else :\n",
    "            self.__name = name\n",
    "p2 = Passenger(8384,'emily','2017-02-03')\n",
    "p2.get_name()\n",
    "p2.get_uid()"
   ]
  },
  {
   "cell_type": "code",
   "execution_count": 24,
   "metadata": {
    "collapsed": false
   },
   "outputs": [
    {
     "data": {
      "text/plain": [
       "False"
      ]
     },
     "execution_count": 24,
     "metadata": {},
     "output_type": "execute_result"
    }
   ],
   "source": [
    "p2.set_uid(-9394)"
   ]
  },
  {
   "cell_type": "code",
   "execution_count": 26,
   "metadata": {
    "collapsed": false
   },
   "outputs": [
    {
     "name": "stdout",
     "output_type": "stream",
     "text": [
      "883\n"
     ]
    }
   ],
   "source": [
    "p2.set_uid(883)\n",
    "p2.get_uid()"
   ]
  },
  {
   "cell_type": "markdown",
   "metadata": {},
   "source": [
    "小结：以上学习了通过设置隐私变量和定义类的方法，来实现对属性的安全保护。\n",
    "\n",
    "需要注意的是：\n",
    "1、以双下划线开头，并且以双下划线结尾的是特殊变量，特殊变量是可以直接访问的，不是private变量，所以，不能用__name__、__score__这样的变量名。\n",
    "\n",
    "2、以一个下划线开头的实例变量名，比如_name，这样的实例变量外部是可以访问的，但是，按照约定俗成的规定，当你看到这样的变量时，意思就是，“虽然我可以被访问，但是，请把我视为私有变量，不要随意访问”。\n",
    "\n",
    "3、双下划线开头的实例变量也不是一定不能从外部访问，仍然可以通过_Student__name来访问__name变量\n",
    "\n",
    "4、牢记设置隐私变量就是在属性名之前加__\n"
   ]
  },
  {
   "cell_type": "markdown",
   "metadata": {},
   "source": [
    "面向对象编程的特点一：继承和多态\n",
    "继承有什么好处？最大的好处是子类获得了父类的全部功能。\n",
    "当子类和父类都存在相同的run()方法时，我们说，子类的run()覆盖了父类的run()，在代码运行的时候，总是会调用子类的run()。这样，我们就获得了继承的另一个好处：多态。\n",
    "\n",
    "当我们定义一个class的时候，我们实际上就定义了一种数据类型。我们定义的数据类型和Python自带的数据类型，比如str、list、dict没什么两样\n",
    "\n",
    "在继承关系中，如果一个实例的数据类型是某个子类，那它的数据类型也可以被看做是父类。但是，反过来就不行\n",
    "\n",
    "继承可以把父类的所有功能都直接拿过来，这样就不必重零做起，子类只需要新增自己特有的方法，也可以把父类不适合的方法覆盖重写。\n",
    "\n",
    "动态语言的鸭子类型特点决定了继承不像静态语言那样是必须的。"
   ]
  },
  {
   "cell_type": "markdown",
   "metadata": {},
   "source": [
    "衍生问题\n",
    "\n",
    "1、拿到一个实例对象，如何知道它的类  －－使用type()函数 或是用isinstance()函数 \n",
    "   拿到一个普通对象，如何知道它的变量类型  －－使用type()函数  或是用isinstance()函数 \n",
    "   拿到一个函数名对象，如何知道它属于哪种函数  －－引入types包，使用types模块中定义的常量  或是用isinstance(变量名，变量类型)函数 \n",
    "   \n",
    "   "
   ]
  },
  {
   "cell_type": "code",
   "execution_count": 28,
   "metadata": {
    "collapsed": false
   },
   "outputs": [
    {
     "data": {
      "text/plain": [
       "True"
      ]
     },
     "execution_count": 28,
     "metadata": {},
     "output_type": "execute_result"
    }
   ],
   "source": [
    "#第一个问题:\n",
    "type(p2)==Passenger\n",
    "type('123')\n",
    "type(123)\n",
    "\n",
    "def fn():\n",
    "    pass\n",
    "\n",
    "import types\n",
    "type(fn)== types.FunctionType\n",
    "type(abs) == types.BuiltinFunctionType\n",
    "type(lambda x: x*x) == types.LambdaType\n",
    "type(( x for x in range(10))) ==types.GeneratorType"
   ]
  },
  {
   "cell_type": "code",
   "execution_count": 29,
   "metadata": {
    "collapsed": false
   },
   "outputs": [
    {
     "data": {
      "text/plain": [
       "True"
      ]
     },
     "execution_count": 29,
     "metadata": {},
     "output_type": "execute_result"
    }
   ],
   "source": [
    "isinstance(123,int)"
   ]
  },
  {
   "cell_type": "code",
   "execution_count": 30,
   "metadata": {
    "collapsed": false
   },
   "outputs": [
    {
     "data": {
      "text/plain": [
       "True"
      ]
     },
     "execution_count": 30,
     "metadata": {},
     "output_type": "execute_result"
    }
   ],
   "source": [
    "isinstance('dha',str)"
   ]
  },
  {
   "cell_type": "code",
   "execution_count": null,
   "metadata": {
    "collapsed": true
   },
   "outputs": [],
   "source": []
  }
 ],
 "metadata": {
  "kernelspec": {
   "display_name": "Python [Root]",
   "language": "python",
   "name": "Python [Root]"
  },
  "language_info": {
   "codemirror_mode": {
    "name": "ipython",
    "version": 3
   },
   "file_extension": ".py",
   "mimetype": "text/x-python",
   "name": "python",
   "nbconvert_exporter": "python",
   "pygments_lexer": "ipython3",
   "version": "3.5.2"
  }
 },
 "nbformat": 4,
 "nbformat_minor": 0
}
