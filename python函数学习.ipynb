{
 "cells": [
  {
   "cell_type": "markdown",
   "metadata": {
    "nbpresent": {
     "id": "04843a67-24ff-4179-82bf-f3d75c503b8b"
    }
   },
   "source": [
    "函数就是最基本的一种代码抽象的方式,函数名其实就是指向一个函数对象的引用，完全可以把函数名赋给一个变量，相当于给这个函数起了一个“别名”。\n",
    "\n",
    "在Python中，定义一个函数要使用def语句，依次写出函数名、括号、括号中的参数和冒号:，然后，在缩进块中编写函数体，函数的返回值用return语句返回。\n",
    "请注意，函数体内部的语句在执行时，一旦执行到return时，函数就执行完毕，并将结果返回。\n",
    "因此，函数内部通过条件判断和循环可以实现非常复杂的逻辑。\n",
    "如果没有return语句，函数执行完毕后也会返回结果，只是结果为None。\n",
    "return None可以简写为return。"
   ]
  },
  {
   "cell_type": "code",
   "execution_count": 1,
   "metadata": {
    "collapsed": false,
    "nbpresent": {
     "id": "6fd0108e-f982-4bd2-94f9-9661864c42e7"
    }
   },
   "outputs": [
    {
     "name": "stdout",
     "output_type": "stream",
     "text": [
      "72\n"
     ]
    }
   ],
   "source": [
    "def my_abs(x):\n",
    "    if x >= 0:\n",
    "        return x\n",
    "    else:\n",
    "        return -x\n",
    "print(my_abs(-72))"
   ]
  },
  {
   "cell_type": "markdown",
   "metadata": {
    "nbpresent": {
     "id": "6616bfff-09c5-4a28-a64c-dc3b2c69c7ed"
    }
   },
   "source": [
    "定义函数时可选用的参数类型:\n",
    "除了正常定义的必选参数外，还可以使用默认参数、可变参数和关键字参数，使得函数定义出来的接口，不但能处理复杂的参数，还可以简化调用者的代码。"
   ]
  },
  {
   "cell_type": "markdown",
   "metadata": {
    "nbpresent": {
     "id": "495dd9d7-a84a-425f-8d36-318275778ce1"
    }
   },
   "source": [
    "1、位置参数  位置参数一旦定义，函数在调用时就必须有输入"
   ]
  },
  {
   "cell_type": "code",
   "execution_count": 2,
   "metadata": {
    "collapsed": false,
    "nbpresent": {
     "id": "3c072ec7-af00-453a-862f-aefb245c856b"
    }
   },
   "outputs": [
    {
     "name": "stdout",
     "output_type": "stream",
     "text": [
      "81\n"
     ]
    }
   ],
   "source": [
    "def power(x,n):\n",
    "    s=1;\n",
    "    while n>0:\n",
    "        s=s*x\n",
    "        n=n-1\n",
    "    return s\n",
    "print(power(3,4))"
   ]
  },
  {
   "cell_type": "markdown",
   "metadata": {
    "nbpresent": {
     "id": "4202085a-19b7-40cc-b481-643aba118cb9"
    }
   },
   "source": [
    "修改后的power(x, n)函数有两个参数：x和n，这两个参数都是位置参数，调用函数时，传入的两个值按照位置顺序依次赋给参数x和n。"
   ]
  },
  {
   "cell_type": "markdown",
   "metadata": {
    "nbpresent": {
     "id": "79e99dd6-b411-4966-bbc3-91906099af3b"
    }
   },
   "source": [
    "2、默认参数  位置参数定义后，函数在调用时可以输入参数，也可以不输入参数－－优点：能降低调用函数的难度"
   ]
  },
  {
   "cell_type": "code",
   "execution_count": 4,
   "metadata": {
    "collapsed": false,
    "nbpresent": {
     "id": "5a86a15d-3035-4175-9d23-9f9a41174848"
    }
   },
   "outputs": [
    {
     "name": "stdout",
     "output_type": "stream",
     "text": [
      "4\n"
     ]
    }
   ],
   "source": [
    "def power(x,n=2):\n",
    "    s=1\n",
    "    while n>0:\n",
    "        s=s*x\n",
    "        n=n-1\n",
    "    return s\n",
    "print(power(2))"
   ]
  },
  {
   "cell_type": "markdown",
   "metadata": {
    "nbpresent": {
     "id": "2866ea00-89b7-4113-aa5f-b9aca8e0a181"
    }
   },
   "source": [
    "通过设定位置参数的取值，而将位置参数转化为默认参数，从而，只传入一个参数也可以进行计算，而不报错。\n",
    "\n",
    "设置默认参数时，有几点要注意：\n",
    "\n",
    "一是必选参数在前，默认参数在后，否则Python的解释器会报错（思考一下为什么默认参数不能放在必选参数前面）\n",
    "\n",
    "二是如何设置默认参数。\n",
    "\n",
    "当函数有多个参数时，把变化大的参数放前面，变化小的参数放后面。变化小的参数就可以作为默认参数。\n",
    "\n",
    "定义默认参数要牢记一点：默认参数必须指向不变对象！\n",
    "None 就是一个不变对象"
   ]
  },
  {
   "cell_type": "markdown",
   "metadata": {
    "nbpresent": {
     "id": "e6039d14-9080-47af-a0c7-0e57f5b251ed"
    }
   },
   "source": [
    "3、可变参数 "
   ]
  },
  {
   "cell_type": "markdown",
   "metadata": {
    "nbpresent": {
     "id": "cfc6b03f-c904-4956-a649-674afa9e2942"
    }
   },
   "source": [
    "顾名思义，可变参数就是传入的参数个数是可变的，可以是1个、2个到任意个，还可以是0个"
   ]
  },
  {
   "cell_type": "code",
   "execution_count": 5,
   "metadata": {
    "collapsed": false,
    "nbpresent": {
     "id": "709694d1-d7c9-4d77-aafe-309ba1fccfba"
    }
   },
   "outputs": [
    {
     "name": "stdout",
     "output_type": "stream",
     "text": [
      "10\n"
     ]
    }
   ],
   "source": [
    "def calc(numbers):\n",
    "    sum = 0\n",
    "    for x in numbers:\n",
    "        sum = x + sum\n",
    "    return sum\n",
    "print(calc([1,2,3,4]))"
   ]
  },
  {
   "cell_type": "markdown",
   "metadata": {
    "nbpresent": {
     "id": "ccdbca35-832f-443e-8044-e19c33040871"
    }
   },
   "source": [
    "上面这个函数的输入参数是一个数组，因此调用的时候，需要先组装出一个list或tuple\n",
    "调用的时候需要写成calc([1,2,3,4]\n",
    "如果利用可变参数可以写成calc(1,2,3,4) "
   ]
  },
  {
   "cell_type": "code",
   "execution_count": 6,
   "metadata": {
    "collapsed": false,
    "nbpresent": {
     "id": "d3141422-15c7-4eb0-aefc-830c7d57eb07"
    }
   },
   "outputs": [
    {
     "name": "stdout",
     "output_type": "stream",
     "text": [
      "10\n"
     ]
    }
   ],
   "source": [
    "def calc(*numbers):\n",
    "    sum = 0\n",
    "    for x in numbers:\n",
    "        sum = sum + x\n",
    "    return sum\n",
    "print(calc(1,2,3,4))"
   ]
  },
  {
   "cell_type": "markdown",
   "metadata": {
    "nbpresent": {
     "id": "87d305cb-6920-43d5-8e56-50bcb704b7ce"
    }
   },
   "source": [
    "定义可变参数和定义一个list或tuple参数相比，仅仅在参数前面加了一个*号。在函数内部，参数numbers接收到的是一个tuple，因此，函数代码完全不变。但是，调用该函数时，可以传入任意个参数，包括0个参数："
   ]
  },
  {
   "cell_type": "code",
   "execution_count": 13,
   "metadata": {
    "collapsed": false,
    "nbpresent": {
     "id": "bf66bef6-2129-46fb-a7fa-7d1dc9805cfe"
    }
   },
   "outputs": [
    {
     "name": "stdout",
     "output_type": "stream",
     "text": [
      "0\n"
     ]
    }
   ],
   "source": [
    "print(calc())"
   ]
  },
  {
   "cell_type": "markdown",
   "metadata": {
    "nbpresent": {
     "id": "cd9efb6d-b711-4294-947d-1a99a74841cc"
    }
   },
   "source": [
    "如果已经有一个list或者tuple，要调用一个可变参数怎么办？可以这样做："
   ]
  },
  {
   "cell_type": "code",
   "execution_count": 14,
   "metadata": {
    "collapsed": false,
    "nbpresent": {
     "id": "1772353f-e433-4126-a654-72017bf3f5f3"
    }
   },
   "outputs": [
    {
     "name": "stdout",
     "output_type": "stream",
     "text": [
      "73\n"
     ]
    }
   ],
   "source": [
    "list1 = [2,3,5,62,1]\n",
    "print(calc(*list1)) #利用数组变量名加*就行"
   ]
  },
  {
   "cell_type": "markdown",
   "metadata": {
    "nbpresent": {
     "id": "2c1791e9-be18-4002-8842-66eda141de7a"
    }
   },
   "source": [
    "4、关键字参数"
   ]
  },
  {
   "cell_type": "markdown",
   "metadata": {
    "nbpresent": {
     "id": "7d529568-c9c6-4f32-b8ff-2ed829ed5d4b"
    }
   },
   "source": [
    "可变参数允许你传入0个或任意个参数，这些可变参数在函数调用时自动组装为一个tuple。\n",
    "关键字参数允许你传入0个或任意个含参数名的参数，这些关键字参数在函数内部自动组装为一个dict。"
   ]
  },
  {
   "cell_type": "code",
   "execution_count": 10,
   "metadata": {
    "collapsed": false,
    "nbpresent": {
     "id": "fadab037-6e9e-40f2-b67e-313251c948f6"
    }
   },
   "outputs": [
    {
     "name": "stdout",
     "output_type": "stream",
     "text": [
      "name: Emily age: 25 others: {}\n"
     ]
    }
   ],
   "source": [
    "def person(name,age,**args):\n",
    "    print(\"name:\",name,'age:',age,'others:',args)\n",
    "person('Emily','25')"
   ]
  },
  {
   "cell_type": "code",
   "execution_count": 11,
   "metadata": {
    "collapsed": false,
    "nbpresent": {
     "id": "7cd01455-0e91-4e35-ab06-071c65242d56"
    }
   },
   "outputs": [
    {
     "name": "stdout",
     "output_type": "stream",
     "text": [
      "name: Bob age: 35 others: {'city': 'Beijing'}\n"
     ]
    }
   ],
   "source": [
    "person('Bob', 35, city='Beijing') "
   ]
  },
  {
   "cell_type": "markdown",
   "metadata": {
    "nbpresent": {
     "id": "52e16563-1b4a-4157-b88a-bd87889c496c"
    }
   },
   "source": [
    "关键字参数有什么用？它可以扩展函数的功能。比如，在person函数里，我们保证能接收到name和age这两个参数，但是，如果调用者愿意提供更多的参数，我们也能收到。试想你正在做一个用户注册的功能，除了用户名和年龄是必填项外，其他都是可选项，利用关键字参数来定义这个函数就能满足注册的需求。"
   ]
  },
  {
   "cell_type": "code",
   "execution_count": 12,
   "metadata": {
    "collapsed": false,
    "nbpresent": {
     "id": "7a8cde91-139b-487e-8abe-de7fa7fed945"
    }
   },
   "outputs": [
    {
     "name": "stdout",
     "output_type": "stream",
     "text": [
      "name: Bob age: 35 others: {'city': 'Beijing', 'job': 'Engineer'}\n"
     ]
    }
   ],
   "source": [
    "extra = {'city': 'Beijing', 'job': 'Engineer'}\n",
    "person('Bob', 35,**extra)"
   ]
  },
  {
   "cell_type": "markdown",
   "metadata": {
    "nbpresent": {
     "id": "cf18fdf6-aec2-493f-8fd3-c7fe3c97b20d"
    },
    "slideshow": {
     "slide_type": "slide"
    }
   },
   "source": [
    "5、命名关键字参数"
   ]
  },
  {
   "cell_type": "markdown",
   "metadata": {
    "nbpresent": {
     "id": "c6ff19eb-37a7-4b04-b13d-9d20008bcae4"
    }
   },
   "source": [
    "对于关键字参数，函数的调用者可以传入任意不受限制的关键字参数。至于到底传入了哪些，就需要在函数内部通过kw检查。不检查就无法知道传入了哪些参数\n",
    "如果要限制关键字参数的名字，就可以用命名关键字参数，例如，只接收city和job作为关键字参数。这种方式定义的函数如下：\n",
    "\n",
    "和关键字参数**kw不同，命名关键字参数需要一个特殊分隔符*，*后面的参数被视为命名关键字参数。\n",
    "命名关键字参数必须传入参数名，这和位置参数不同。如果没有传入参数名，调用将报错："
   ]
  },
  {
   "cell_type": "code",
   "execution_count": 15,
   "metadata": {
    "collapsed": false,
    "nbpresent": {
     "id": "0147935b-c60b-48e5-ae90-fc0721e49473"
    }
   },
   "outputs": [
    {
     "name": "stdout",
     "output_type": "stream",
     "text": [
      "name: EMILY age: 25 job: engineer city: dalian\n"
     ]
    }
   ],
   "source": [
    "def person(name,age,*,job,city):\n",
    "    print('name:',name,'age:',age,'job:',job,'city:',city)\n",
    "person('EMILY',25,job='engineer',city='dalian')"
   ]
  },
  {
   "cell_type": "markdown",
   "metadata": {
    "nbpresent": {
     "id": "f5d65cfd-1a6b-45a8-8ddb-43dcffbde80f"
    }
   },
   "source": [
    "如果函数定义中已经有了一个可变参数，后面跟着的命名关键字参数就不再需要一个特殊分隔符*了："
   ]
  },
  {
   "cell_type": "code",
   "execution_count": 17,
   "metadata": {
    "collapsed": false,
    "nbpresent": {
     "id": "f1075b29-1cef-4bdb-817b-1356b7f36461"
    }
   },
   "outputs": [
    {
     "name": "stdout",
     "output_type": "stream",
     "text": [
      "name: Bod age: 35 others: ('family', 'sex') job: engineer city: dalian\n"
     ]
    }
   ],
   "source": [
    "def person(name,age,*args,job,city):\n",
    "    print('name:',name,'age:',age,'others:',args,'job:',job,'city:',city)\n",
    "dict1={'family':'all',\"sex\":'1'}\n",
    "person('Bod',35,*dict1,job='engineer',city='dalian')"
   ]
  },
  {
   "cell_type": "markdown",
   "metadata": {
    "nbpresent": {
     "id": "304ee4f7-2487-43da-9e58-c84314a9b8e8"
    }
   },
   "source": [
    "注意 *args是可变参数,传入的参数被组装成一个tuple\n",
    "def person(name,age,*args,job,city) job和city是命名关键字参数\n",
    "def person(name,age,*,job,city) job和city是命名关键字参数\n",
    "def person(name,age,job,city) job和city是位置参数\n",
    "所以参数的位置决定了其类型,所以命名关键字参数必须有*分隔\n",
    "\n",
    "命名关键字参数可以有缺省值，从而简化调用："
   ]
  },
  {
   "cell_type": "code",
   "execution_count": 22,
   "metadata": {
    "collapsed": false,
    "nbpresent": {
     "id": "3fd439cc-e654-4292-86ab-fe34ca1b4cca"
    }
   },
   "outputs": [
    {
     "name": "stdout",
     "output_type": "stream",
     "text": [
      "name: Bod age: 35 others: ('family', 'sex') job: engineer city: dalian\n"
     ]
    }
   ],
   "source": [
    "def person1(name,age,*args,job='engineer',city):\n",
    "    print('name:',name,'age:',age,'others:',args,'job:',job,'city:',city)\n",
    "dict1={'family':'all',\"sex\":'1'}\n",
    "person1('Bod',35,*dict1,city='dalian')"
   ]
  },
  {
   "cell_type": "markdown",
   "metadata": {
    "nbpresent": {
     "id": "a3c404cb-d02d-48ab-a332-203284383614"
    }
   },
   "source": [
    "6、参数组合\n",
    "在Python中定义函数，可以用必选参数、默认参数、可变参数、关键字参数和命名关键字参数，这5种参数都可以组合使用。\n",
    "但是请注意，参数定义的顺序必须是：必选参数、默认参数、可变参数、命名关键字参数和关键字参数。\n",
    "对于任意函数，都可以通过类似func(*args, **kw)的形式调用它，无论它的参数是如何定义的"
   ]
  },
  {
   "cell_type": "code",
   "execution_count": 23,
   "metadata": {
    "collapsed": false,
    "nbpresent": {
     "id": "048eaa6e-9bee-4984-b6d2-219de569687b"
    }
   },
   "outputs": [
    {
     "name": "stdout",
     "output_type": "stream",
     "text": [
      "a = 2 b = 3 c = 4 args = (6, 1) kw = {'x': 29, 'd': 99}\n"
     ]
    }
   ],
   "source": [
    "def f1(a, b, c=0, *args, **kw):\n",
    "    print('a =', a, 'b =', b, 'c =', c, 'args =', args, 'kw =', kw)\n",
    "args=(2,3,4,6,1)\n",
    "kw={'d':99,'x':29}\n",
    "f1(*args,**kw)"
   ]
  },
  {
   "cell_type": "markdown",
   "metadata": {
    "nbpresent": {
     "id": "b21c8823-7cb7-4f53-b51d-c7d145fd889c"
    }
   },
   "source": [
    "总结：\n",
    "Python的函数具有非常灵活的参数形态，既可以实现简单的调用，又可以传入非常复杂的参数。\n",
    "\n",
    "默认参数一定要用不可变对象，如果是可变对象，程序运行时会有逻辑错误！\n",
    "\n",
    "要注意定义可变参数和关键字参数的语法：\n",
    "\n",
    "*args是可变参数，args接收的是一个tuple；\n",
    "\n",
    "**kw是关键字参数，kw接收的是一个dict。\n",
    "\n",
    "以及调用函数时如何传入可变参数和关键字参数的语法：\n",
    "\n",
    "可变参数既可以直接传入：func(1, 2, 3)，又可以先组装list或tuple，再通过*args传入：func(*(1, 2, 3))；\n",
    "\n",
    "关键字参数既可以直接传入：func(a=1, b=2)，又可以先组装dict，再通过**kw传入：func(**{'a': 1, 'b': 2})。\n",
    "\n",
    "使用*args和**kw是Python的习惯写法，当然也可以用其他参数名，但最好使用习惯用法。\n",
    "\n",
    "命名的关键字参数是为了限制调用者可以传入的参数名，同时可以提供默认值。\n",
    "\n",
    "定义命名的关键字参数在没有可变参数的情况下不要忘了写分隔符*，否则定义的将是位置参数。"
   ]
  },
  {
   "cell_type": "markdown",
   "metadata": {
    "nbpresent": {
     "id": "2b17918c-3913-4635-aec9-9742f26b1582"
    }
   },
   "source": [
    "递归函数：在函数内部，可以调用其他函数。如果一个函数在内部调用自身本身，这个函数就是递归函数\n",
    "递归函数的优点是定义简单，逻辑清晰。理论上，所有的递归函数都可以写成循环的方式，但循环的逻辑不如递归清晰。\n",
    "\n",
    "使用递归函数需要注意防止栈溢出：\n",
    "在计算机中，函数调用是通过栈（stack）这种数据结构实现的，每当进入一个函数调用，栈就会加一层栈帧，每当函数返回，栈就会减一层栈帧。由于栈的大小不是无限的，所以，递归调用的次数过多，会导致栈溢出。"
   ]
  },
  {
   "cell_type": "code",
   "execution_count": 25,
   "metadata": {
    "collapsed": false,
    "nbpresent": {
     "id": "32410315-6930-4eac-9d2a-429155e6531e"
    }
   },
   "outputs": [
    {
     "data": {
      "text/plain": [
       "120"
      ]
     },
     "execution_count": 25,
     "metadata": {},
     "output_type": "execute_result"
    }
   ],
   "source": [
    "def fact(n):\n",
    "    if n==1:\n",
    "        return 1\n",
    "    else :\n",
    "        return n*fact(n-1)\n",
    "fact(5)"
   ]
  },
  {
   "cell_type": "code",
   "execution_count": 26,
   "metadata": {
    "collapsed": false,
    "nbpresent": {
     "id": "10e00340-147d-4c72-9ec1-07a8e11cfd22"
    }
   },
   "outputs": [
    {
     "ename": "RecursionError",
     "evalue": "maximum recursion depth exceeded in comparison",
     "output_type": "error",
     "traceback": [
      "\u001b[0;31m---------------------------------------------------------------------------\u001b[0m",
      "\u001b[0;31mRecursionError\u001b[0m                            Traceback (most recent call last)",
      "\u001b[0;32m<ipython-input-26-efb858648494>\u001b[0m in \u001b[0;36m<module>\u001b[0;34m()\u001b[0m\n\u001b[0;32m----> 1\u001b[0;31m \u001b[0mfact\u001b[0m\u001b[0;34m(\u001b[0m\u001b[0;36m1000\u001b[0m\u001b[0;34m)\u001b[0m\u001b[0;34m\u001b[0m\u001b[0m\n\u001b[0m",
      "\u001b[0;32m<ipython-input-25-8b14ed76ed94>\u001b[0m in \u001b[0;36mfact\u001b[0;34m(n)\u001b[0m\n\u001b[1;32m      3\u001b[0m         \u001b[0;32mreturn\u001b[0m \u001b[0;36m1\u001b[0m\u001b[0;34m\u001b[0m\u001b[0m\n\u001b[1;32m      4\u001b[0m     \u001b[0;32melse\u001b[0m \u001b[0;34m:\u001b[0m\u001b[0;34m\u001b[0m\u001b[0m\n\u001b[0;32m----> 5\u001b[0;31m         \u001b[0;32mreturn\u001b[0m \u001b[0mn\u001b[0m\u001b[0;34m*\u001b[0m\u001b[0mfact\u001b[0m\u001b[0;34m(\u001b[0m\u001b[0mn\u001b[0m\u001b[0;34m-\u001b[0m\u001b[0;36m1\u001b[0m\u001b[0;34m)\u001b[0m\u001b[0;34m\u001b[0m\u001b[0m\n\u001b[0m\u001b[1;32m      6\u001b[0m \u001b[0mfact\u001b[0m\u001b[0;34m(\u001b[0m\u001b[0;36m5\u001b[0m\u001b[0;34m)\u001b[0m\u001b[0;34m\u001b[0m\u001b[0m\n",
      "... last 1 frames repeated, from the frame below ...\n",
      "\u001b[0;32m<ipython-input-25-8b14ed76ed94>\u001b[0m in \u001b[0;36mfact\u001b[0;34m(n)\u001b[0m\n\u001b[1;32m      3\u001b[0m         \u001b[0;32mreturn\u001b[0m \u001b[0;36m1\u001b[0m\u001b[0;34m\u001b[0m\u001b[0m\n\u001b[1;32m      4\u001b[0m     \u001b[0;32melse\u001b[0m \u001b[0;34m:\u001b[0m\u001b[0;34m\u001b[0m\u001b[0m\n\u001b[0;32m----> 5\u001b[0;31m         \u001b[0;32mreturn\u001b[0m \u001b[0mn\u001b[0m\u001b[0;34m*\u001b[0m\u001b[0mfact\u001b[0m\u001b[0;34m(\u001b[0m\u001b[0mn\u001b[0m\u001b[0;34m-\u001b[0m\u001b[0;36m1\u001b[0m\u001b[0;34m)\u001b[0m\u001b[0;34m\u001b[0m\u001b[0m\n\u001b[0m\u001b[1;32m      6\u001b[0m \u001b[0mfact\u001b[0m\u001b[0;34m(\u001b[0m\u001b[0;36m5\u001b[0m\u001b[0;34m)\u001b[0m\u001b[0;34m\u001b[0m\u001b[0m\n",
      "\u001b[0;31mRecursionError\u001b[0m: maximum recursion depth exceeded in comparison"
     ]
    }
   ],
   "source": [
    "fact(1000)"
   ]
  },
  {
   "cell_type": "markdown",
   "metadata": {
    "nbpresent": {
     "id": "a5f7d40c-69a6-4a04-8ee5-5e5bf546122b"
    }
   },
   "source": [
    "解决递归调用栈溢出的方法是通过尾递归优化，事实上尾递归和循环的效果是一样的，所以，把循环看成是一种特殊的尾递归函数也是可以的。\n",
    "\n",
    "尾递归是指，在函数返回的时候，调用自身本身，并且，return语句不能包含表达式。这样，编译器或者解释器就可以把尾递归做优化，使递归本身无论调用多少次，都只占用一个栈帧，不会出现栈溢出的情况。\n",
    "\n",
    "上面的fact(n)函数由于return n * fact(n - 1)引入了乘法表达式，所以就不是尾递归了。要改成尾递归方式，需要多一点代码，主要是要把每一步的乘积传入到递归函数中："
   ]
  },
  {
   "cell_type": "code",
   "execution_count": 30,
   "metadata": {
    "collapsed": false,
    "nbpresent": {
     "id": "b13ca323-e007-4c1c-b76e-0c968f12caa2"
    }
   },
   "outputs": [
    {
     "data": {
      "text/plain": [
       "120"
      ]
     },
     "execution_count": 30,
     "metadata": {},
     "output_type": "execute_result"
    }
   ],
   "source": [
    "def fact(n):\n",
    "    return fact_iter(n,1)\n",
    "def fact_iter(num,product):\n",
    "    if num==1:\n",
    "        return product\n",
    "    return fact_iter(num-1,num*product)\n",
    "fact(5)"
   ]
  },
  {
   "cell_type": "markdown",
   "metadata": {
    "nbpresent": {
     "id": "443ac6ef-b34b-4f59-9ea3-908fed22e538"
    }
   },
   "source": [
    "尾递归调用时，如果做了优化，栈不会增长，因此，无论多少次调用也不会导致栈溢出。\n",
    "\n",
    "遗憾的是，大多数编程语言没有针对尾递归做优化，Python解释器也没有做优化，所以，即使把上面的fact(n)函数改成尾递归方式，也会导致栈溢出。\n",
    "使用递归函数的优点是逻辑简单清晰，缺点是过深的调用会导致栈溢出。\n",
    "\n",
    "针对尾递归优化的语言可以通过尾递归防止栈溢出。尾递归事实上和循环是等价的，没有循环语句的编程语言只能通过尾递归实现循环。\n",
    "\n",
    "Python标准的解释器没有针对尾递归做优化，任何递归函数都存在栈溢出的问题"
   ]
  },
  {
   "cell_type": "markdown",
   "metadata": {
    "nbpresent": {
     "id": "eb8a5b05-6914-416e-88bf-00499edaa487"
    }
   },
   "source": [
    "高阶函数"
   ]
  },
  {
   "cell_type": "code",
   "execution_count": 32,
   "metadata": {
    "collapsed": false,
    "nbpresent": {
     "id": "bd79035c-8e36-425a-a353-19cd7d254568"
    }
   },
   "outputs": [
    {
     "data": {
      "text/plain": [
       "<function abs>"
      ]
     },
     "execution_count": 32,
     "metadata": {},
     "output_type": "execute_result"
    }
   ],
   "source": [
    "#1、变量可以指向函数\n",
    "abs"
   ]
  },
  {
   "cell_type": "code",
   "execution_count": 33,
   "metadata": {
    "collapsed": false,
    "nbpresent": {
     "id": "9ae84410-11a7-4842-a223-13fa7920035e"
    }
   },
   "outputs": [
    {
     "data": {
      "text/plain": [
       "3"
      ]
     },
     "execution_count": 33,
     "metadata": {},
     "output_type": "execute_result"
    }
   ],
   "source": [
    "f=abs\n",
    "f(-3)"
   ]
  },
  {
   "cell_type": "code",
   "execution_count": 34,
   "metadata": {
    "collapsed": false,
    "nbpresent": {
     "id": "d2f81484-b080-4b34-af86-ce147d8fdd11"
    }
   },
   "outputs": [
    {
     "ename": "TypeError",
     "evalue": "'int' object is not callable",
     "output_type": "error",
     "traceback": [
      "\u001b[0;31m---------------------------------------------------------------------------\u001b[0m",
      "\u001b[0;31mTypeError\u001b[0m                                 Traceback (most recent call last)",
      "\u001b[0;32m<ipython-input-34-c90035b809d3>\u001b[0m in \u001b[0;36m<module>\u001b[0;34m()\u001b[0m\n\u001b[1;32m      1\u001b[0m \u001b[0;31m#2、函数名也是变量\u001b[0m\u001b[0;34m\u001b[0m\u001b[0;34m\u001b[0m\u001b[0m\n\u001b[1;32m      2\u001b[0m \u001b[0mabs\u001b[0m \u001b[0;34m=\u001b[0m \u001b[0;36m10\u001b[0m\u001b[0;34m\u001b[0m\u001b[0m\n\u001b[0;32m----> 3\u001b[0;31m \u001b[0mabs\u001b[0m\u001b[0;34m(\u001b[0m\u001b[0;36m10\u001b[0m\u001b[0;34m)\u001b[0m\u001b[0;34m\u001b[0m\u001b[0m\n\u001b[0m",
      "\u001b[0;31mTypeError\u001b[0m: 'int' object is not callable"
     ]
    }
   ],
   "source": [
    "#2、函数名也是变量\n",
    "abs = 10\n",
    "abs(10)"
   ]
  },
  {
   "cell_type": "markdown",
   "metadata": {
    "nbpresent": {
     "id": "811e7094-461a-4dc1-8c78-642883984b09"
    }
   },
   "source": [
    "把abs指向10后，就无法通过abs(-10)调用该函数了！因为abs这个变量已经不指向求绝对值函数而是指向一个整数10！\n",
    "\n",
    "当然实际代码绝对不能这么写，这里是为了说明函数名也是变量。要恢复abs函数，请重启Python交互环境。"
   ]
  },
  {
   "cell_type": "code",
   "execution_count": null,
   "metadata": {
    "collapsed": true,
    "nbpresent": {
     "id": "60e60794-4c0c-48b9-8ebb-5a396e20f2b8"
    }
   },
   "outputs": [],
   "source": [
    "#3、传入函数\n",
    "#既然变量可以指向函数，函数的参数能接收变量，那么一个函数就可以接收另一个函数作为参数，这种函数就称之为高阶函数。"
   ]
  },
  {
   "cell_type": "code",
   "execution_count": 40,
   "metadata": {
    "collapsed": false,
    "nbpresent": {
     "id": "0e3efc33-9559-494e-91e9-47ce370b7c23"
    }
   },
   "outputs": [
    {
     "data": {
      "text/plain": [
       "5.095241053847769"
      ]
     },
     "execution_count": 40,
     "metadata": {},
     "output_type": "execute_result"
    }
   ],
   "source": [
    "import math\n",
    "from math import sqrt\n",
    "def add(x,y,f):\n",
    "    return f(x)+f(y)\n",
    "x = 6\n",
    "y = 7\n",
    "f = sqrt\n",
    "add(x,y,f)"
   ]
  },
  {
   "cell_type": "markdown",
   "metadata": {
    "nbpresent": {
     "id": "82c8deb3-3a1b-4ad1-a733-a0240e74af9f"
    }
   },
   "source": [
    "map函数－－单参数函数作用在序列上\n",
    "map()函数接收两个参数，一个是函数，一个是Iterable，map将传入的函数依次作用到序列的每个元素，并把结果作为新的Iterator返回。\n",
    "注意输入参数的变量类型和输出参数的变量类型\n",
    "输入: Iterable 输出: Iterator"
   ]
  },
  {
   "cell_type": "code",
   "execution_count": null,
   "metadata": {
    "collapsed": true,
    "nbpresent": {
     "id": "984409ee-3f71-4743-a499-a14e5566db39"
    }
   },
   "outputs": [],
   "source": [
    "def f(x):\n",
    "    return x * x\n",
    "r = map(f,[1,2,3,4,5,6])\n",
    "list(r)"
   ]
  },
  {
   "cell_type": "markdown",
   "metadata": {
    "nbpresent": {
     "id": "41f80b1b-f51b-41bd-8033-505765af8734"
    }
   },
   "source": [
    "map()传入的第一个参数是f，即函数对象本身。由于结果r是一个Iterator，Iterator是惰性序列，因此通过list()函数让它把整个序列都计算出来并返回一个list。"
   ]
  },
  {
   "cell_type": "code",
   "execution_count": 43,
   "metadata": {
    "collapsed": false,
    "nbpresent": {
     "id": "72a888f4-e748-4a3b-bab4-bec9c40a7bcb"
    }
   },
   "outputs": [
    {
     "data": {
      "text/plain": [
       "['1', '2', '3', '4', '5']"
      ]
     },
     "execution_count": 43,
     "metadata": {},
     "output_type": "execute_result"
    }
   ],
   "source": [
    "y = map(str,[1,2,3,4,5])\n",
    "list(y)"
   ]
  },
  {
   "cell_type": "markdown",
   "metadata": {
    "nbpresent": {
     "id": "9d0ce8de-1959-4f50-9d45-52efd2b82ee1"
    }
   },
   "source": [
    "，写一个循环，也可以计算出结果。但是，从上面的循环代码，能一眼看明白“把f(x)作用在list的每一个元素并把结果生成一个新的list”吗？\n",
    "\n",
    "所以，map()作为高阶函数，事实上它把运算规则抽象了"
   ]
  },
  {
   "cell_type": "markdown",
   "metadata": {
    "nbpresent": {
     "id": "ce6af8ef-4a4a-450b-aaaa-6a8cd2f152fa"
    }
   },
   "source": [
    "reduce函数－双参数函数作用在序列航\n",
    "reduce把一个函数作用在一个序列[x1, x2, x3, ...]上，这个函数必须接收两个参数，reduce把结果继续和序列的下一个元素做累积计算\n",
    "也就是说map函数和reduce函数的作用效果是相同的，区别是输入到map中的函数只有一个参数，输入到reduce中函数有两个参数"
   ]
  },
  {
   "cell_type": "code",
   "execution_count": 45,
   "metadata": {
    "collapsed": false,
    "nbpresent": {
     "id": "f9386ad0-ebbe-4e5c-beaf-1f11549a8abe"
    }
   },
   "outputs": [
    {
     "data": {
      "text/plain": [
       "15"
      ]
     },
     "execution_count": 45,
     "metadata": {},
     "output_type": "execute_result"
    }
   ],
   "source": [
    "from functools import reduce\n",
    "def add(x,y):\n",
    "    return x+y\n",
    "reduce(add,[1,2,3,4,5])"
   ]
  },
  {
   "cell_type": "markdown",
   "metadata": {
    "nbpresent": {
     "id": "9b0d9b75-fed6-41ff-92ed-2d1b8341e664"
    }
   },
   "source": [
    "当然求和运算可以直接用Python内建函数sum()，没必要动用reduce。\n",
    "\n",
    "但是如果要把序列[1, 3, 5, 7, 9]变换成整数13579，reduce就可以派上用场："
   ]
  },
  {
   "cell_type": "code",
   "execution_count": 46,
   "metadata": {
    "collapsed": false,
    "nbpresent": {
     "id": "dfd215bf-3d3a-453f-b12c-2412b14890b5"
    }
   },
   "outputs": [
    {
     "data": {
      "text/plain": [
       "15"
      ]
     },
     "execution_count": 46,
     "metadata": {},
     "output_type": "execute_result"
    }
   ],
   "source": [
    "sum([1,2,3,4,5])"
   ]
  },
  {
   "cell_type": "code",
   "execution_count": 48,
   "metadata": {
    "collapsed": false,
    "nbpresent": {
     "id": "e3be6adf-534d-4334-a9c8-b0851b72630d"
    }
   },
   "outputs": [
    {
     "data": {
      "text/plain": [
       "13579"
      ]
     },
     "execution_count": 48,
     "metadata": {},
     "output_type": "execute_result"
    }
   ],
   "source": [
    "from functools import reduce\n",
    "def fn(x,y):\n",
    "    return x * 10 + y\n",
    "reduce(fn,[1,3,5,7,9])"
   ]
  },
  {
   "cell_type": "markdown",
   "metadata": {
    "nbpresent": {
     "id": "5799554e-70b0-4427-89fe-c2663f7adfff"
    }
   },
   "source": [
    "filter函数－用于删除元素\n",
    "和map()类似，filter()也接收一个函数和一个序列。和map()不同的是，filter()把传入的函数依次作用于每个元素，然后根据返回值是True还是False决定保留还是丢弃该元素。"
   ]
  },
  {
   "cell_type": "code",
   "execution_count": 49,
   "metadata": {
    "collapsed": false,
    "nbpresent": {
     "id": "3e6067c6-8cd2-4d73-8893-5ac00226ba24"
    }
   },
   "outputs": [
    {
     "data": {
      "text/plain": [
       "[1, 3, 5]"
      ]
     },
     "execution_count": 49,
     "metadata": {},
     "output_type": "execute_result"
    }
   ],
   "source": [
    "#在一个list中，删掉偶数，只保留奇数\n",
    "def is_odd(x):\n",
    "    return x%2 == 1\n",
    "list(filter(is_odd,[1,2,3,4,5,6]))"
   ]
  },
  {
   "cell_type": "code",
   "execution_count": 50,
   "metadata": {
    "collapsed": false,
    "nbpresent": {
     "id": "0aeaba56-5c7e-45f3-a07a-e3b970b5e1f1"
    }
   },
   "outputs": [
    {
     "data": {
      "text/plain": [
       "['A', 'V']"
      ]
     },
     "execution_count": 50,
     "metadata": {},
     "output_type": "execute_result"
    }
   ],
   "source": [
    "#把一个序列中的空字符串删掉，可以这么写：\n",
    "def not_empty(s):\n",
    "    return s.strip()\n",
    "list(filter(not_empty,['A','','V']))"
   ]
  },
  {
   "cell_type": "markdown",
   "metadata": {
    "nbpresent": {
     "id": "1c779aa8-b7a3-47eb-b936-ae139b09b306"
    }
   },
   "source": [
    "注意到filter()函数返回的是一个Iterator，也就是一个惰性序列，所以要强迫filter()完成计算结果，需要用list()函数获得所有结果并返回list。"
   ]
  },
  {
   "cell_type": "code",
   "execution_count": 52,
   "metadata": {
    "collapsed": false,
    "nbpresent": {
     "id": "437ea7d8-03c6-46fa-a2c1-f5492178e8a5"
    }
   },
   "outputs": [
    {
     "name": "stdout",
     "output_type": "stream",
     "text": [
      "2\n",
      "3\n",
      "5\n",
      "7\n",
      "11\n",
      "13\n",
      "17\n",
      "19\n",
      "23\n",
      "29\n",
      "31\n",
      "37\n",
      "41\n",
      "43\n",
      "47\n",
      "53\n",
      "59\n",
      "61\n",
      "67\n",
      "71\n",
      "73\n",
      "79\n",
      "83\n",
      "89\n",
      "97\n",
      "101\n",
      "103\n",
      "107\n",
      "109\n",
      "113\n",
      "127\n",
      "131\n",
      "137\n",
      "139\n",
      "149\n",
      "151\n",
      "157\n",
      "163\n",
      "167\n",
      "173\n",
      "179\n",
      "181\n",
      "191\n",
      "193\n",
      "197\n",
      "199\n",
      "211\n",
      "223\n",
      "227\n",
      "229\n",
      "233\n",
      "239\n",
      "241\n",
      "251\n",
      "257\n",
      "263\n",
      "269\n",
      "271\n",
      "277\n",
      "281\n",
      "283\n",
      "293\n",
      "307\n",
      "311\n",
      "313\n",
      "317\n",
      "331\n",
      "337\n",
      "347\n",
      "349\n",
      "353\n",
      "359\n",
      "367\n",
      "373\n",
      "379\n",
      "383\n",
      "389\n",
      "397\n",
      "401\n",
      "409\n",
      "419\n",
      "421\n",
      "431\n",
      "433\n",
      "439\n",
      "443\n",
      "449\n",
      "457\n",
      "461\n",
      "463\n",
      "467\n",
      "479\n",
      "487\n",
      "491\n",
      "499\n",
      "503\n",
      "509\n",
      "521\n",
      "523\n",
      "541\n",
      "547\n",
      "557\n",
      "563\n",
      "569\n",
      "571\n",
      "577\n",
      "587\n",
      "593\n",
      "599\n",
      "601\n",
      "607\n",
      "613\n",
      "617\n",
      "619\n",
      "631\n",
      "641\n",
      "643\n",
      "647\n",
      "653\n",
      "659\n",
      "661\n",
      "673\n",
      "677\n",
      "683\n",
      "691\n",
      "701\n",
      "709\n",
      "719\n",
      "727\n",
      "733\n",
      "739\n",
      "743\n",
      "751\n",
      "757\n",
      "761\n",
      "769\n",
      "773\n",
      "787\n",
      "797\n",
      "809\n",
      "811\n",
      "821\n",
      "823\n",
      "827\n",
      "829\n",
      "839\n",
      "853\n",
      "857\n",
      "859\n",
      "863\n",
      "877\n",
      "881\n",
      "883\n",
      "887\n",
      "907\n",
      "911\n",
      "919\n",
      "929\n",
      "937\n",
      "941\n",
      "947\n",
      "953\n",
      "967\n",
      "971\n",
      "977\n",
      "983\n",
      "991\n",
      "997\n"
     ]
    }
   ],
   "source": [
    "def _odd_iter():\n",
    "    n=1\n",
    "    while True:\n",
    "        n=n+2\n",
    "        yield n\n",
    "def _not_divisible(n):\n",
    "    return lambda x : x % n > 0\n",
    "def primes():\n",
    "    yield 2\n",
    "    it = _odd_iter()\n",
    "    while True:\n",
    "        n= next(it)\n",
    "        yield n\n",
    "        it = filter(_not_divisible(n),it)\n",
    "for n in primes():\n",
    "    if n<1000:\n",
    "        print(n)\n",
    "    else :\n",
    "        break\n",
    "    "
   ]
  },
  {
   "cell_type": "markdown",
   "metadata": {
    "nbpresent": {
     "id": "538fa9ae-4079-4e61-8242-5b5e298af6df"
    }
   },
   "source": [
    "sort函数－－单参数函数作用在序列上之后，将结果排序输出\n",
    "sorted()函数也是一个高阶函数，它还可以接收一个key函数来实现自定义的排序"
   ]
  },
  {
   "cell_type": "code",
   "execution_count": 58,
   "metadata": {
    "collapsed": false,
    "nbpresent": {
     "id": "b6b14c20-19d6-446f-b06f-fd0d398b4a17"
    }
   },
   "outputs": [
    {
     "data": {
      "text/plain": [
       "[1, 2, 3]"
      ]
     },
     "execution_count": 58,
     "metadata": {},
     "output_type": "execute_result"
    }
   ],
   "source": [
    "sorted([3,2,1],key=fact)"
   ]
  },
  {
   "cell_type": "markdown",
   "metadata": {
    "nbpresent": {
     "id": "feb348d7-39d9-4f29-b459-81a93d9d710a"
    }
   },
   "source": [
    "key指定的函数将作用于list的每一个元素上，并根据key函数返回的结果进行排序"
   ]
  },
  {
   "cell_type": "code",
   "execution_count": 59,
   "metadata": {
    "collapsed": false,
    "nbpresent": {
     "id": "0cba68fd-3759-47c9-b0b8-438da553975e"
    }
   },
   "outputs": [
    {
     "data": {
      "text/plain": [
       "['Credit', 'Zoo', 'about', 'bob']"
      ]
     },
     "execution_count": 59,
     "metadata": {},
     "output_type": "execute_result"
    }
   ],
   "source": [
    " sorted(['bob', 'about', 'Zoo', 'Credit'])"
   ]
  },
  {
   "cell_type": "markdown",
   "metadata": {
    "nbpresent": {
     "id": "d4ccf2df-0710-4ddd-aa86-bcb9aab55028"
    }
   },
   "source": [
    "默认情况下，对字符串排序，是按照ASCII的大小比较的，由于'Z' < 'a'，结果，大写字母Z会排在小写字母a的前面。"
   ]
  },
  {
   "cell_type": "code",
   "execution_count": 62,
   "metadata": {
    "collapsed": false,
    "nbpresent": {
     "id": "abb792b9-f414-4d1c-b131-094dcb3301ec"
    }
   },
   "outputs": [
    {
     "data": {
      "text/plain": [
       "['about', 'bob', 'Credit', 'Zoo']"
      ]
     },
     "execution_count": 62,
     "metadata": {},
     "output_type": "execute_result"
    }
   ],
   "source": [
    " sorted(['bob', 'about', 'Zoo', 'Credit'],key=str.lower)"
   ]
  },
  {
   "cell_type": "markdown",
   "metadata": {
    "nbpresent": {
     "id": "ed349283-8477-44e9-9045-9f0703c6d645"
    }
   },
   "source": [
    "函数作为返回值\n",
    "高阶函数除了可以接受函数作为参数外，还可以把函数作为结果值返回。\n",
    "一个函数可以返回一个计算结果，也可以返回一个函数。\n",
    "返回一个函数时，牢记该函数并未执行，返回函数中不要引用任何可能会变化的变量。"
   ]
  },
  {
   "cell_type": "markdown",
   "metadata": {
    "nbpresent": {
     "id": "7df9e3e5-23e6-4e25-b45e-5ef4572557fe"
    }
   },
   "source": [
    "匿名函数－－函数没有名字，不必担心函数名冲突\n",
    "\n",
    "关键字lambda表示匿名函数，冒号前面的x表示函数参数。\n",
    "匿名函数有个限制，就是只能有一个表达式，不用写return，返回值就是该表达式的结果。\n",
    "同样，也可以把匿名函数作为返回值返回"
   ]
  },
  {
   "cell_type": "code",
   "execution_count": 74,
   "metadata": {
    "collapsed": false,
    "nbpresent": {
     "id": "5ea41e0c-203c-4869-8a2e-594ccedcbff6"
    }
   },
   "outputs": [
    {
     "data": {
      "text/plain": [
       "[1, 4, 9]"
      ]
     },
     "execution_count": 74,
     "metadata": {},
     "output_type": "execute_result"
    }
   ],
   "source": [
    "list(map(lambda x:x*x,[1,2,3]))"
   ]
  },
  {
   "cell_type": "code",
   "execution_count": 76,
   "metadata": {
    "collapsed": false,
    "nbpresent": {
     "id": "513b7d21-0ba2-41d4-8904-d72172c9e428"
    }
   },
   "outputs": [
    {
     "data": {
      "text/plain": [
       "[<function __main__.fa.<locals>.<lambda>>,\n",
       " <function __main__.fa.<locals>.<lambda>>,\n",
       " <function __main__.fa.<locals>.<lambda>>]"
      ]
     },
     "execution_count": 76,
     "metadata": {},
     "output_type": "execute_result"
    }
   ],
   "source": [
    "def fa(x):\n",
    "    return lambda x: x*x\n",
    "list(map(fa,[1,2,3]))"
   ]
  },
  {
   "cell_type": "markdown",
   "metadata": {
    "nbpresent": {
     "id": "b8679fcf-fa10-4f3d-a823-6ebd46426fcc"
    }
   },
   "source": [
    "装饰器\n",
    "现在，假设我们要增强now()函数的功能，比如，在函数调用前后自动打印日志，但又不希望修改now()函数的定义，这种在代码运行期间动态增加功能的方式，称之为“装饰器”（Decorator）。\n",
    "本质上，decorator就是一个返回函数的高阶函数。\n",
    "一个decorator，所以接受一个函数作为参数，并返回一个函数"
   ]
  },
  {
   "cell_type": "code",
   "execution_count": 126,
   "metadata": {
    "collapsed": false,
    "nbpresent": {
     "id": "108b2e5a-81dc-4d76-8a7f-a9d2fd7bc2fe"
    }
   },
   "outputs": [
    {
     "ename": "TypeError",
     "evalue": "log() missing 1 required positional argument: 'func'",
     "output_type": "error",
     "traceback": [
      "\u001b[0;31m---------------------------------------------------------------------------\u001b[0m",
      "\u001b[0;31mTypeError\u001b[0m                                 Traceback (most recent call last)",
      "\u001b[0;32m<ipython-input-126-093e479e2cf5>\u001b[0m in \u001b[0;36m<module>\u001b[0;34m()\u001b[0m\n\u001b[1;32m      4\u001b[0m         \u001b[0;32mreturn\u001b[0m \u001b[0mfunc\u001b[0m\u001b[0;34m(\u001b[0m\u001b[0;34m*\u001b[0m\u001b[0margs\u001b[0m\u001b[0;34m,\u001b[0m \u001b[0;34m**\u001b[0m\u001b[0mkw\u001b[0m\u001b[0;34m)\u001b[0m\u001b[0;34m\u001b[0m\u001b[0m\n\u001b[1;32m      5\u001b[0m     \u001b[0;32mreturn\u001b[0m \u001b[0mwrapper\u001b[0m\u001b[0;34m\u001b[0m\u001b[0m\n\u001b[0;32m----> 6\u001b[0;31m \u001b[0;34m@\u001b[0m\u001b[0mlog\u001b[0m\u001b[0;34m(\u001b[0m\u001b[0;34m)\u001b[0m\u001b[0;34m\u001b[0m\u001b[0m\n\u001b[0m\u001b[1;32m      7\u001b[0m \u001b[0;32mdef\u001b[0m \u001b[0mnow\u001b[0m\u001b[0;34m(\u001b[0m\u001b[0;34m)\u001b[0m\u001b[0;34m:\u001b[0m\u001b[0;34m\u001b[0m\u001b[0m\n\u001b[1;32m      8\u001b[0m     \u001b[0mprint\u001b[0m\u001b[0;34m(\u001b[0m\u001b[0;34m'2017-03-12'\u001b[0m\u001b[0;34m)\u001b[0m\u001b[0;34m\u001b[0m\u001b[0m\n",
      "\u001b[0;31mTypeError\u001b[0m: log() missing 1 required positional argument: 'func'"
     ]
    }
   ],
   "source": [
    "def log(func):\n",
    "    def wrapper(*args, **kw):\n",
    "        print('call %s():' % func.__name__)\n",
    "        return func(*args, **kw)\n",
    "    return wrapper\n",
    "@log()\n",
    "def now():\n",
    "    print('2017-03-12')"
   ]
  },
  {
   "cell_type": "code",
   "execution_count": 114,
   "metadata": {
    "collapsed": false,
    "nbpresent": {
     "id": "6ca39151-e253-4bcc-993b-70df715a567b"
    }
   },
   "outputs": [
    {
     "name": "stdout",
     "output_type": "stream",
     "text": [
      "execute now():\n",
      "2017-03-12\n"
     ]
    }
   ],
   "source": [
    "now()\n",
    "#调用now()函数，不仅会运行now()函数本身，还会在运行now()函数前打印一行日志：\n",
    "#把@log放到now()函数的定义处，相当于执行了语句：now = log(now)\n",
    "#wrapper()函数的参数定义是(*args, **kw)，因此，wrapper()函数可以接受任意参数的调用。\n",
    "#在wrapper()函数内，首先打印日志，再紧接着调用原始函数。"
   ]
  },
  {
   "cell_type": "markdown",
   "metadata": {
    "nbpresent": {
     "id": "cdedbd54-ea6e-4c15-bafd-4000ef76455c"
    }
   },
   "source": [
    "如果decorator本身需要传入参数，那就需要编写一个返回decorator的高阶函数，写出来会更复杂。比如，要自定义log的文本："
   ]
  },
  {
   "cell_type": "code",
   "execution_count": 127,
   "metadata": {
    "collapsed": false,
    "nbpresent": {
     "id": "2d38d518-d655-44ea-9141-3082f4c329f4"
    }
   },
   "outputs": [],
   "source": [
    "def log(text):\n",
    "    def decorator(func):\n",
    "        def wrapper(*args,**kw):\n",
    "            print('call %s():' %func.__name__ )\n",
    "            return func(*args,**kw)\n",
    "        return wrapper\n",
    "    return decorator\n",
    "@log('execute')\n",
    "def now():\n",
    "    print('2017-02-19')"
   ]
  },
  {
   "cell_type": "code",
   "execution_count": 128,
   "metadata": {
    "collapsed": false,
    "nbpresent": {
     "id": "7634242e-411e-4a76-bc52-151b87764c8f"
    }
   },
   "outputs": [
    {
     "name": "stdout",
     "output_type": "stream",
     "text": [
      "call now():\n",
      "2017-02-19\n"
     ]
    }
   ],
   "source": [
    "now()"
   ]
  },
  {
   "cell_type": "markdown",
   "metadata": {
    "nbpresent": {
     "id": "0bdb64b3-dd8d-46a5-b307-3ba9c79daec3"
    }
   },
   "source": [
    "和两层嵌套的decorator相比，3层嵌套的效果是这样的：now = log('execute')(now)\n",
    "首先执行log('execute')，返回的是decorator函数，再调用返回的函数，参数是now函数，返回值最终是wrapper函数。"
   ]
  },
  {
   "cell_type": "code",
   "execution_count": 95,
   "metadata": {
    "collapsed": false
   },
   "outputs": [
    {
     "data": {
      "text/plain": [
       "'wrapper'"
      ]
     },
     "execution_count": 95,
     "metadata": {},
     "output_type": "execute_result"
    }
   ],
   "source": [
    "now.__name__"
   ]
  },
  {
   "cell_type": "markdown",
   "metadata": {},
   "source": [
    "以上两种decorator的定义都没有问题，但还差最后一步。因为我们讲了函数也是对象，它有__name__等属性，但你去看经过decorator装饰之后的函数，它们的__name__已经从原来的'now'变成了'wrapper'：\n",
    "因为返回的那个wrapper()函数名字就是'wrapper'，所以，需要把原始函数的__name__等属性复制到wrapper()函数中，否则，有些依赖函数签名的代码执行就会出错。\n",
    "\n",
    "不需要编写wrapper.__name__ = func.__name__这样的代码，Python内置的functools.wraps就是干这个事的，所以，一个完整的decorator的写法如下："
   ]
  },
  {
   "cell_type": "code",
   "execution_count": 105,
   "metadata": {
    "collapsed": true
   },
   "outputs": [],
   "source": [
    "import functools\n",
    "def log(func):\n",
    "    @functools.wraps(func)\n",
    "    def wrapper(*args,**kw):\n",
    "        print('call %s():' %func.__name__ )\n",
    "        return func(*args,**kw)\n",
    "    return wrapper\n",
    "@log\n",
    "def now():\n",
    "    print('2017-02-19')"
   ]
  },
  {
   "cell_type": "code",
   "execution_count": 106,
   "metadata": {
    "collapsed": false
   },
   "outputs": [
    {
     "name": "stdout",
     "output_type": "stream",
     "text": [
      "call now():\n",
      "2017-02-19\n"
     ]
    }
   ],
   "source": [
    "now()"
   ]
  },
  {
   "cell_type": "code",
   "execution_count": 98,
   "metadata": {
    "collapsed": false
   },
   "outputs": [
    {
     "data": {
      "text/plain": [
       "'now'"
      ]
     },
     "execution_count": 98,
     "metadata": {},
     "output_type": "execute_result"
    }
   ],
   "source": [
    "now.__name__"
   ]
  },
  {
   "cell_type": "code",
   "execution_count": 116,
   "metadata": {
    "collapsed": true
   },
   "outputs": [],
   "source": [
    "import functools\n",
    "\n",
    "def log(text):\n",
    "    def decorator(func):\n",
    "        @functools.wraps(func)\n",
    "        def wrapper(*args, **kw):\n",
    "            print('%s %s():' % (text, func.__name__))\n",
    "            return func(*args, **kw)\n",
    "        return wrapper\n",
    "    return decorator\n",
    "\n",
    "@log('execute')\n",
    "def now():\n",
    "    print('2017-03-12')"
   ]
  },
  {
   "cell_type": "code",
   "execution_count": 117,
   "metadata": {
    "collapsed": false
   },
   "outputs": [
    {
     "name": "stdout",
     "output_type": "stream",
     "text": [
      "execute now():\n",
      "2017-03-12\n"
     ]
    }
   ],
   "source": [
    "now()"
   ]
  },
  {
   "cell_type": "markdown",
   "metadata": {},
   "source": [
    "只需记住在定义wrapper()的前面加上@functools.wraps(func)即可。"
   ]
  },
  {
   "cell_type": "code",
   "execution_count": 119,
   "metadata": {
    "collapsed": false
   },
   "outputs": [
    {
     "data": {
      "text/plain": [
       "'now'"
      ]
     },
     "execution_count": 119,
     "metadata": {},
     "output_type": "execute_result"
    }
   ],
   "source": [
    "now.__name__"
   ]
  },
  {
   "cell_type": "markdown",
   "metadata": {},
   "source": [
    "偏函数\n",
    "\n",
    "简单总结functools.partial的作用就是，把一个函数的某些参数给固定住（也就是设置默认值)后返回一个新的函数，调用这个新函数会更简单。\n",
    "注意到上面的新的int2函数，仅仅是把base参数重新设定默认值为2，但也可以在函数调用时传入其他值："
   ]
  },
  {
   "cell_type": "code",
   "execution_count": 120,
   "metadata": {
    "collapsed": false
   },
   "outputs": [
    {
     "data": {
      "text/plain": [
       "5349"
      ]
     },
     "execution_count": 120,
     "metadata": {},
     "output_type": "execute_result"
    }
   ],
   "source": [
    "int('12345',base=8)"
   ]
  },
  {
   "cell_type": "code",
   "execution_count": 121,
   "metadata": {
    "collapsed": true
   },
   "outputs": [],
   "source": [
    "import functools \n",
    "int2 = functools.partial(int,base=2)"
   ]
  },
  {
   "cell_type": "code",
   "execution_count": 123,
   "metadata": {
    "collapsed": false
   },
   "outputs": [
    {
     "data": {
      "text/plain": [
       "22"
      ]
     },
     "execution_count": 123,
     "metadata": {},
     "output_type": "execute_result"
    }
   ],
   "source": [
    "int2('10110')"
   ]
  },
  {
   "cell_type": "markdown",
   "metadata": {},
   "source": [
    "简单总结functools.partial的作用就是，把一个函数的某些参数给固定住（也就是设置默认值），返回一个新的函数，调用这个新函数会更简单。\n",
    "functolls.partial的输入参数包括一个函数和函数的某几个取值\n",
    "当函数的参数个数太多，需要简化时，使用functools.partial可以创建一个新的函数，这个新函数可以固定住原函数的部分参数，从而在调用时更简单。"
   ]
  }
 ],
 "metadata": {
  "celltoolbar": "Raw Cell Format",
  "kernelspec": {
   "display_name": "Python [Root]",
   "language": "python",
   "name": "Python [Root]"
  },
  "language_info": {
   "codemirror_mode": {
    "name": "ipython",
    "version": 3
   },
   "file_extension": ".py",
   "mimetype": "text/x-python",
   "name": "python",
   "nbconvert_exporter": "python",
   "pygments_lexer": "ipython3",
   "version": "3.5.2"
  },
  "nbpresent": {
   "slides": {
    "0132582b-669e-4f8e-ba7c-1c4e0a9be081": {
     "id": "0132582b-669e-4f8e-ba7c-1c4e0a9be081",
     "prev": "2d25d54d-257c-444b-8eaf-91a89fd0ed90",
     "regions": {
      "60b77cce-ac94-4fb2-b356-98771d53e562": {
       "attrs": {
        "height": 0.8,
        "width": 0.8,
        "x": 0.1,
        "y": 0.1
       },
       "content": {
        "cell": "d3141422-15c7-4eb0-aefc-830c7d57eb07",
        "part": "whole"
       },
       "id": "60b77cce-ac94-4fb2-b356-98771d53e562"
      }
     }
    },
    "01e9ec1b-e299-4f74-aa2a-79c7fa63b339": {
     "id": "01e9ec1b-e299-4f74-aa2a-79c7fa63b339",
     "prev": null,
     "regions": {
      "530f1f21-88b2-4922-a20f-5d79eb98e682": {
       "attrs": {
        "height": 0.8,
        "width": 0.8,
        "x": 0.1,
        "y": 0.1
       },
       "content": {
        "cell": "6fd0108e-f982-4bd2-94f9-9661864c42e7",
        "part": "whole"
       },
       "id": "530f1f21-88b2-4922-a20f-5d79eb98e682"
      }
     }
    },
    "067ee7bd-7b2f-4306-8491-f80df59c14c6": {
     "id": "067ee7bd-7b2f-4306-8491-f80df59c14c6",
     "prev": "be85b7d7-ac28-4ad5-9e95-4d702de21af5",
     "regions": {
      "ea36deae-e1b6-4b68-b871-df5687196399": {
       "attrs": {
        "height": 0.8,
        "width": 0.8,
        "x": 0.1,
        "y": 0.1
       },
       "content": {
        "cell": "304ee4f7-2487-43da-9e58-c84314a9b8e8",
        "part": "whole"
       },
       "id": "ea36deae-e1b6-4b68-b871-df5687196399"
      }
     }
    },
    "077028e2-5934-4342-b547-de8aefd83b45": {
     "id": "077028e2-5934-4342-b547-de8aefd83b45",
     "prev": "139c019f-7e78-4984-bb9e-f023d3235bb2",
     "regions": {
      "6d96cd9a-60e5-4f33-bd0b-2ea8b329dea9": {
       "attrs": {
        "height": 0.8,
        "width": 0.8,
        "x": 0.1,
        "y": 0.1
       },
       "content": {
        "cell": "443ac6ef-b34b-4f59-9ea3-908fed22e538",
        "part": "whole"
       },
       "id": "6d96cd9a-60e5-4f33-bd0b-2ea8b329dea9"
      }
     }
    },
    "0af7a135-263e-4075-b337-6974497e1c6e": {
     "id": "0af7a135-263e-4075-b337-6974497e1c6e",
     "prev": "d6617552-a2db-4f95-b7e9-014511dab2ff",
     "regions": {
      "f84b6dbb-dded-4368-b420-c452332cb32d": {
       "attrs": {
        "height": 0.8,
        "width": 0.8,
        "x": 0.1,
        "y": 0.1
       },
       "content": {
        "cell": "2c1791e9-be18-4002-8842-66eda141de7a",
        "part": "whole"
       },
       "id": "f84b6dbb-dded-4368-b420-c452332cb32d"
      }
     }
    },
    "0d5985b6-febd-49b2-9349-2594ab363548": {
     "id": "0d5985b6-febd-49b2-9349-2594ab363548",
     "prev": "2b70622b-1e97-43f9-9bd9-a2637f79d046",
     "regions": {
      "33b0055d-6f6e-4615-8954-bc6493eb99c1": {
       "attrs": {
        "height": 0.8,
        "width": 0.8,
        "x": 0.1,
        "y": 0.1
       },
       "content": {
        "cell": "6616bfff-09c5-4a28-a64c-dc3b2c69c7ed",
        "part": "whole"
       },
       "id": "33b0055d-6f6e-4615-8954-bc6493eb99c1"
      }
     }
    },
    "0e460217-d4fc-49d2-9a06-2d2654d825f3": {
     "id": "0e460217-d4fc-49d2-9a06-2d2654d825f3",
     "prev": "25d822f9-16a2-4f00-87de-758dbad5d38a",
     "regions": {
      "326c1121-f204-4087-9493-035b1b7377a4": {
       "attrs": {
        "height": 0.8,
        "width": 0.8,
        "x": 0.1,
        "y": 0.1
       },
       "content": {
        "cell": "b21c8823-7cb7-4f53-b51d-c7d145fd889c",
        "part": "whole"
       },
       "id": "326c1121-f204-4087-9493-035b1b7377a4"
      }
     }
    },
    "0fe16da6-3270-47c3-98a6-08f437aef072": {
     "id": "0fe16da6-3270-47c3-98a6-08f437aef072",
     "prev": "de5962d2-27e5-4624-8b27-f79b24018925",
     "regions": {
      "e7d1bab9-081b-444c-be0e-fcdcf48dfdff": {
       "attrs": {
        "height": 0.8,
        "width": 0.8,
        "x": 0.1,
        "y": 0.1
       },
       "content": {
        "cell": "9b0d9b75-fed6-41ff-92ed-2d1b8341e664",
        "part": "whole"
       },
       "id": "e7d1bab9-081b-444c-be0e-fcdcf48dfdff"
      }
     }
    },
    "139c019f-7e78-4984-bb9e-f023d3235bb2": {
     "id": "139c019f-7e78-4984-bb9e-f023d3235bb2",
     "prev": "7123fb1a-d43f-4f53-8569-b3a9d7f60c2c",
     "regions": {
      "13cf1819-498c-46ba-8e00-0b9b07e8789f": {
       "attrs": {
        "height": 0.8,
        "width": 0.8,
        "x": 0.1,
        "y": 0.1
       },
       "content": {
        "cell": "b13ca323-e007-4c1c-b76e-0c968f12caa2",
        "part": "whole"
       },
       "id": "13cf1819-498c-46ba-8e00-0b9b07e8789f"
      }
     }
    },
    "173fd6de-18b2-4acc-b85e-fa1c2ee6188e": {
     "id": "173fd6de-18b2-4acc-b85e-fa1c2ee6188e",
     "prev": "3640c5f5-b591-44ef-b696-f41d3fa3c90e",
     "regions": {
      "953c5902-a88a-4751-836e-4a91d27ebdc7": {
       "attrs": {
        "height": 0.8,
        "width": 0.8,
        "x": 0.1,
        "y": 0.1
       },
       "content": {
        "cell": "0147935b-c60b-48e5-ae90-fc0721e49473",
        "part": "whole"
       },
       "id": "953c5902-a88a-4751-836e-4a91d27ebdc7"
      }
     }
    },
    "19d2767c-8f65-4f66-bdec-a862a3864271": {
     "id": "19d2767c-8f65-4f66-bdec-a862a3864271",
     "prev": "fa37f51b-d6dd-4333-bb10-1085af372099",
     "regions": {
      "72afa25c-7754-4975-8324-5429b420b641": {
       "attrs": {
        "height": 0.8,
        "width": 0.8,
        "x": 0.1,
        "y": 0.1
       },
       "content": {
        "cell": "709694d1-d7c9-4d77-aafe-309ba1fccfba",
        "part": "whole"
       },
       "id": "72afa25c-7754-4975-8324-5429b420b641"
      }
     }
    },
    "1a8dfc8c-e149-41f0-b388-3217dbc6835c": {
     "id": "1a8dfc8c-e149-41f0-b388-3217dbc6835c",
     "prev": "628d1983-06e8-4c38-9233-ce265c2658a1",
     "regions": {
      "0de41a0f-2b61-4780-b03b-57a70ad7186b": {
       "attrs": {
        "height": 0.8,
        "width": 0.8,
        "x": 0.1,
        "y": 0.1
       },
       "content": {
        "cell": "5a86a15d-3035-4175-9d23-9f9a41174848",
        "part": "whole"
       },
       "id": "0de41a0f-2b61-4780-b03b-57a70ad7186b"
      }
     }
    },
    "21664e8c-bbf4-4601-b911-9a17c43dad9a": {
     "id": "21664e8c-bbf4-4601-b911-9a17c43dad9a",
     "prev": "50fdbb7c-b944-49b7-bbf7-90ad457d1a70",
     "regions": {
      "4355454e-9603-4d89-911b-65c4a986cfb8": {
       "attrs": {
        "height": 0.8,
        "width": 0.8,
        "x": 0.1,
        "y": 0.1
       },
       "content": {
        "cell": "5ea41e0c-203c-4869-8a2e-594ccedcbff6",
        "part": "whole"
       },
       "id": "4355454e-9603-4d89-911b-65c4a986cfb8"
      }
     }
    },
    "219ba53b-783b-45dc-a6f6-2047aa0639e3": {
     "id": "219ba53b-783b-45dc-a6f6-2047aa0639e3",
     "prev": "173fd6de-18b2-4acc-b85e-fa1c2ee6188e",
     "regions": {
      "71b8aa18-c492-4559-be79-bc43d9544430": {
       "attrs": {
        "height": 0.8,
        "width": 0.8,
        "x": 0.1,
        "y": 0.1
       },
       "content": {
        "cell": "f5d65cfd-1a6b-45a8-8ddb-43dcffbde80f",
        "part": "whole"
       },
       "id": "71b8aa18-c492-4559-be79-bc43d9544430"
      }
     }
    },
    "25d822f9-16a2-4f00-87de-758dbad5d38a": {
     "id": "25d822f9-16a2-4f00-87de-758dbad5d38a",
     "prev": "40db61f1-909e-4db4-95ef-c72a32259b1e",
     "regions": {
      "6f6682fc-845b-4b1e-83d6-798eee24fe49": {
       "attrs": {
        "height": 0.8,
        "width": 0.8,
        "x": 0.1,
        "y": 0.1
       },
       "content": {
        "cell": "048eaa6e-9bee-4984-b6d2-219de569687b",
        "part": "whole"
       },
       "id": "6f6682fc-845b-4b1e-83d6-798eee24fe49"
      }
     }
    },
    "264c2a58-e405-4863-9fae-36c4d06bcbeb": {
     "id": "264c2a58-e405-4863-9fae-36c4d06bcbeb",
     "prev": "ac669e31-700d-498e-bbab-eb723fd3d3d3",
     "regions": {
      "8270a831-1085-43a0-bc87-625701b07151": {
       "attrs": {
        "height": 0.8,
        "width": 0.8,
        "x": 0.1,
        "y": 0.1
       },
       "content": {
        "cell": "3c072ec7-af00-453a-862f-aefb245c856b",
        "part": "whole"
       },
       "id": "8270a831-1085-43a0-bc87-625701b07151"
      }
     }
    },
    "27f71217-965a-4447-bfc5-78d0e14de978": {
     "id": "27f71217-965a-4447-bfc5-78d0e14de978",
     "prev": "077028e2-5934-4342-b547-de8aefd83b45",
     "regions": {
      "71836f45-8614-4eda-8b83-9f0379c4898c": {
       "attrs": {
        "height": 0.8,
        "width": 0.8,
        "x": 0.1,
        "y": 0.1
       },
       "content": {
        "cell": "eb8a5b05-6914-416e-88bf-00499edaa487",
        "part": "whole"
       },
       "id": "71836f45-8614-4eda-8b83-9f0379c4898c"
      }
     }
    },
    "2a6180ed-4815-4af1-8b5c-ba2e061a2b94": {
     "id": "2a6180ed-4815-4af1-8b5c-ba2e061a2b94",
     "prev": "0af7a135-263e-4075-b337-6974497e1c6e",
     "regions": {
      "74044528-7ae5-4966-aba1-317876127efe": {
       "attrs": {
        "height": 0.8,
        "width": 0.8,
        "x": 0.1,
        "y": 0.1
       },
       "content": {
        "cell": "7d529568-c9c6-4f32-b8ff-2ed829ed5d4b",
        "part": "whole"
       },
       "id": "74044528-7ae5-4966-aba1-317876127efe"
      }
     }
    },
    "2b70622b-1e97-43f9-9bd9-a2637f79d046": {
     "id": "2b70622b-1e97-43f9-9bd9-a2637f79d046",
     "prev": "d3f6f33a-dcf7-4122-afd3-03f2918a4821",
     "regions": {
      "6ac78128-4b31-42f3-82c4-d60db866a4bb": {
       "attrs": {
        "height": 0.8,
        "width": 0.8,
        "x": 0.1,
        "y": 0.1
       },
       "content": {
        "cell": "7a2a272a-1576-46ed-a274-327a167b250c",
        "part": "whole"
       },
       "id": "6ac78128-4b31-42f3-82c4-d60db866a4bb"
      }
     }
    },
    "2c7eb0a0-1a5d-41d0-acab-8eabc171406f": {
     "id": "2c7eb0a0-1a5d-41d0-acab-8eabc171406f",
     "prev": "c27f2c7c-cb6f-4f8f-a544-f9c33a7cef3f",
     "regions": {
      "6a616e25-b8ab-42f8-babf-b06215ed77b9": {
       "attrs": {
        "height": 0.8,
        "width": 0.8,
        "x": 0.1,
        "y": 0.1
       },
       "content": {
        "cell": "7634242e-411e-4a76-bc52-151b87764c8f",
        "part": "whole"
       },
       "id": "6a616e25-b8ab-42f8-babf-b06215ed77b9"
      }
     }
    },
    "2d25d54d-257c-444b-8eaf-91a89fd0ed90": {
     "id": "2d25d54d-257c-444b-8eaf-91a89fd0ed90",
     "prev": "19d2767c-8f65-4f66-bdec-a862a3864271",
     "regions": {
      "2e328000-c82d-4e38-9035-e54269ba95b2": {
       "attrs": {
        "height": 0.8,
        "width": 0.8,
        "x": 0.1,
        "y": 0.1
       },
       "content": {
        "cell": "ccdbca35-832f-443e-8044-e19c33040871",
        "part": "whole"
       },
       "id": "2e328000-c82d-4e38-9035-e54269ba95b2"
      }
     }
    },
    "2d55d503-a04d-4024-82bc-e937a6a00fe1": {
     "id": "2d55d503-a04d-4024-82bc-e937a6a00fe1",
     "prev": "bdf8a0ca-8171-4275-9921-9e8c8122655a",
     "regions": {
      "a0740ddf-2e98-496b-b974-ea349a686587": {
       "attrs": {
        "height": 0.8,
        "width": 0.8,
        "x": 0.1,
        "y": 0.1
       },
       "content": {
        "cell": "108b2e5a-81dc-4d76-8a7f-a9d2fd7bc2fe",
        "part": "whole"
       },
       "id": "a0740ddf-2e98-496b-b974-ea349a686587"
      }
     }
    },
    "2ec8ff6a-acf3-4d82-9c45-2f9bc2e388f9": {
     "id": "2ec8ff6a-acf3-4d82-9c45-2f9bc2e388f9",
     "prev": "0132582b-669e-4f8e-ba7c-1c4e0a9be081",
     "regions": {
      "0a0a2773-2c4c-47cd-9f3c-a542abbaa82d": {
       "attrs": {
        "height": 0.8,
        "width": 0.8,
        "x": 0.1,
        "y": 0.1
       },
       "content": {
        "cell": "87d305cb-6920-43d5-8e56-50bcb704b7ce",
        "part": "whole"
       },
       "id": "0a0a2773-2c4c-47cd-9f3c-a542abbaa82d"
      }
     }
    },
    "35a6a048-21c8-429c-85da-6c90435628f2": {
     "id": "35a6a048-21c8-429c-85da-6c90435628f2",
     "prev": "3632e343-e5d8-4f46-afeb-639b1e9420ee",
     "regions": {
      "f2b7d5de-8fd4-4d34-88b7-cf923c988ec5": {
       "attrs": {
        "height": 0.8,
        "width": 0.8,
        "x": 0.1,
        "y": 0.1
       },
       "content": {
        "cell": "32410315-6930-4eac-9d2a-429155e6531e",
        "part": "whole"
       },
       "id": "f2b7d5de-8fd4-4d34-88b7-cf923c988ec5"
      }
     }
    },
    "3632e343-e5d8-4f46-afeb-639b1e9420ee": {
     "id": "3632e343-e5d8-4f46-afeb-639b1e9420ee",
     "prev": "0e460217-d4fc-49d2-9a06-2d2654d825f3",
     "regions": {
      "85e38430-ab38-4bfb-be60-ba8a2efc8a3b": {
       "attrs": {
        "height": 0.8,
        "width": 0.8,
        "x": 0.1,
        "y": 0.1
       },
       "content": {
        "cell": "2b17918c-3913-4635-aec9-9742f26b1582",
        "part": "whole"
       },
       "id": "85e38430-ab38-4bfb-be60-ba8a2efc8a3b"
      }
     }
    },
    "3640c5f5-b591-44ef-b696-f41d3fa3c90e": {
     "id": "3640c5f5-b591-44ef-b696-f41d3fa3c90e",
     "prev": "de810d10-7614-4a12-be54-cb72d7dc703c",
     "regions": {
      "d2686298-04f3-4bc5-9db2-b8954f46c031": {
       "attrs": {
        "height": 0.8,
        "width": 0.8,
        "x": 0.1,
        "y": 0.1
       },
       "content": {
        "cell": "c6ff19eb-37a7-4b04-b13d-9d20008bcae4",
        "part": "whole"
       },
       "id": "d2686298-04f3-4bc5-9db2-b8954f46c031"
      }
     }
    },
    "403d784c-31d4-491f-9acb-24a2345fd972": {
     "id": "403d784c-31d4-491f-9acb-24a2345fd972",
     "prev": "067ee7bd-7b2f-4306-8491-f80df59c14c6",
     "regions": {
      "26d4f636-b346-40eb-a995-82fd4de97214": {
       "attrs": {
        "height": 0.8,
        "width": 0.8,
        "x": 0.1,
        "y": 0.1
       },
       "content": {
        "cell": "3fd439cc-e654-4292-86ab-fe34ca1b4cca",
        "part": "whole"
       },
       "id": "26d4f636-b346-40eb-a995-82fd4de97214"
      }
     }
    },
    "40db61f1-909e-4db4-95ef-c72a32259b1e": {
     "id": "40db61f1-909e-4db4-95ef-c72a32259b1e",
     "prev": "403d784c-31d4-491f-9acb-24a2345fd972",
     "regions": {
      "1988c648-0433-4362-870a-5261cebaffda": {
       "attrs": {
        "height": 0.8,
        "width": 0.8,
        "x": 0.1,
        "y": 0.1
       },
       "content": {
        "cell": "a3c404cb-d02d-48ab-a332-203284383614",
        "part": "whole"
       },
       "id": "1988c648-0433-4362-870a-5261cebaffda"
      }
     }
    },
    "50fdbb7c-b944-49b7-bbf7-90ad457d1a70": {
     "id": "50fdbb7c-b944-49b7-bbf7-90ad457d1a70",
     "prev": "b2f14e2e-31b5-413d-bba7-8e86232bcbeb",
     "regions": {
      "35be9f15-3cf2-45d4-97e5-5a0b68a8b1ec": {
       "attrs": {
        "height": 0.8,
        "width": 0.8,
        "x": 0.1,
        "y": 0.1
       },
       "content": {
        "cell": "7df9e3e5-23e6-4e25-b45e-5ef4572557fe",
        "part": "whole"
       },
       "id": "35be9f15-3cf2-45d4-97e5-5a0b68a8b1ec"
      }
     }
    },
    "53a73315-615a-4235-80c9-9dbbff4a3820": {
     "id": "53a73315-615a-4235-80c9-9dbbff4a3820",
     "prev": "21664e8c-bbf4-4601-b911-9a17c43dad9a",
     "regions": {
      "01c7357d-557d-402c-a15f-3eaf28c2526f": {
       "attrs": {
        "height": 0.8,
        "width": 0.8,
        "x": 0.1,
        "y": 0.1
       },
       "content": {
        "cell": "513b7d21-0ba2-41d4-8904-d72172c9e428",
        "part": "whole"
       },
       "id": "01c7357d-557d-402c-a15f-3eaf28c2526f"
      }
     }
    },
    "5586418e-507e-444a-ac65-4c6769448243": {
     "id": "5586418e-507e-444a-ac65-4c6769448243",
     "prev": "fae28848-1d83-4a2b-a90e-b57abacc6310",
     "regions": {
      "6ab64875-3297-497a-9314-ecbfb225bf17": {
       "attrs": {
        "height": 0.8,
        "width": 0.8,
        "x": 0.1,
        "y": 0.1
       },
       "content": {
        "cell": "cdedbd54-ea6e-4c15-bafd-4000ef76455c",
        "part": "whole"
       },
       "id": "6ab64875-3297-497a-9314-ecbfb225bf17"
      }
     }
    },
    "5c7ad468-ca2f-41c9-98bc-44af748a5a44": {
     "id": "5c7ad468-ca2f-41c9-98bc-44af748a5a44",
     "prev": "bfd51666-b42b-437d-a597-f90a4dc73aec",
     "regions": {
      "c603732a-0777-4057-8a76-db955bf42c0c": {
       "attrs": {
        "height": 0.8,
        "width": 0.8,
        "x": 0.1,
        "y": 0.1
       },
       "content": {
        "cell": "cd9efb6d-b711-4294-947d-1a99a74841cc",
        "part": "whole"
       },
       "id": "c603732a-0777-4057-8a76-db955bf42c0c"
      }
     }
    },
    "5eb71a43-f78d-4fb6-adb9-a02e361f0fc5": {
     "id": "5eb71a43-f78d-4fb6-adb9-a02e361f0fc5",
     "prev": "a84b6f29-957c-4d38-8dfe-e05588eccc7e",
     "regions": {
      "762a6ce7-485a-44a6-8b46-b9ebaef7d24f": {
       "attrs": {
        "height": 0.8,
        "width": 0.8,
        "x": 0.1,
        "y": 0.1
       },
       "content": {
        "cell": "7a8cde91-139b-487e-8abe-de7fa7fed945",
        "part": "whole"
       },
       "id": "762a6ce7-485a-44a6-8b46-b9ebaef7d24f"
      }
     }
    },
    "5f1fa228-dee2-4e5d-a0f4-a4582d24f0f0": {
     "id": "5f1fa228-dee2-4e5d-a0f4-a4582d24f0f0",
     "prev": "c9f781d2-12be-4c42-af31-bc935bb7f964",
     "regions": {
      "844da412-6843-4958-8d15-245da93b409d": {
       "attrs": {
        "height": 0.8,
        "width": 0.8,
        "x": 0.1,
        "y": 0.1
       },
       "content": {
        "cell": "41f80b1b-f51b-41bd-8033-505765af8734",
        "part": "whole"
       },
       "id": "844da412-6843-4958-8d15-245da93b409d"
      }
     }
    },
    "612def93-6633-44ef-b8a0-341ef47a4fb9": {
     "id": "612def93-6633-44ef-b8a0-341ef47a4fb9",
     "prev": "a1be9c09-6c2d-4305-800d-350c19e4b91e",
     "regions": {
      "9d0c9900-4898-4c7a-af4b-88e03c3827c0": {
       "attrs": {
        "height": 0.8,
        "width": 0.8,
        "x": 0.1,
        "y": 0.1
       },
       "content": {
        "cell": "e6039d14-9080-47af-a0c7-0e57f5b251ed",
        "part": "whole"
       },
       "id": "9d0c9900-4898-4c7a-af4b-88e03c3827c0"
      }
     }
    },
    "628d1983-06e8-4c38-9233-ce265c2658a1": {
     "id": "628d1983-06e8-4c38-9233-ce265c2658a1",
     "prev": "ffac4848-aac0-43c7-83f0-7a02ea8a83be",
     "regions": {
      "bac1a9d4-d21b-4dd6-8ee8-fa648386a059": {
       "attrs": {
        "height": 0.8,
        "width": 0.8,
        "x": 0.1,
        "y": 0.1
       },
       "content": {
        "cell": "79e99dd6-b411-4966-bbc3-91906099af3b",
        "part": "whole"
       },
       "id": "bac1a9d4-d21b-4dd6-8ee8-fa648386a059"
      }
     }
    },
    "66c8ce00-4b1a-41ee-a867-1c7cd973bee5": {
     "id": "66c8ce00-4b1a-41ee-a867-1c7cd973bee5",
     "prev": "27f71217-965a-4447-bfc5-78d0e14de978",
     "regions": {
      "17c00d26-7872-4e4a-a837-08c533e5f1c3": {
       "attrs": {
        "height": 0.8,
        "width": 0.8,
        "x": 0.1,
        "y": 0.1
       },
       "content": {
        "cell": "bd79035c-8e36-425a-a353-19cd7d254568",
        "part": "whole"
       },
       "id": "17c00d26-7872-4e4a-a837-08c533e5f1c3"
      }
     }
    },
    "6df1132d-baf9-4b6f-9794-d997ea12d888": {
     "id": "6df1132d-baf9-4b6f-9794-d997ea12d888",
     "prev": "a835a223-4800-4431-ba34-01ea2aff258e",
     "regions": {
      "8f4c5132-674a-4f36-9d50-4d7cb68f8a91": {
       "attrs": {
        "height": 0.8,
        "width": 0.8,
        "x": 0.1,
        "y": 0.1
       },
       "content": {
        "cell": "9d0ce8de-1959-4f50-9d45-52efd2b82ee1",
        "part": "whole"
       },
       "id": "8f4c5132-674a-4f36-9d50-4d7cb68f8a91"
      }
     }
    },
    "709f980c-e859-406f-af26-a0c8bc7131ba": {
     "id": "709f980c-e859-406f-af26-a0c8bc7131ba",
     "prev": "ae628811-59b8-4015-a37c-fd1bef4852e4",
     "regions": {
      "57df8848-b722-415d-b467-bc378fa51416": {
       "attrs": {
        "height": 0.8,
        "width": 0.8,
        "x": 0.1,
        "y": 0.1
       },
       "content": {
        "cell": "0cba68fd-3759-47c9-b0b8-438da553975e",
        "part": "whole"
       },
       "id": "57df8848-b722-415d-b467-bc378fa51416"
      }
     }
    },
    "7123fb1a-d43f-4f53-8569-b3a9d7f60c2c": {
     "id": "7123fb1a-d43f-4f53-8569-b3a9d7f60c2c",
     "prev": "89c2ebf4-6281-41dc-ab50-11e3a6c7fa45",
     "regions": {
      "c8a50ef2-e4e2-438e-8204-900e5e247585": {
       "attrs": {
        "height": 0.8,
        "width": 0.8,
        "x": 0.1,
        "y": 0.1
       },
       "content": {
        "cell": "a5f7d40c-69a6-4a04-8ee5-5e5bf546122b",
        "part": "whole"
       },
       "id": "c8a50ef2-e4e2-438e-8204-900e5e247585"
      }
     }
    },
    "89c2ebf4-6281-41dc-ab50-11e3a6c7fa45": {
     "id": "89c2ebf4-6281-41dc-ab50-11e3a6c7fa45",
     "prev": "35a6a048-21c8-429c-85da-6c90435628f2",
     "regions": {
      "718b4d9e-3fe0-4f67-9a24-0b276d3b89d3": {
       "attrs": {
        "height": 0.8,
        "width": 0.8,
        "x": 0.1,
        "y": 0.1
       },
       "content": {
        "cell": "10e00340-147d-4c72-9ec1-07a8e11cfd22",
        "part": "whole"
       },
       "id": "718b4d9e-3fe0-4f67-9a24-0b276d3b89d3"
      }
     }
    },
    "8eb70796-ab92-49f3-8b1e-4c8de99b762d": {
     "id": "8eb70796-ab92-49f3-8b1e-4c8de99b762d",
     "prev": "ada73f47-9c54-407b-9039-3a2f4c147619",
     "regions": {
      "25669290-2378-4b65-b735-44e4f04b76a1": {
       "attrs": {
        "height": 0.8,
        "width": 0.8,
        "x": 0.1,
        "y": 0.1
       },
       "content": {
        "cell": "0e3efc33-9559-494e-91e9-47ce370b7c23",
        "part": "whole"
       },
       "id": "25669290-2378-4b65-b735-44e4f04b76a1"
      }
     }
    },
    "8f0a4cb4-7db3-4bd7-bacc-4b7da1e5079c": {
     "id": "8f0a4cb4-7db3-4bd7-bacc-4b7da1e5079c",
     "prev": "c404bccb-8496-4c57-826d-0488913b0de5",
     "regions": {
      "2f445ee3-4d36-4ce6-9ca9-e9910ec5fd68": {
       "attrs": {
        "height": 0.8,
        "width": 0.8,
        "x": 0.1,
        "y": 0.1
       },
       "content": {
        "cell": "0aeaba56-5c7e-45f3-a07a-e3b970b5e1f1",
        "part": "whole"
       },
       "id": "2f445ee3-4d36-4ce6-9ca9-e9910ec5fd68"
      }
     }
    },
    "a1be9c09-6c2d-4305-800d-350c19e4b91e": {
     "id": "a1be9c09-6c2d-4305-800d-350c19e4b91e",
     "prev": "1a8dfc8c-e149-41f0-b388-3217dbc6835c",
     "regions": {
      "1d8dd511-3f40-4d84-9c7f-36e780e67b21": {
       "attrs": {
        "height": 0.8,
        "width": 0.8,
        "x": 0.1,
        "y": 0.1
       },
       "content": {
        "cell": "2866ea00-89b7-4113-aa5f-b9aca8e0a181",
        "part": "whole"
       },
       "id": "1d8dd511-3f40-4d84-9c7f-36e780e67b21"
      }
     }
    },
    "a835a223-4800-4431-ba34-01ea2aff258e": {
     "id": "a835a223-4800-4431-ba34-01ea2aff258e",
     "prev": "5f1fa228-dee2-4e5d-a0f4-a4582d24f0f0",
     "regions": {
      "3e3b52af-cf99-499e-b46c-d893e145a375": {
       "attrs": {
        "height": 0.8,
        "width": 0.8,
        "x": 0.1,
        "y": 0.1
       },
       "content": {
        "cell": "72a888f4-e748-4a3b-bab4-bec9c40a7bcb",
        "part": "whole"
       },
       "id": "3e3b52af-cf99-499e-b46c-d893e145a375"
      }
     }
    },
    "a84b6f29-957c-4d38-8dfe-e05588eccc7e": {
     "id": "a84b6f29-957c-4d38-8dfe-e05588eccc7e",
     "prev": "c1061843-0fce-4ae1-9295-8b291bb6fa31",
     "regions": {
      "ca660d89-765b-44dc-84bf-1045695ebdda": {
       "attrs": {
        "height": 0.8,
        "width": 0.8,
        "x": 0.1,
        "y": 0.1
       },
       "content": {
        "cell": "52e16563-1b4a-4157-b88a-bd87889c496c",
        "part": "whole"
       },
       "id": "ca660d89-765b-44dc-84bf-1045695ebdda"
      }
     }
    },
    "a9cca000-e7fc-434a-b2ff-6d7941d19990": {
     "id": "a9cca000-e7fc-434a-b2ff-6d7941d19990",
     "prev": "b4cefee6-3f50-4c1b-8bf7-c4e0cc202aeb",
     "regions": {
      "ef5c2564-b4b6-4f38-9967-aecca2ce6f7d": {
       "attrs": {
        "height": 0.8,
        "width": 0.8,
        "x": 0.1,
        "y": 0.1
       },
       "content": {
        "cell": "e3be6adf-534d-4334-a9c8-b0851b72630d",
        "part": "whole"
       },
       "id": "ef5c2564-b4b6-4f38-9967-aecca2ce6f7d"
      }
     }
    },
    "ac669e31-700d-498e-bbab-eb723fd3d3d3": {
     "id": "ac669e31-700d-498e-bbab-eb723fd3d3d3",
     "prev": "0d5985b6-febd-49b2-9349-2594ab363548",
     "regions": {
      "6809a869-f371-43fe-a1f5-1ee323fb2c62": {
       "attrs": {
        "height": 0.8,
        "width": 0.8,
        "x": 0.1,
        "y": 0.1
       },
       "content": {
        "cell": "495dd9d7-a84a-425f-8d36-318275778ce1",
        "part": "whole"
       },
       "id": "6809a869-f371-43fe-a1f5-1ee323fb2c62"
      }
     }
    },
    "ada73f47-9c54-407b-9039-3a2f4c147619": {
     "id": "ada73f47-9c54-407b-9039-3a2f4c147619",
     "prev": "af830a74-8921-444f-a21d-c5eb4a4f7cd1",
     "regions": {
      "4d0ba1f0-9ff4-4b8a-ba91-3de074c5f8f2": {
       "attrs": {
        "height": 0.8,
        "width": 0.8,
        "x": 0.1,
        "y": 0.1
       },
       "content": {
        "cell": "60e60794-4c0c-48b9-8ebb-5a396e20f2b8",
        "part": "whole"
       },
       "id": "4d0ba1f0-9ff4-4b8a-ba91-3de074c5f8f2"
      }
     }
    },
    "adf22785-40ef-4d4d-9f90-97eeec65a705": {
     "id": "adf22785-40ef-4d4d-9f90-97eeec65a705",
     "prev": "f63007e6-ca82-450a-94d4-41cadb790cf8",
     "regions": {
      "e3c8d415-5eae-4bfb-85da-0ac7e231e3ba": {
       "attrs": {
        "height": 0.8,
        "width": 0.8,
        "x": 0.1,
        "y": 0.1
       },
       "content": {
        "cell": "abb792b9-f414-4d1c-b131-094dcb3301ec",
        "part": "whole"
       },
       "id": "e3c8d415-5eae-4bfb-85da-0ac7e231e3ba"
      }
     }
    },
    "ae628811-59b8-4015-a37c-fd1bef4852e4": {
     "id": "ae628811-59b8-4015-a37c-fd1bef4852e4",
     "prev": "b9cce66e-2871-44d7-8647-91e59673d8ff",
     "regions": {
      "7f011d46-ebbd-486e-b193-684e9e5bd166": {
       "attrs": {
        "height": 0.8,
        "width": 0.8,
        "x": 0.1,
        "y": 0.1
       },
       "content": {
        "cell": "feb348d7-39d9-4f29-b459-81a93d9d710a",
        "part": "whole"
       },
       "id": "7f011d46-ebbd-486e-b193-684e9e5bd166"
      }
     }
    },
    "af830a74-8921-444f-a21d-c5eb4a4f7cd1": {
     "id": "af830a74-8921-444f-a21d-c5eb4a4f7cd1",
     "prev": "e2ed27ec-7bbf-4e5f-97b9-3b9f80727877",
     "regions": {
      "12440625-857f-48b3-a141-1a708e037568": {
       "attrs": {
        "height": 0.8,
        "width": 0.8,
        "x": 0.1,
        "y": 0.1
       },
       "content": {
        "cell": "811e7094-461a-4dc1-8c78-642883984b09",
        "part": "whole"
       },
       "id": "12440625-857f-48b3-a141-1a708e037568"
      }
     }
    },
    "b2f14e2e-31b5-413d-bba7-8e86232bcbeb": {
     "id": "b2f14e2e-31b5-413d-bba7-8e86232bcbeb",
     "prev": "adf22785-40ef-4d4d-9f90-97eeec65a705",
     "regions": {
      "35f96343-1237-4d94-852a-c0a1f45556fa": {
       "attrs": {
        "height": 0.8,
        "width": 0.8,
        "x": 0.1,
        "y": 0.1
       },
       "content": {
        "cell": "ed349283-8477-44e9-9045-9f0703c6d645",
        "part": "whole"
       },
       "id": "35f96343-1237-4d94-852a-c0a1f45556fa"
      }
     }
    },
    "b33a294d-4b33-44bb-99f4-e0cefbebc832": {
     "id": "b33a294d-4b33-44bb-99f4-e0cefbebc832",
     "prev": "8eb70796-ab92-49f3-8b1e-4c8de99b762d",
     "regions": {
      "234af6ea-8328-40b1-8754-71ecd29e286b": {
       "attrs": {
        "height": 0.8,
        "width": 0.8,
        "x": 0.1,
        "y": 0.1
       },
       "content": {
        "cell": "82c8deb3-3a1b-4ad1-a733-a0240e74af9f",
        "part": "whole"
       },
       "id": "234af6ea-8328-40b1-8754-71ecd29e286b"
      }
     }
    },
    "b448561c-5b4d-47c2-b448-9eb3568162ee": {
     "id": "b448561c-5b4d-47c2-b448-9eb3568162ee",
     "prev": "c23e935f-708a-429f-b770-78d8db578875",
     "regions": {
      "1743430a-7d26-4bf1-ba1a-a4c668639a42": {
       "attrs": {
        "height": 0.8,
        "width": 0.8,
        "x": 0.1,
        "y": 0.1
       },
       "content": {
        "cell": "538fa9ae-4079-4e61-8242-5b5e298af6df",
        "part": "whole"
       },
       "id": "1743430a-7d26-4bf1-ba1a-a4c668639a42"
      }
     }
    },
    "b4cefee6-3f50-4c1b-8bf7-c4e0cc202aeb": {
     "id": "b4cefee6-3f50-4c1b-8bf7-c4e0cc202aeb",
     "prev": "0fe16da6-3270-47c3-98a6-08f437aef072",
     "regions": {
      "13e0cb38-843d-43c6-a984-4a2a456fc088": {
       "attrs": {
        "height": 0.8,
        "width": 0.8,
        "x": 0.1,
        "y": 0.1
       },
       "content": {
        "cell": "dfd215bf-3d3a-453f-b12c-2412b14890b5",
        "part": "whole"
       },
       "id": "13e0cb38-843d-43c6-a984-4a2a456fc088"
      }
     }
    },
    "b9cce66e-2871-44d7-8647-91e59673d8ff": {
     "id": "b9cce66e-2871-44d7-8647-91e59673d8ff",
     "prev": "b448561c-5b4d-47c2-b448-9eb3568162ee",
     "regions": {
      "f24541af-94d1-4afb-a36d-079397403fa0": {
       "attrs": {
        "height": 0.8,
        "width": 0.8,
        "x": 0.1,
        "y": 0.1
       },
       "content": {
        "cell": "b6b14c20-19d6-446f-b06f-fd0d398b4a17",
        "part": "whole"
       },
       "id": "f24541af-94d1-4afb-a36d-079397403fa0"
      }
     }
    },
    "ba8137de-cd44-495f-894e-6de7c7b568d8": {
     "id": "ba8137de-cd44-495f-894e-6de7c7b568d8",
     "prev": "2a6180ed-4815-4af1-8b5c-ba2e061a2b94",
     "regions": {
      "2256e4ec-268e-4d18-9a2e-5bf45324e3d3": {
       "attrs": {
        "height": 0.8,
        "width": 0.8,
        "x": 0.1,
        "y": 0.1
       },
       "content": {
        "cell": "fadab037-6e9e-40f2-b67e-313251c948f6",
        "part": "whole"
       },
       "id": "2256e4ec-268e-4d18-9a2e-5bf45324e3d3"
      }
     }
    },
    "bdf8a0ca-8171-4275-9921-9e8c8122655a": {
     "id": "bdf8a0ca-8171-4275-9921-9e8c8122655a",
     "prev": "53a73315-615a-4235-80c9-9dbbff4a3820",
     "regions": {
      "495cb2aa-06b0-4bb4-b6c6-3260fd4dd45a": {
       "attrs": {
        "height": 0.8,
        "width": 0.8,
        "x": 0.1,
        "y": 0.1
       },
       "content": {
        "cell": "b8679fcf-fa10-4f3d-a823-6ebd46426fcc",
        "part": "whole"
       },
       "id": "495cb2aa-06b0-4bb4-b6c6-3260fd4dd45a"
      }
     }
    },
    "be85b7d7-ac28-4ad5-9e95-4d702de21af5": {
     "id": "be85b7d7-ac28-4ad5-9e95-4d702de21af5",
     "prev": "219ba53b-783b-45dc-a6f6-2047aa0639e3",
     "regions": {
      "5945e9d6-1c12-443c-b99f-cdeda3d1cfb7": {
       "attrs": {
        "height": 0.8,
        "width": 0.8,
        "x": 0.1,
        "y": 0.1
       },
       "content": {
        "cell": "f1075b29-1cef-4bdb-817b-1356b7f36461",
        "part": "whole"
       },
       "id": "5945e9d6-1c12-443c-b99f-cdeda3d1cfb7"
      }
     }
    },
    "bfd51666-b42b-437d-a597-f90a4dc73aec": {
     "id": "bfd51666-b42b-437d-a597-f90a4dc73aec",
     "prev": "2ec8ff6a-acf3-4d82-9c45-2f9bc2e388f9",
     "regions": {
      "e6a48742-3103-4141-9e27-8ec5f7324253": {
       "attrs": {
        "height": 0.8,
        "width": 0.8,
        "x": 0.1,
        "y": 0.1
       },
       "content": {
        "cell": "bf66bef6-2129-46fb-a7fa-7d1dc9805cfe",
        "part": "whole"
       },
       "id": "e6a48742-3103-4141-9e27-8ec5f7324253"
      }
     }
    },
    "c1061843-0fce-4ae1-9295-8b291bb6fa31": {
     "id": "c1061843-0fce-4ae1-9295-8b291bb6fa31",
     "prev": "ba8137de-cd44-495f-894e-6de7c7b568d8",
     "regions": {
      "9b8ec46a-1511-48e5-97ea-478d0b323693": {
       "attrs": {
        "height": 0.8,
        "width": 0.8,
        "x": 0.1,
        "y": 0.1
       },
       "content": {
        "cell": "7cd01455-0e91-4e35-ab06-071c65242d56",
        "part": "whole"
       },
       "id": "9b8ec46a-1511-48e5-97ea-478d0b323693"
      }
     }
    },
    "c23e935f-708a-429f-b770-78d8db578875": {
     "id": "c23e935f-708a-429f-b770-78d8db578875",
     "prev": "cca93b43-cd9c-4c9a-8c7b-9941402803c5",
     "regions": {
      "948e61be-2888-4922-ab3f-49229ce1cd16": {
       "attrs": {
        "height": 0.8,
        "width": 0.8,
        "x": 0.1,
        "y": 0.1
       },
       "content": {
        "cell": "437ea7d8-03c6-46fa-a2c1-f5492178e8a5",
        "part": "whole"
       },
       "id": "948e61be-2888-4922-ab3f-49229ce1cd16"
      }
     }
    },
    "c27f2c7c-cb6f-4f8f-a544-f9c33a7cef3f": {
     "id": "c27f2c7c-cb6f-4f8f-a544-f9c33a7cef3f",
     "prev": "5586418e-507e-444a-ac65-4c6769448243",
     "regions": {
      "41650c2c-8c46-4d6f-8773-b8901019e188": {
       "attrs": {
        "height": 0.8,
        "width": 0.8,
        "x": 0.1,
        "y": 0.1
       },
       "content": {
        "cell": "2d38d518-d655-44ea-9141-3082f4c329f4",
        "part": "whole"
       },
       "id": "41650c2c-8c46-4d6f-8773-b8901019e188"
      }
     }
    },
    "c404bccb-8496-4c57-826d-0488913b0de5": {
     "id": "c404bccb-8496-4c57-826d-0488913b0de5",
     "prev": "db67d8c4-95d2-48f9-807d-d383ba4865e3",
     "regions": {
      "53195d1e-a79b-484a-ba0c-04bb057257a1": {
       "attrs": {
        "height": 0.8,
        "width": 0.8,
        "x": 0.1,
        "y": 0.1
       },
       "content": {
        "cell": "3e6067c6-8cd2-4d73-8893-5ac00226ba24",
        "part": "whole"
       },
       "id": "53195d1e-a79b-484a-ba0c-04bb057257a1"
      }
     }
    },
    "c786b135-66d8-44e9-bfd6-05b77c448f86": {
     "id": "c786b135-66d8-44e9-bfd6-05b77c448f86",
     "prev": "2c7eb0a0-1a5d-41d0-acab-8eabc171406f",
     "regions": {
      "65961a25-0f93-49c4-af4a-3ae2aaadcf3a": {
       "attrs": {
        "height": 0.8,
        "width": 0.8,
        "x": 0.1,
        "y": 0.1
       },
       "content": {
        "cell": "0bdb64b3-dd8d-46a5-b307-3ba9c79daec3",
        "part": "whole"
       },
       "id": "65961a25-0f93-49c4-af4a-3ae2aaadcf3a"
      }
     }
    },
    "c9f781d2-12be-4c42-af31-bc935bb7f964": {
     "id": "c9f781d2-12be-4c42-af31-bc935bb7f964",
     "prev": "b33a294d-4b33-44bb-99f4-e0cefbebc832",
     "regions": {
      "d8ae688c-09fb-4931-8c8d-f258730a57de": {
       "attrs": {
        "height": 0.8,
        "width": 0.8,
        "x": 0.1,
        "y": 0.1
       },
       "content": {
        "cell": "984409ee-3f71-4743-a499-a14e5566db39",
        "part": "whole"
       },
       "id": "d8ae688c-09fb-4931-8c8d-f258730a57de"
      }
     }
    },
    "cca93b43-cd9c-4c9a-8c7b-9941402803c5": {
     "id": "cca93b43-cd9c-4c9a-8c7b-9941402803c5",
     "prev": "8f0a4cb4-7db3-4bd7-bacc-4b7da1e5079c",
     "regions": {
      "1700417a-01d1-481a-84a8-d4e2db8d715d": {
       "attrs": {
        "height": 0.8,
        "width": 0.8,
        "x": 0.1,
        "y": 0.1
       },
       "content": {
        "cell": "1c779aa8-b7a3-47eb-b936-ae139b09b306",
        "part": "whole"
       },
       "id": "1700417a-01d1-481a-84a8-d4e2db8d715d"
      }
     }
    },
    "d3f6f33a-dcf7-4122-afd3-03f2918a4821": {
     "id": "d3f6f33a-dcf7-4122-afd3-03f2918a4821",
     "prev": "01e9ec1b-e299-4f74-aa2a-79c7fa63b339",
     "regions": {
      "68dbb2d9-1ef6-4020-98ad-1ad85350e0e2": {
       "attrs": {
        "height": 0.8,
        "width": 0.8,
        "x": 0.1,
        "y": 0.1
       },
       "content": {
        "cell": "6fd0108e-f982-4bd2-94f9-9661864c42e7",
        "part": "whole"
       },
       "id": "68dbb2d9-1ef6-4020-98ad-1ad85350e0e2"
      }
     }
    },
    "d6617552-a2db-4f95-b7e9-014511dab2ff": {
     "id": "d6617552-a2db-4f95-b7e9-014511dab2ff",
     "prev": "5c7ad468-ca2f-41c9-98bc-44af748a5a44",
     "regions": {
      "9762329c-ce7a-4f44-a91c-2f44367c40d9": {
       "attrs": {
        "height": 0.8,
        "width": 0.8,
        "x": 0.1,
        "y": 0.1
       },
       "content": {
        "cell": "1772353f-e433-4126-a654-72017bf3f5f3",
        "part": "whole"
       },
       "id": "9762329c-ce7a-4f44-a91c-2f44367c40d9"
      }
     }
    },
    "db67d8c4-95d2-48f9-807d-d383ba4865e3": {
     "id": "db67d8c4-95d2-48f9-807d-d383ba4865e3",
     "prev": "a9cca000-e7fc-434a-b2ff-6d7941d19990",
     "regions": {
      "c2e5d9bf-f2f1-4491-ba02-0d78ac9fb33c": {
       "attrs": {
        "height": 0.8,
        "width": 0.8,
        "x": 0.1,
        "y": 0.1
       },
       "content": {
        "cell": "5799554e-70b0-4427-89fe-c2663f7adfff",
        "part": "whole"
       },
       "id": "c2e5d9bf-f2f1-4491-ba02-0d78ac9fb33c"
      }
     }
    },
    "de5962d2-27e5-4624-8b27-f79b24018925": {
     "id": "de5962d2-27e5-4624-8b27-f79b24018925",
     "prev": "e9f9846d-ad66-46f9-9a51-2dfa417fe4d6",
     "regions": {
      "6a0ae415-a63d-4dda-afa8-b8dbf1ebe1ab": {
       "attrs": {
        "height": 0.8,
        "width": 0.8,
        "x": 0.1,
        "y": 0.1
       },
       "content": {
        "cell": "f9386ad0-ebbe-4e5c-beaf-1f11549a8abe",
        "part": "whole"
       },
       "id": "6a0ae415-a63d-4dda-afa8-b8dbf1ebe1ab"
      }
     }
    },
    "de810d10-7614-4a12-be54-cb72d7dc703c": {
     "id": "de810d10-7614-4a12-be54-cb72d7dc703c",
     "prev": "5eb71a43-f78d-4fb6-adb9-a02e361f0fc5",
     "regions": {
      "a55e495f-6a9b-4ada-bd4a-658b466e637b": {
       "attrs": {
        "height": 0.8,
        "width": 0.8,
        "x": 0.1,
        "y": 0.1
       },
       "content": {
        "cell": "cf18fdf6-aec2-493f-8fd3-c7fe3c97b20d",
        "part": "whole"
       },
       "id": "a55e495f-6a9b-4ada-bd4a-658b466e637b"
      }
     }
    },
    "e2ed27ec-7bbf-4e5f-97b9-3b9f80727877": {
     "id": "e2ed27ec-7bbf-4e5f-97b9-3b9f80727877",
     "prev": "f8a8e71a-e0a2-4672-a028-ec2712ef305f",
     "regions": {
      "125f9fca-79f2-4035-991e-800197f000dc": {
       "attrs": {
        "height": 0.8,
        "width": 0.8,
        "x": 0.1,
        "y": 0.1
       },
       "content": {
        "cell": "d2f81484-b080-4b34-af86-ce147d8fdd11",
        "part": "whole"
       },
       "id": "125f9fca-79f2-4035-991e-800197f000dc"
      }
     }
    },
    "e9f9846d-ad66-46f9-9a51-2dfa417fe4d6": {
     "id": "e9f9846d-ad66-46f9-9a51-2dfa417fe4d6",
     "prev": "6df1132d-baf9-4b6f-9794-d997ea12d888",
     "regions": {
      "c24be1a8-ed8d-4912-bc29-cd9b9ad4dadf": {
       "attrs": {
        "height": 0.8,
        "width": 0.8,
        "x": 0.1,
        "y": 0.1
       },
       "content": {
        "cell": "ce6af8ef-4a4a-450b-aaaa-6a8cd2f152fa",
        "part": "whole"
       },
       "id": "c24be1a8-ed8d-4912-bc29-cd9b9ad4dadf"
      }
     }
    },
    "f63007e6-ca82-450a-94d4-41cadb790cf8": {
     "id": "f63007e6-ca82-450a-94d4-41cadb790cf8",
     "prev": "709f980c-e859-406f-af26-a0c8bc7131ba",
     "regions": {
      "214b9569-9300-493e-b79d-a7da2993ae05": {
       "attrs": {
        "height": 0.8,
        "width": 0.8,
        "x": 0.1,
        "y": 0.1
       },
       "content": {
        "cell": "d4ccf2df-0710-4ddd-aa86-bcb9aab55028",
        "part": "whole"
       },
       "id": "214b9569-9300-493e-b79d-a7da2993ae05"
      }
     }
    },
    "f8a8e71a-e0a2-4672-a028-ec2712ef305f": {
     "id": "f8a8e71a-e0a2-4672-a028-ec2712ef305f",
     "prev": "66c8ce00-4b1a-41ee-a867-1c7cd973bee5",
     "regions": {
      "4d7cd272-7094-451d-a610-0bdba4d6e96f": {
       "attrs": {
        "height": 0.8,
        "width": 0.8,
        "x": 0.1,
        "y": 0.1
       },
       "content": {
        "cell": "9ae84410-11a7-4842-a223-13fa7920035e",
        "part": "whole"
       },
       "id": "4d7cd272-7094-451d-a610-0bdba4d6e96f"
      }
     }
    },
    "fa37f51b-d6dd-4333-bb10-1085af372099": {
     "id": "fa37f51b-d6dd-4333-bb10-1085af372099",
     "prev": "612def93-6633-44ef-b8a0-341ef47a4fb9",
     "regions": {
      "7063f904-6a65-4951-b17c-289fae9db5e1": {
       "attrs": {
        "height": 0.8,
        "width": 0.8,
        "x": 0.1,
        "y": 0.1
       },
       "content": {
        "cell": "cfc6b03f-c904-4956-a649-674afa9e2942",
        "part": "whole"
       },
       "id": "7063f904-6a65-4951-b17c-289fae9db5e1"
      }
     }
    },
    "fae28848-1d83-4a2b-a90e-b57abacc6310": {
     "id": "fae28848-1d83-4a2b-a90e-b57abacc6310",
     "prev": "2d55d503-a04d-4024-82bc-e937a6a00fe1",
     "regions": {
      "52bad985-ab3a-41e3-85e9-4615b4e97c54": {
       "attrs": {
        "height": 0.8,
        "width": 0.8,
        "x": 0.1,
        "y": 0.1
       },
       "content": {
        "cell": "6ca39151-e253-4bcc-993b-70df715a567b",
        "part": "whole"
       },
       "id": "52bad985-ab3a-41e3-85e9-4615b4e97c54"
      }
     }
    },
    "ffac4848-aac0-43c7-83f0-7a02ea8a83be": {
     "id": "ffac4848-aac0-43c7-83f0-7a02ea8a83be",
     "prev": "264c2a58-e405-4863-9fae-36c4d06bcbeb",
     "regions": {
      "532e7b7b-1fa8-4488-8eb9-f9bb63d5c04c": {
       "attrs": {
        "height": 0.8,
        "width": 0.8,
        "x": 0.1,
        "y": 0.1
       },
       "content": {
        "cell": "4202085a-19b7-40cc-b481-643aba118cb9",
        "part": "whole"
       },
       "id": "532e7b7b-1fa8-4488-8eb9-f9bb63d5c04c"
      }
     }
    }
   },
   "themes": {}
  }
 },
 "nbformat": 4,
 "nbformat_minor": 0
}
