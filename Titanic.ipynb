{
 "cells": [
  {
   "cell_type": "markdown",
   "metadata": {},
   "source": [
    "# Titanic ［分类任务］"
   ]
  },
  {
   "cell_type": "code",
   "execution_count": 2,
   "metadata": {
    "collapsed": false
   },
   "outputs": [],
   "source": [
    "# -*- coding: utf-8 -*-\n",
    "# Imports\n",
    "\n",
    "# numpy & pandas\n",
    "import numpy as np\n",
    "import pandas as pd \n",
    "from pandas import Series,DataFrame\n",
    "\n",
    "# matplotlib,seaborn\n",
    "import matplotlib.pyplot as plt\n",
    "import seaborn as sns\n",
    "    #sns.set_style(\"\")  darkgrid, whitegrid, dark, white, and ticks\n",
    "%matplotlib inline  \n",
    "#如果不写这句话，图像出不来   ipython魔法命令\n",
    "#使用%matplotlib命令可以将matplotlib的图表直接嵌入到Notebook之中，或者使用指定的界面库显示图表，\n",
    "#它有一个参数指定matplotlib图表的显示方式。\n",
    "\n",
    "#inline表示将图表嵌入到Notebook中,所创建的图表将直接显示在该单元之下。\n",
    "\n",
    "#ipython 魔法命令 IPython提供了许多魔法命令，使得在IPython环境中的操作更加得心应手。\n",
    "#魔法命令都以%或者%%开头，以%开头的成为行命令，%%开头的称为单元命令。\n",
    "#行命令只对命令所在的行有效，而单元命令则必须出现在单元的第一行，对整个单元的代码进行处理。\n",
    "\n",
    "\n",
    "# machine learning\n",
    "from sklearn.linear_model import LogisticRegression\n",
    "from sklearn.svm import SVC,LinearSVC\n",
    "from sklearn.ensemble import RandomForestClassifier\n",
    "from sklearn.neighbors import KNeighborsClassifier\n",
    "from sklearn.naive_bayes import GaussianNB\n",
    "\n",
    "    "
   ]
  },
  {
   "cell_type": "code",
   "execution_count": 3,
   "metadata": {
    "collapsed": false
   },
   "outputs": [
    {
     "data": {
      "text/html": [
       "<div>\n",
       "<table border=\"1\" class=\"dataframe\">\n",
       "  <thead>\n",
       "    <tr style=\"text-align: right;\">\n",
       "      <th></th>\n",
       "      <th>PassengerId</th>\n",
       "      <th>Survived</th>\n",
       "      <th>Pclass</th>\n",
       "      <th>Name</th>\n",
       "      <th>Sex</th>\n",
       "      <th>Age</th>\n",
       "      <th>SibSp</th>\n",
       "      <th>Parch</th>\n",
       "      <th>Ticket</th>\n",
       "      <th>Fare</th>\n",
       "      <th>Cabin</th>\n",
       "      <th>Embarked</th>\n",
       "    </tr>\n",
       "  </thead>\n",
       "  <tbody>\n",
       "    <tr>\n",
       "      <th>0</th>\n",
       "      <td>1</td>\n",
       "      <td>0</td>\n",
       "      <td>3</td>\n",
       "      <td>Braund, Mr. Owen Harris</td>\n",
       "      <td>male</td>\n",
       "      <td>22.0</td>\n",
       "      <td>1</td>\n",
       "      <td>0</td>\n",
       "      <td>A/5 21171</td>\n",
       "      <td>7.2500</td>\n",
       "      <td>NaN</td>\n",
       "      <td>S</td>\n",
       "    </tr>\n",
       "    <tr>\n",
       "      <th>1</th>\n",
       "      <td>2</td>\n",
       "      <td>1</td>\n",
       "      <td>1</td>\n",
       "      <td>Cumings, Mrs. John Bradley (Florence Briggs Th...</td>\n",
       "      <td>female</td>\n",
       "      <td>38.0</td>\n",
       "      <td>1</td>\n",
       "      <td>0</td>\n",
       "      <td>PC 17599</td>\n",
       "      <td>71.2833</td>\n",
       "      <td>C85</td>\n",
       "      <td>C</td>\n",
       "    </tr>\n",
       "    <tr>\n",
       "      <th>2</th>\n",
       "      <td>3</td>\n",
       "      <td>1</td>\n",
       "      <td>3</td>\n",
       "      <td>Heikkinen, Miss. Laina</td>\n",
       "      <td>female</td>\n",
       "      <td>26.0</td>\n",
       "      <td>0</td>\n",
       "      <td>0</td>\n",
       "      <td>STON/O2. 3101282</td>\n",
       "      <td>7.9250</td>\n",
       "      <td>NaN</td>\n",
       "      <td>S</td>\n",
       "    </tr>\n",
       "    <tr>\n",
       "      <th>3</th>\n",
       "      <td>4</td>\n",
       "      <td>1</td>\n",
       "      <td>1</td>\n",
       "      <td>Futrelle, Mrs. Jacques Heath (Lily May Peel)</td>\n",
       "      <td>female</td>\n",
       "      <td>35.0</td>\n",
       "      <td>1</td>\n",
       "      <td>0</td>\n",
       "      <td>113803</td>\n",
       "      <td>53.1000</td>\n",
       "      <td>C123</td>\n",
       "      <td>S</td>\n",
       "    </tr>\n",
       "    <tr>\n",
       "      <th>4</th>\n",
       "      <td>5</td>\n",
       "      <td>0</td>\n",
       "      <td>3</td>\n",
       "      <td>Allen, Mr. William Henry</td>\n",
       "      <td>male</td>\n",
       "      <td>35.0</td>\n",
       "      <td>0</td>\n",
       "      <td>0</td>\n",
       "      <td>373450</td>\n",
       "      <td>8.0500</td>\n",
       "      <td>NaN</td>\n",
       "      <td>S</td>\n",
       "    </tr>\n",
       "  </tbody>\n",
       "</table>\n",
       "</div>"
      ],
      "text/plain": [
       "   PassengerId  Survived  Pclass  \\\n",
       "0            1         0       3   \n",
       "1            2         1       1   \n",
       "2            3         1       3   \n",
       "3            4         1       1   \n",
       "4            5         0       3   \n",
       "\n",
       "                                                Name     Sex   Age  SibSp  \\\n",
       "0                            Braund, Mr. Owen Harris    male  22.0      1   \n",
       "1  Cumings, Mrs. John Bradley (Florence Briggs Th...  female  38.0      1   \n",
       "2                             Heikkinen, Miss. Laina  female  26.0      0   \n",
       "3       Futrelle, Mrs. Jacques Heath (Lily May Peel)  female  35.0      1   \n",
       "4                           Allen, Mr. William Henry    male  35.0      0   \n",
       "\n",
       "   Parch            Ticket     Fare Cabin Embarked  \n",
       "0      0         A/5 21171   7.2500   NaN        S  \n",
       "1      0          PC 17599  71.2833   C85        C  \n",
       "2      0  STON/O2. 3101282   7.9250   NaN        S  \n",
       "3      0            113803  53.1000  C123        S  \n",
       "4      0            373450   8.0500   NaN        S  "
      ]
     },
     "execution_count": 3,
     "metadata": {},
     "output_type": "execute_result"
    }
   ],
   "source": [
    "# get titanic & test csv files as a DataFrame\n",
    "titanic_df = pd.read_csv(\"/Users/emily/Desktop/kaggle项目/Titanic/data/train.csv\",dtype={\"Age\":np.float64,\"Embarked\" :np.string_},header=0,)\n",
    "test_df = pd.read_csv(\"/Users/emily/Desktop/kaggle项目/Titanic/data/test.csv\",dtype={\"Age\":np.float64},header=0,)\n",
    "\n",
    "# preview the data\n",
    "titanic_df.head()"
   ]
  },
  {
   "cell_type": "code",
   "execution_count": 4,
   "metadata": {
    "collapsed": false
   },
   "outputs": [
    {
     "name": "stdout",
     "output_type": "stream",
     "text": [
      "<class 'pandas.core.frame.DataFrame'>\n",
      "RangeIndex: 891 entries, 0 to 890\n",
      "Data columns (total 12 columns):\n",
      "PassengerId    891 non-null int64\n",
      "Survived       891 non-null int64\n",
      "Pclass         891 non-null int64\n",
      "Name           891 non-null object\n",
      "Sex            891 non-null object\n",
      "Age            714 non-null float64\n",
      "SibSp          891 non-null int64\n",
      "Parch          891 non-null int64\n",
      "Ticket         891 non-null object\n",
      "Fare           891 non-null float64\n",
      "Cabin          204 non-null object\n",
      "Embarked       889 non-null object\n",
      "dtypes: float64(2), int64(5), object(5)\n",
      "memory usage: 83.6+ KB\n",
      "----------------------------\n",
      "<class 'pandas.core.frame.DataFrame'>\n",
      "RangeIndex: 418 entries, 0 to 417\n",
      "Data columns (total 11 columns):\n",
      "PassengerId    418 non-null int64\n",
      "Pclass         418 non-null int64\n",
      "Name           418 non-null object\n",
      "Sex            418 non-null object\n",
      "Age            332 non-null float64\n",
      "SibSp          418 non-null int64\n",
      "Parch          418 non-null int64\n",
      "Ticket         418 non-null object\n",
      "Fare           417 non-null float64\n",
      "Cabin          91 non-null object\n",
      "Embarked       418 non-null object\n",
      "dtypes: float64(2), int64(4), object(5)\n",
      "memory usage: 36.0+ KB\n"
     ]
    }
   ],
   "source": [
    "titanic_df.info()\n",
    "print(\"----------------------------\")\n",
    "test_df.info()"
   ]
  },
  {
   "cell_type": "code",
   "execution_count": 5,
   "metadata": {
    "collapsed": false
   },
   "outputs": [
    {
     "name": "stdout",
     "output_type": "stream",
     "text": [
      "<class 'pandas.core.frame.DataFrame'>\n",
      "RangeIndex: 891 entries, 0 to 890\n",
      "Data columns (total 9 columns):\n",
      "Survived    891 non-null int64\n",
      "Pclass      891 non-null int64\n",
      "Sex         891 non-null object\n",
      "Age         714 non-null float64\n",
      "SibSp       891 non-null int64\n",
      "Parch       891 non-null int64\n",
      "Fare        891 non-null float64\n",
      "Cabin       204 non-null object\n",
      "Embarked    889 non-null object\n",
      "dtypes: float64(2), int64(4), object(3)\n",
      "memory usage: 62.7+ KB\n",
      "<class 'pandas.core.frame.DataFrame'>\n",
      "RangeIndex: 418 entries, 0 to 417\n",
      "Data columns (total 9 columns):\n",
      "PassengerId    418 non-null int64\n",
      "Pclass         418 non-null int64\n",
      "Sex            418 non-null object\n",
      "Age            332 non-null float64\n",
      "SibSp          418 non-null int64\n",
      "Parch          418 non-null int64\n",
      "Fare           417 non-null float64\n",
      "Cabin          91 non-null object\n",
      "Embarked       418 non-null object\n",
      "dtypes: float64(2), int64(4), object(3)\n",
      "memory usage: 29.5+ KB\n"
     ]
    }
   ],
   "source": [
    "# drop unnecessary columns, these columns won't be useful in analysis and prediction\n",
    "titanic_df = titanic_df.drop(['PassengerId','Name','Ticket'], axis=1)\n",
    "test_df    = test_df.drop(['Name','Ticket'], axis=1)\n",
    "titanic_df.info()\n",
    "test_df.info()"
   ]
  },
  {
   "cell_type": "markdown",
   "metadata": {},
   "source": [
    "## 数据预处理：\n",
    "逐一对变量进行缺失值处理，并画图探究异常值，并探究分布特点"
   ]
  },
  {
   "cell_type": "markdown",
   "metadata": {},
   "source": [
    "### 变量Embarked －类别型变量"
   ]
  },
  {
   "cell_type": "code",
   "execution_count": 6,
   "metadata": {
    "collapsed": false
   },
   "outputs": [
    {
     "data": {
      "text/plain": [
       "count     889\n",
       "unique      3\n",
       "top         S\n",
       "freq      644\n",
       "Name: Embarked, dtype: object"
      ]
     },
     "execution_count": 6,
     "metadata": {},
     "output_type": "execute_result"
    }
   ],
   "source": [
    "# show embarked's descriptive information\n",
    "titanic_df['Embarked'].describe()"
   ]
  },
  {
   "cell_type": "markdown",
   "metadata": {},
   "source": [
    "DataFrame的汇总统计描述［pandas包］\n",
    "DataFrame.describe()返回非NA的数量、unique数量、most common和most common所占的频率\n",
    "可知most common值为S。\n",
    "#from sklearn.preprocessing import Imputer\n",
    "#imp = Imputer(strategy='most_frequent',copy=False)\n",
    "#imp.fit(titanic_df['Embarked'][titanic_df['Embarked'].notnull()])\n",
    "用sklearn实现时，会出现格式不匹配的问题，待研究\n",
    "df.info()返回数据框的数据类型信息和计数\n",
    "df.describe()返回汇总和描述统计信息，针对数值型数据与非数值型数据返回的汇总统计信息不同。\n",
    "dataframe.info()与dataframe.describe()实现不同的功能，不能混为一谈"
   ]
  },
  {
   "cell_type": "code",
   "execution_count": 7,
   "metadata": {
    "collapsed": false
   },
   "outputs": [
    {
     "data": {
      "text/plain": [
       "Survived    0.553571\n",
       "Pclass      0.553571\n",
       "Sex         0.553571\n",
       "Age         0.607692\n",
       "SibSp       0.553571\n",
       "Parch       0.553571\n",
       "Fare        0.553571\n",
       "Cabin       0.753623\n",
       "Embarked    0.553571\n",
       "dtype: float64"
      ]
     },
     "execution_count": 7,
     "metadata": {},
     "output_type": "execute_result"
    }
   ],
   "source": [
    "X = titanic_df[titanic_df['Embarked']=='C'] #pandas下的dataframe可直接实现指定数据的特定\n",
    "X[X['Survived']==1].count()/X.count()\n",
    "#经过验证，factorplot是针对x变量的每个取值，分别统计y＝1时所占的比例\n",
    "#适用于x多变量，y仅是二元变量的情况"
   ]
  },
  {
   "cell_type": "code",
   "execution_count": 8,
   "metadata": {
    "collapsed": false
   },
   "outputs": [
    {
     "data": {
      "text/plain": [
       "<seaborn.axisgrid.FacetGrid at 0x11aa4dfd0>"
      ]
     },
     "execution_count": 8,
     "metadata": {},
     "output_type": "execute_result"
    },
    {
     "data": {
      "image/png": "[encoded data removed]",
      "text/plain": [
       "<matplotlib.figure.Figure at 0x11aa4df28>"
      ]
     },
     "metadata": {},
     "output_type": "display_data"
    }
   ],
   "source": [
    "# there are only two missing value in titanic_df, fill the two missing value with the most occurred value\n",
    "titanic_df['Embarked'] = titanic_df['Embarked'].fillna(\"S\")\n",
    "\n",
    "# plot \n",
    "sns.factorplot(x='Embarked',y='Survived',data=titanic_df,size=4,aspect=3,kind='point',palette='Set2')"
   ]
  },
  {
   "cell_type": "code",
   "execution_count": 9,
   "metadata": {
    "collapsed": false
   },
   "outputs": [
    {
     "data": {
      "text/plain": [
       "<matplotlib.axes._subplots.AxesSubplot at 0x11aa125f8>"
      ]
     },
     "execution_count": 9,
     "metadata": {},
     "output_type": "execute_result"
    },
    {
     "data": {
      "image/png": "[encoded data removed]",
      "text/plain": [
       "<matplotlib.figure.Figure at 0x11a8c3fd0>"
      ]
     },
     "metadata": {},
     "output_type": "display_data"
    }
   ],
   "source": [
    "# plot\n",
    "fig , (axis1,axis2,axis3) = plt.subplots(1,3,figsize=(15,5))\n",
    "sns.countplot(x='Embarked',data=titanic_df,ax=axis1)#单变量分布\n",
    "sns.countplot(x='Survived',hue='Embarked',data=titanic_df,ax=axis2,order=[1,0])  \n",
    "# countplot总结：y始终是计数值，hue表示第二级分类变量，order表示x的在横坐标上的输出顺序 ax用于指示图形句柄\n",
    "\n",
    "#group by Embarked , and get the mean value for survived passengers for each value in Embarked\n",
    "\n",
    "embark_perc = titanic_df[['Embarked','Survived']].groupby(['Embarked'],as_index=False).mean()#分组后计算组内均值\n",
    "sns.barplot(x='Embarked',y='Survived',data=embark_perc,order=['S','C','Q'],ax=axis3)\n",
    "\n",
    "#注意：dataframe多个列索引，必须将列名以列表的形式输入到索引中，因此需要两对中括号\n",
    "#即 dataframe的索引中接受一个列名的列表\n",
    "#pandas包中的groupby方法可直接实现分组"
   ]
  },
  {
   "cell_type": "markdown",
   "metadata": {},
   "source": [
    "虚拟变量 ( Dummy Variables) 又称虚设变量、名义变量或哑变量，用以反映质的属性的一个人工变量，是量化了的自变量，通常取值为0或1。引入哑变量可使线形回归模型变得更复杂，但对问题描述更简明，一个方程能达到两个方程的作用，而且接近现实。反映文化程度的虚拟变量可取为：1:本科学历；0：非本科学历。原来具有n个取值的类别型变量变成了n个独立的变量，0表示无，1表示有\n",
    "即对类别型变量进行矢量化\n",
    "\n",
    "类别型变量的处理：有序－连续化（用k个有大小的数来表示）\n",
    "               无序－矢量化／向量化（用k维向量表示），每个取值占一列"
   ]
  },
  {
   "cell_type": "markdown",
   "metadata": {},
   "source": [
    "Embarked变量可进行两种处理：\n",
    "1、直接舍弃，逻辑上对预测没有作用\n",
    "2、用于预测，前提是为Embarked赋予哑变量（Dummy Variables),并且删掉了s值，不明白这里的道理！"
   ]
  },
  {
   "cell_type": "code",
   "execution_count": 10,
   "metadata": {
    "collapsed": false
   },
   "outputs": [
    {
     "data": {
      "text/html": [
       "<div>\n",
       "<table border=\"1\" class=\"dataframe\">\n",
       "  <thead>\n",
       "    <tr style=\"text-align: right;\">\n",
       "      <th></th>\n",
       "      <th>PassengerId</th>\n",
       "      <th>Pclass</th>\n",
       "      <th>Sex</th>\n",
       "      <th>Age</th>\n",
       "      <th>SibSp</th>\n",
       "      <th>Parch</th>\n",
       "      <th>Fare</th>\n",
       "      <th>Cabin</th>\n",
       "      <th>Embarked</th>\n",
       "      <th>C</th>\n",
       "      <th>Q</th>\n",
       "    </tr>\n",
       "  </thead>\n",
       "  <tbody>\n",
       "    <tr>\n",
       "      <th>0</th>\n",
       "      <td>892</td>\n",
       "      <td>3</td>\n",
       "      <td>male</td>\n",
       "      <td>34.5</td>\n",
       "      <td>0</td>\n",
       "      <td>0</td>\n",
       "      <td>7.8292</td>\n",
       "      <td>NaN</td>\n",
       "      <td>Q</td>\n",
       "      <td>0.0</td>\n",
       "      <td>1.0</td>\n",
       "    </tr>\n",
       "    <tr>\n",
       "      <th>1</th>\n",
       "      <td>893</td>\n",
       "      <td>3</td>\n",
       "      <td>female</td>\n",
       "      <td>47.0</td>\n",
       "      <td>1</td>\n",
       "      <td>0</td>\n",
       "      <td>7.0000</td>\n",
       "      <td>NaN</td>\n",
       "      <td>S</td>\n",
       "      <td>0.0</td>\n",
       "      <td>0.0</td>\n",
       "    </tr>\n",
       "    <tr>\n",
       "      <th>2</th>\n",
       "      <td>894</td>\n",
       "      <td>2</td>\n",
       "      <td>male</td>\n",
       "      <td>62.0</td>\n",
       "      <td>0</td>\n",
       "      <td>0</td>\n",
       "      <td>9.6875</td>\n",
       "      <td>NaN</td>\n",
       "      <td>Q</td>\n",
       "      <td>0.0</td>\n",
       "      <td>1.0</td>\n",
       "    </tr>\n",
       "    <tr>\n",
       "      <th>3</th>\n",
       "      <td>895</td>\n",
       "      <td>3</td>\n",
       "      <td>male</td>\n",
       "      <td>27.0</td>\n",
       "      <td>0</td>\n",
       "      <td>0</td>\n",
       "      <td>8.6625</td>\n",
       "      <td>NaN</td>\n",
       "      <td>S</td>\n",
       "      <td>0.0</td>\n",
       "      <td>0.0</td>\n",
       "    </tr>\n",
       "    <tr>\n",
       "      <th>4</th>\n",
       "      <td>896</td>\n",
       "      <td>3</td>\n",
       "      <td>female</td>\n",
       "      <td>22.0</td>\n",
       "      <td>1</td>\n",
       "      <td>1</td>\n",
       "      <td>12.2875</td>\n",
       "      <td>NaN</td>\n",
       "      <td>S</td>\n",
       "      <td>0.0</td>\n",
       "      <td>0.0</td>\n",
       "    </tr>\n",
       "  </tbody>\n",
       "</table>\n",
       "</div>"
      ],
      "text/plain": [
       "   PassengerId  Pclass     Sex   Age  SibSp  Parch     Fare Cabin Embarked  \\\n",
       "0          892       3    male  34.5      0      0   7.8292   NaN        Q   \n",
       "1          893       3  female  47.0      1      0   7.0000   NaN        S   \n",
       "2          894       2    male  62.0      0      0   9.6875   NaN        Q   \n",
       "3          895       3    male  27.0      0      0   8.6625   NaN        S   \n",
       "4          896       3  female  22.0      1      1  12.2875   NaN        S   \n",
       "\n",
       "     C    Q  \n",
       "0  0.0  1.0  \n",
       "1  0.0  0.0  \n",
       "2  0.0  1.0  \n",
       "3  0.0  0.0  \n",
       "4  0.0  0.0  "
      ]
     },
     "execution_count": 10,
     "metadata": {},
     "output_type": "execute_result"
    }
   ],
   "source": [
    "#第一种处理方式\n",
    "embark_dummies_titanic = pd.get_dummies(titanic_df['Embarked'])\n",
    "embark_dummies_titanic.drop(['S'],axis=1,inplace=True)\n",
    "embark_dummies_test = pd.get_dummies(test_df['Embarked'])\n",
    "embark_dummies_test.drop(['S'],axis=1,inplace=True)\n",
    "\n",
    "titanic_df = titanic_df.join(embark_dummies_titanic)\n",
    "test_df    = test_df.join(embark_dummies_test)\n",
    "\n",
    "titanic_df.head()\n",
    "test_df.head()\n"
   ]
  },
  {
   "cell_type": "markdown",
   "metadata": {},
   "source": [
    "inplace=True时，会直接修改本地的数据，想要再恢复之前的数据就很难了。"
   ]
  },
  {
   "cell_type": "code",
   "execution_count": 11,
   "metadata": {
    "collapsed": false
   },
   "outputs": [
    {
     "name": "stdout",
     "output_type": "stream",
     "text": [
      "<class 'pandas.core.frame.DataFrame'>\n",
      "RangeIndex: 891 entries, 0 to 890\n",
      "Data columns (total 10 columns):\n",
      "Survived    891 non-null int64\n",
      "Pclass      891 non-null int64\n",
      "Sex         891 non-null object\n",
      "Age         714 non-null float64\n",
      "SibSp       891 non-null int64\n",
      "Parch       891 non-null int64\n",
      "Fare        891 non-null float64\n",
      "Cabin       204 non-null object\n",
      "C           891 non-null float64\n",
      "Q           891 non-null float64\n",
      "dtypes: float64(4), int64(4), object(2)\n",
      "memory usage: 69.7+ KB\n",
      "-------------------\n",
      "<class 'pandas.core.frame.DataFrame'>\n",
      "RangeIndex: 418 entries, 0 to 417\n",
      "Data columns (total 10 columns):\n",
      "PassengerId    418 non-null int64\n",
      "Pclass         418 non-null int64\n",
      "Sex            418 non-null object\n",
      "Age            332 non-null float64\n",
      "SibSp          418 non-null int64\n",
      "Parch          418 non-null int64\n",
      "Fare           417 non-null float64\n",
      "Cabin          91 non-null object\n",
      "C              418 non-null float64\n",
      "Q              418 non-null float64\n",
      "dtypes: float64(4), int64(4), object(2)\n",
      "memory usage: 32.7+ KB\n"
     ]
    }
   ],
   "source": [
    "# 第二种处理方式\n",
    "titanic_df.drop(['Embarked'],axis=1,inplace=True)\n",
    "test_df.drop(['Embarked'],axis=1,inplace=True)\n",
    "\n",
    "titanic_df.info()\n",
    "print(\"-------------------\")\n",
    "test_df.info()\n"
   ]
  },
  {
   "cell_type": "markdown",
   "metadata": {},
   "source": [
    "### 变量Fare－数量型变量"
   ]
  },
  {
   "cell_type": "code",
   "execution_count": 12,
   "metadata": {
    "collapsed": false
   },
   "outputs": [
    {
     "data": {
      "text/plain": [
       "count    891.000000\n",
       "mean      32.204208\n",
       "std       49.693429\n",
       "min        0.000000\n",
       "25%        7.910400\n",
       "50%       14.454200\n",
       "75%       31.000000\n",
       "max      512.329200\n",
       "Name: Fare, dtype: float64"
      ]
     },
     "execution_count": 12,
     "metadata": {},
     "output_type": "execute_result"
    }
   ],
   "source": [
    "# show Fare's descriptive information\n",
    "titanic_df['Fare'].describe()"
   ]
  },
  {
   "cell_type": "code",
   "execution_count": 13,
   "metadata": {
    "collapsed": false
   },
   "outputs": [
    {
     "name": "stderr",
     "output_type": "stream",
     "text": [
      "//anaconda/lib/python3.5/site-packages/numpy/lib/function_base.py:3834: RuntimeWarning: Invalid value encountered in percentile\n",
      "  RuntimeWarning)\n"
     ]
    },
    {
     "data": {
      "text/plain": [
       "count    417.000000\n",
       "mean      35.627188\n",
       "std       55.907576\n",
       "min        0.000000\n",
       "25%             NaN\n",
       "50%             NaN\n",
       "75%             NaN\n",
       "max      512.329200\n",
       "Name: Fare, dtype: float64"
      ]
     },
     "execution_count": 13,
     "metadata": {},
     "output_type": "execute_result"
    }
   ],
   "source": [
    "test_df['Fare'].describe()"
   ]
  },
  {
   "cell_type": "code",
   "execution_count": 14,
   "metadata": {
    "collapsed": false
   },
   "outputs": [
    {
     "data": {
      "text/plain": [
       "<matplotlib.axes._subplots.AxesSubplot at 0x11dcd2780>"
      ]
     },
     "execution_count": 14,
     "metadata": {},
     "output_type": "execute_result"
    },
    {
     "data": {
      "image/png": "[encoded data removed]",
      "text/plain": [
       "<matplotlib.figure.Figure at 0x11d657d68>"
      ]
     },
     "metadata": {},
     "output_type": "display_data"
    },
    {
     "data": {
      "image/png": "[encoded data removed]",
      "text/plain": [
       "<matplotlib.figure.Figure at 0x11aa90320>"
      ]
     },
     "metadata": {},
     "output_type": "display_data"
    }
   ],
   "source": [
    "# there is only one missing \"Fare\" value in test\n",
    "test_df['Fare'].fillna(test_df['Fare'].median(),inplace=True)\n",
    "\n",
    "# convert dtype from float64 to int\n",
    "titanic_df['Fare']=titanic_df['Fare'].astype(int)\n",
    "test_df['Fare']=test_df['Fare'].astype(int)\n",
    "\n",
    "# get fare for survive &didn't survive passengers  注意下面这种dataframe的索引方式\n",
    "Fare_survived = titanic_df['Fare'][titanic_df['Survived']==1]\n",
    "Fare_not_survived = titanic_df['Fare'][titanic_df['Survived']==0]\n",
    "\n",
    "# get average and std for fare for survived/not survived passengers\n",
    "average_fare=DataFrame([Fare_survived.mean(),Fare_not_survived.mean()])\n",
    "std_fare=DataFrame([Fare_survived.std(),Fare_not_survived.std()])\n",
    "\n",
    "#plot hist for fare\n",
    "titanic_df['Fare'].plot(kind='hist',figsize=(10,4),bins=100,xlim=(0,50)) \n",
    "   # xlim规定了横坐标的宽度，bins/xlim的最大值，表示一个格子中的分类数\n",
    "average_fare.index.names=std_fare.index.names=['Survived']\n",
    "average_fare.plot(yerr=std_fare,kind='bar',legend=True) \n",
    "   # x.plot(yerr=y,kind='')  "
   ]
  },
  {
   "cell_type": "markdown",
   "metadata": {},
   "source": [
    "titanic_df.info()与print()语句，作用的结果是直接打印输出，没有返回值，因而其结果不作为out[];\n",
    "titanic_df.describe(),其计算的结果会以返回值输出，因而结果前面有out[]\n",
    "titanic_df['Fare'].info() 与test_df['Fare'].info()均没有输出，原因是info()方法只作用在DataFrame上。\n",
    "\n",
    "由之前的分析知，训练集中Fare变量没有缺失值，测试机中Fare变量有1个缺失值，要对训练集中的Fare变量进行缺失值处理。"
   ]
  },
  {
   "cell_type": "markdown",
   "metadata": {},
   "source": [
    "结果显示fare变量对因变量有很大影响\n",
    "\n",
    "比较下面两种DataFrame的索引方式\n",
    "titanic_df['Age'][titanic_df['Survived']==0]   有条件索引列，只获取这两列满足条件的rows\n",
    "titanic_df[['Age','Survived']]  无条件直接索引，获得这两列的全部rows"
   ]
  },
  {
   "cell_type": "markdown",
   "metadata": {},
   "source": [
    "### 变量age"
   ]
  },
  {
   "cell_type": "code",
   "execution_count": 15,
   "metadata": {
    "collapsed": false
   },
   "outputs": [
    {
     "name": "stderr",
     "output_type": "stream",
     "text": [
      "//anaconda/lib/python3.5/site-packages/ipykernel/__main__.py:27: SettingWithCopyWarning: \n",
      "A value is trying to be set on a copy of a slice from a DataFrame\n",
      "\n",
      "See the caveats in the documentation: http://pandas.pydata.org/pandas-docs/stable/indexing.html#indexing-view-versus-copy\n",
      "//anaconda/lib/python3.5/site-packages/ipykernel/__main__.py:28: SettingWithCopyWarning: \n",
      "A value is trying to be set on a copy of a slice from a DataFrame\n",
      "\n",
      "See the caveats in the documentation: http://pandas.pydata.org/pandas-docs/stable/indexing.html#indexing-view-versus-copy\n",
      "//anaconda/lib/python3.5/site-packages/statsmodels/nonparametric/kdetools.py:20: VisibleDeprecationWarning: using a non-integer number instead of an integer will result in an error in the future\n",
      "  y = X[:m/2+1] + np.r_[0,X[m/2+1:],0]*1j\n"
     ]
    },
    {
     "data": {
      "text/plain": [
       "<matplotlib.axes._subplots.AxesSubplot at 0x11dc3f828>"
      ]
     },
     "execution_count": 15,
     "metadata": {},
     "output_type": "execute_result"
    },
    {
     "data": {
      "image/png": "[encoded data removed]",
      "text/plain": [
       "<matplotlib.figure.Figure at 0x11dda67f0>"
      ]
     },
     "metadata": {},
     "output_type": "display_data"
    },
    {
     "data": {
      "image/png": "[encoded data removed]",
      "text/plain": [
       "<matplotlib.figure.Figure at 0x103210588>"
      ]
     },
     "metadata": {},
     "output_type": "display_data"
    },
    {
     "data": {
      "image/png": "[encoded data removed]",
      "text/plain": [
       "<matplotlib.figure.Figure at 0x11aa97438>"
      ]
     },
     "metadata": {},
     "output_type": "display_data"
    }
   ],
   "source": [
    "# age变量在训练集和测试集中均存在缺失，原策略采用在（均值－方差）和（均值＋方差）之间进行随机采样，\n",
    "# 可考虑一下采用随机抽样原始分布的方法，对缺失值进行填充\n",
    "\n",
    "# plot original and new Age values in axis1 & axis2\n",
    "fig, (axis1,axis2)=plt.subplots(1,2,figsize=(15,4))\n",
    "axis1.set_title('Original Age Values-Titanic')\n",
    "axis2.set_title('New Age values-Titanic')\n",
    "\n",
    "titanic_df['Age'].dropna().astype(int).hist(bins=70,ax=axis1) #画原始数据图的语句\n",
    "\n",
    "# get average,std,and number of NaN in titanic values\n",
    "average_age_titanic = titanic_df['Age'].mean()\n",
    "std_age_titanic = titanic_df['Age'].std()\n",
    "count_nan_age_titanic = titanic_df['Age'].isnull().sum() # isnull()是一个方法，返回一个true false列表，sum可直接对逻辑变量计数\n",
    "\n",
    "# get average,std,and number of NaN is test values\n",
    "average_age_test = test_df['Age'].mean()\n",
    "std_age_test = test_df['Age'].std()\n",
    "count_nan_age_test = test_df['Age'].isnull().sum()\n",
    "\n",
    "# generate random numbers between (mean-std) & (mean+std)    \n",
    "# np.random.randint(min,max,size)  size是随机采样的个数\n",
    "rand_1=np.random.randint(average_age_titanic-std_age_titanic,average_age_titanic+std_age_titanic,size=count_nan_age_titanic)\n",
    "rand_2=np.random.randint(average_age_test-std_age_test,average_age_test+std_age_test,size=count_nan_age_test)\n",
    "\n",
    "# fill NaN values in Age column with random values generated\n",
    "titanic_df['Age'][np.isnan(titanic_df['Age'])]=rand_1\n",
    "test_df['Age'][np.isnan(test_df['Age'])]=rand_2 #np.isnan()是一个函数，返回值为空的序号\n",
    "\n",
    "#convert new Age values from float to int\n",
    "titanic_df['Age']=titanic_df['Age'].astype(int)\n",
    "test_df['Age']=test_df['Age'].astype(int)\n",
    "\n",
    "# plot new Age values\n",
    "titanic_df['Age'].hist(bins=70,ax=axis2) #画新生成的数据的语句\n",
    "\n",
    "# peaks for survived/not survived passengers by their age\n",
    "facet = sns.FacetGrid(titanic_df,hue='Survived',size=4,aspect=3) #构造绘图句柄，参数为：数据，hue，图形尺寸\n",
    "facet.map(sns.kdeplot,'Age',shade=True)  #绘制核密度图kedplot 参数shade设置为true\n",
    "facet.set(xlim=(0,titanic_df['Age'].max())) #设置图像的横坐标范围\n",
    "facet.add_legend()  #添加图例\n",
    "\n",
    "# average survived passengers by age\n",
    "fig ,axis1=plt.subplots(1,1,figsize=(18,4))  #subplots中的s总是被忽略掉，已经出错两次\n",
    "average_age = titanic_df[['Age','Survived']].groupby(['Age'],as_index=False).mean()\n",
    "sns.barplot(x='Age',y='Survived',data=average_age)"
   ]
  },
  {
   "cell_type": "markdown",
   "metadata": {
    "collapsed": true
   },
   "source": [
    "### 变量Cabin"
   ]
  },
  {
   "cell_type": "code",
   "execution_count": 16,
   "metadata": {
    "collapsed": false
   },
   "outputs": [],
   "source": [
    "# cabin变量具有的缺失值非常多，因此直接舍弃此属性\n",
    "titanic_df.drop('Cabin',axis=1,inplace=True)\n",
    "test_df.drop('Cabin',axis=1,inplace=True)"
   ]
  },
  {
   "cell_type": "markdown",
   "metadata": {},
   "source": [
    "### 变量Family－类别型变量"
   ]
  },
  {
   "cell_type": "code",
   "execution_count": 17,
   "metadata": {
    "collapsed": false
   },
   "outputs": [
    {
     "name": "stderr",
     "output_type": "stream",
     "text": [
      "//anaconda/lib/python3.5/site-packages/pandas/core/indexing.py:132: SettingWithCopyWarning: \n",
      "A value is trying to be set on a copy of a slice from a DataFrame\n",
      "\n",
      "See the caveats in the documentation: http://pandas.pydata.org/pandas-docs/stable/indexing.html#indexing-view-versus-copy\n",
      "  self._setitem_with_indexer(indexer, value)\n"
     ]
    },
    {
     "data": {
      "text/plain": [
       "<matplotlib.axes._subplots.AxesSubplot at 0x11e6fe4e0>"
      ]
     },
     "execution_count": 17,
     "metadata": {},
     "output_type": "execute_result"
    },
    {
     "data": {
      "image/png": "[encoded data removed]",
      "text/plain": [
       "<matplotlib.figure.Figure at 0x11e335470>"
      ]
     },
     "metadata": {},
     "output_type": "display_data"
    }
   ],
   "source": [
    "# 原始数据有两列属性 Parch & SibSp，本策略将这两个属性合为一个，认为只要有亲人在岸，就会增加获救的几率\n",
    "\n",
    "# df.loc[index list,colums list]用于提取数据 注意loc不是方法，后面要用中括号\n",
    "titanic_df['Family'] =  titanic_df[\"Parch\"] + titanic_df[\"SibSp\"]  # 两列可以直接进行算数运算的前提条件是，数据类型均为数值型\n",
    "titanic_df['Family'].loc[titanic_df['Family']>0]=1;\n",
    "titanic_df['Family'].loc[titanic_df['Family']==0]=0;\n",
    "\n",
    "test_df['Family'] =  test_df[\"Parch\"] + titanic_df[\"SibSp\"]\n",
    "test_df['Family'].loc[test_df['Family']>0]=1;\n",
    "test_df['Family'].loc[test_df['Family']==0]=0;\n",
    "\n",
    "# drop Parch and SibSp \n",
    "titanic_df = titanic_df.drop(['Parch','SibSp'],axis=1)\n",
    "test_df = test_df.drop(['Parch','SibSp'],axis=1)\n",
    "\n",
    "# plot two figures, first to show how count value by family (0/1),second to show the mean survived value by family (0/1)\n",
    "fig ,(axis1,axis2) = plt.subplots(1,2,figsize=(10,5),sharex=True) # 新参数sharex 两图具有相同的x坐标轴\n",
    "axis1.set_xticklabels([\"With Family\",\"Alone\"], rotation=0)\n",
    "sns.countplot(x='Family',data=titanic_df,order=[1,0],ax=axis1)\n",
    "\n",
    "family_perc = titanic_df[['Family','Survived']].groupby(['Family'],as_index=False).mean() #参数as_index总是被忘记\n",
    "sns.barplot(x='Family',y='Survived',data=family_perc,order=[1,0],ax=axis2) #ax总是忘记写\n",
    " \n"
   ]
  },
  {
   "cell_type": "markdown",
   "metadata": {},
   "source": [
    "### sex变量"
   ]
  },
  {
   "cell_type": "code",
   "execution_count": 18,
   "metadata": {
    "collapsed": false
   },
   "outputs": [
    {
     "data": {
      "image/png": "[encoded data removed]",
      "text/plain": [
       "<matplotlib.figure.Figure at 0x11ecc93c8>"
      ]
     },
     "metadata": {},
     "output_type": "display_data"
    }
   ],
   "source": [
    "#原始数据中sex只有两个分类男和女，由于孩子的特殊性，即孩子不区分男女，因而最好的方式是单独在sex下为孩子设立一个独立变量。即分为男人、女人和孩子\n",
    "\n",
    "# As we see, children(age < ~16) on aboard seem to have a high chances for Survival.\n",
    "# So, we can classify passengers as males, females, and child \n",
    "# 新分类的结果作为person属性，最后对person属性进行哑变量变换\n",
    "\n",
    "def get_person(passenger):\n",
    "    age,sex=passenger\n",
    "    return 'child' if age < 16 else sex\n",
    "\n",
    "titanic_df['Person']=titanic_df[['Age','Sex']].apply(get_person,axis=1)\n",
    "test_df['Person']=test_df[['Age','Sex']].apply(get_person,axis=1)\n",
    "\n",
    "# no need to use Sex column since we generate the Person\n",
    "titanic_df.drop(['Sex'],axis=1,inplace=True)\n",
    "test_df.drop(['Sex'],axis=1,inplace=True)\n",
    "\n",
    "# create dummy variables for Person column\n",
    "person_dummies_titanic = pd.get_dummies(titanic_df['Person'])\n",
    "person_dummies_titanic.columns = ['Child','Female','Male']  # 对属性命名\n",
    "\n",
    "person_dummies_test  = pd.get_dummies(test_df['Person'])\n",
    "person_dummies_test.columns = ['Child','Female','Male']\n",
    "\n",
    "# drop male as it has the lowest average of survived passengers\n",
    "person_dummies_titanic.drop(['Male'],axis=1,inplace=True)\n",
    "person_dummies_test.drop(['Male'], axis=1, inplace=True)\n",
    "                         \n",
    "# join the new dummy variables to the original datasets\n",
    "test_df = test_df.join(person_dummies_test)\n",
    "titanic_df = titanic_df.join(person_dummies_titanic)\n",
    "                         \n",
    "# plot two figures to show the count and average number for each person style\n",
    "fig ,(axis1,axis2) = plt.subplots(1,2,figsize=(10,5))\n",
    "sns.countplot(x='Person',data=titanic_df,ax=axis1)\n",
    "person_perc = titanic_df[[\"Person\", \"Survived\"]].groupby(['Person'],as_index=False).mean()\n",
    "sns.barplot(x='Person', y='Survived', data=person_perc, ax=axis2, order=['male','female','child'])\n",
    "\n",
    "# after plot all the fiugres  no need to use Person columns any more，因为已经对person变量矢量化了\n",
    "titanic_df.drop(['Person'],axis=1,inplace=True)\n",
    "test_df.drop(['Person'],axis=1,inplace=True)\n",
    "                         \n"
   ]
  },
  {
   "cell_type": "markdown",
   "metadata": {},
   "source": [
    "### pclass变量－类别型变量"
   ]
  },
  {
   "cell_type": "code",
   "execution_count": 19,
   "metadata": {
    "collapsed": false
   },
   "outputs": [
    {
     "data": {
      "text/plain": [
       "count    891.000000\n",
       "mean       2.308642\n",
       "std        0.836071\n",
       "min        1.000000\n",
       "25%        2.000000\n",
       "50%        3.000000\n",
       "75%        3.000000\n",
       "max        3.000000\n",
       "Name: Pclass, dtype: float64"
      ]
     },
     "execution_count": 19,
     "metadata": {},
     "output_type": "execute_result"
    }
   ],
   "source": [
    "titanic_df['Pclass'].describe() #此处describe方法并没有判断出数据为类别型变量，因而给出了连续型变量的统计分布"
   ]
  },
  {
   "cell_type": "code",
   "execution_count": 20,
   "metadata": {
    "collapsed": false
   },
   "outputs": [
    {
     "data": {
      "text/plain": [
       "<seaborn.axisgrid.FacetGrid at 0x11d61d940>"
      ]
     },
     "execution_count": 20,
     "metadata": {},
     "output_type": "execute_result"
    },
    {
     "data": {
      "image/png": "[encoded data removed]",
      "text/plain": [
       "<matplotlib.figure.Figure at 0x11d61d9e8>"
      ]
     },
     "metadata": {},
     "output_type": "display_data"
    }
   ],
   "source": [
    "# no missing values \n",
    "# plot \n",
    "sns.factorplot('Pclass','Survived',data=titanic_df,order=[1,2,3],size=5)"
   ]
  },
  {
   "cell_type": "markdown",
   "metadata": {},
   "source": [
    "图示：Pclass=1，2，3时survived人数所占的比例。\n",
    "factorplot是探求类别型变量x的各个取值与y的关系。"
   ]
  },
  {
   "cell_type": "code",
   "execution_count": 21,
   "metadata": {
    "collapsed": false
   },
   "outputs": [],
   "source": [
    "# create dummy variables for Pclass column  in both titanic_df and test_df\n",
    "pclass_dummies_titanic = pd.get_dummies(titanic_df['Pclass'])\n",
    "pclass_dummies_titanic.columns=['Class1','Class2','Class3']\n",
    "\n",
    "pclass_dummies_test = pd.get_dummies(test_df['Pclass'])\n",
    "pclass_dummies_test.columns=['Class1','Class2','Class3']\n",
    "\n",
    "# drop pclass columns\n",
    "titanic_df.drop(['Pclass'],axis=1,inplace=True)\n",
    "test_df.drop(['Pclass'],axis=1,inplace=True) \n",
    "\n",
    "# join new variables in original datasets\n",
    "titanic_df=titanic_df.join(pclass_dummies_titanic)\n",
    "test_df=test_df.join(pclass_dummies_titanic)"
   ]
  },
  {
   "cell_type": "markdown",
   "metadata": {},
   "source": [
    "## 数据预处理的结果"
   ]
  },
  {
   "cell_type": "code",
   "execution_count": 22,
   "metadata": {
    "collapsed": false
   },
   "outputs": [
    {
     "name": "stdout",
     "output_type": "stream",
     "text": [
      "<class 'pandas.core.frame.DataFrame'>\n",
      "RangeIndex: 891 entries, 0 to 890\n",
      "Data columns (total 11 columns):\n",
      "Survived    891 non-null int64\n",
      "Age         891 non-null int64\n",
      "Fare        891 non-null int64\n",
      "C           891 non-null float64\n",
      "Q           891 non-null float64\n",
      "Family      891 non-null int64\n",
      "Child       891 non-null float64\n",
      "Female      891 non-null float64\n",
      "Class1      891 non-null float64\n",
      "Class2      891 non-null float64\n",
      "Class3      891 non-null float64\n",
      "dtypes: float64(7), int64(4)\n",
      "memory usage: 76.6 KB\n"
     ]
    },
    {
     "data": {
      "text/html": [
       "<div>\n",
       "<table border=\"1\" class=\"dataframe\">\n",
       "  <thead>\n",
       "    <tr style=\"text-align: right;\">\n",
       "      <th></th>\n",
       "      <th>Survived</th>\n",
       "      <th>Age</th>\n",
       "      <th>Fare</th>\n",
       "      <th>C</th>\n",
       "      <th>Q</th>\n",
       "      <th>Family</th>\n",
       "      <th>Child</th>\n",
       "      <th>Female</th>\n",
       "      <th>Class1</th>\n",
       "      <th>Class2</th>\n",
       "      <th>Class3</th>\n",
       "    </tr>\n",
       "  </thead>\n",
       "  <tbody>\n",
       "    <tr>\n",
       "      <th>0</th>\n",
       "      <td>0</td>\n",
       "      <td>22</td>\n",
       "      <td>7</td>\n",
       "      <td>0.0</td>\n",
       "      <td>0.0</td>\n",
       "      <td>1</td>\n",
       "      <td>0.0</td>\n",
       "      <td>0.0</td>\n",
       "      <td>0.0</td>\n",
       "      <td>0.0</td>\n",
       "      <td>1.0</td>\n",
       "    </tr>\n",
       "    <tr>\n",
       "      <th>1</th>\n",
       "      <td>1</td>\n",
       "      <td>38</td>\n",
       "      <td>71</td>\n",
       "      <td>1.0</td>\n",
       "      <td>0.0</td>\n",
       "      <td>1</td>\n",
       "      <td>0.0</td>\n",
       "      <td>1.0</td>\n",
       "      <td>1.0</td>\n",
       "      <td>0.0</td>\n",
       "      <td>0.0</td>\n",
       "    </tr>\n",
       "    <tr>\n",
       "      <th>2</th>\n",
       "      <td>1</td>\n",
       "      <td>26</td>\n",
       "      <td>7</td>\n",
       "      <td>0.0</td>\n",
       "      <td>0.0</td>\n",
       "      <td>0</td>\n",
       "      <td>0.0</td>\n",
       "      <td>1.0</td>\n",
       "      <td>0.0</td>\n",
       "      <td>0.0</td>\n",
       "      <td>1.0</td>\n",
       "    </tr>\n",
       "    <tr>\n",
       "      <th>3</th>\n",
       "      <td>1</td>\n",
       "      <td>35</td>\n",
       "      <td>53</td>\n",
       "      <td>0.0</td>\n",
       "      <td>0.0</td>\n",
       "      <td>1</td>\n",
       "      <td>0.0</td>\n",
       "      <td>1.0</td>\n",
       "      <td>1.0</td>\n",
       "      <td>0.0</td>\n",
       "      <td>0.0</td>\n",
       "    </tr>\n",
       "    <tr>\n",
       "      <th>4</th>\n",
       "      <td>0</td>\n",
       "      <td>35</td>\n",
       "      <td>8</td>\n",
       "      <td>0.0</td>\n",
       "      <td>0.0</td>\n",
       "      <td>0</td>\n",
       "      <td>0.0</td>\n",
       "      <td>0.0</td>\n",
       "      <td>0.0</td>\n",
       "      <td>0.0</td>\n",
       "      <td>1.0</td>\n",
       "    </tr>\n",
       "  </tbody>\n",
       "</table>\n",
       "</div>"
      ],
      "text/plain": [
       "   Survived  Age  Fare    C    Q  Family  Child  Female  Class1  Class2  \\\n",
       "0         0   22     7  0.0  0.0       1    0.0     0.0     0.0     0.0   \n",
       "1         1   38    71  1.0  0.0       1    0.0     1.0     1.0     0.0   \n",
       "2         1   26     7  0.0  0.0       0    0.0     1.0     0.0     0.0   \n",
       "3         1   35    53  0.0  0.0       1    0.0     1.0     1.0     0.0   \n",
       "4         0   35     8  0.0  0.0       0    0.0     0.0     0.0     0.0   \n",
       "\n",
       "   Class3  \n",
       "0     1.0  \n",
       "1     0.0  \n",
       "2     1.0  \n",
       "3     0.0  \n",
       "4     1.0  "
      ]
     },
     "execution_count": 22,
     "metadata": {},
     "output_type": "execute_result"
    }
   ],
   "source": [
    "# show current data\n",
    "titanic_df.info()\n",
    "titanic_df.head()"
   ]
  },
  {
   "cell_type": "code",
   "execution_count": 23,
   "metadata": {
    "collapsed": false
   },
   "outputs": [
    {
     "name": "stdout",
     "output_type": "stream",
     "text": [
      "<class 'pandas.core.frame.DataFrame'>\n",
      "RangeIndex: 418 entries, 0 to 417\n",
      "Data columns (total 11 columns):\n",
      "PassengerId    418 non-null int64\n",
      "Age            418 non-null int64\n",
      "Fare           418 non-null int64\n",
      "C              418 non-null float64\n",
      "Q              418 non-null float64\n",
      "Family         418 non-null float64\n",
      "Child          418 non-null float64\n",
      "Female         418 non-null float64\n",
      "Class1         418 non-null float64\n",
      "Class2         418 non-null float64\n",
      "Class3         418 non-null float64\n",
      "dtypes: float64(8), int64(3)\n",
      "memory usage: 36.0 KB\n"
     ]
    },
    {
     "data": {
      "text/html": [
       "<div>\n",
       "<table border=\"1\" class=\"dataframe\">\n",
       "  <thead>\n",
       "    <tr style=\"text-align: right;\">\n",
       "      <th></th>\n",
       "      <th>PassengerId</th>\n",
       "      <th>Age</th>\n",
       "      <th>Fare</th>\n",
       "      <th>C</th>\n",
       "      <th>Q</th>\n",
       "      <th>Family</th>\n",
       "      <th>Child</th>\n",
       "      <th>Female</th>\n",
       "      <th>Class1</th>\n",
       "      <th>Class2</th>\n",
       "      <th>Class3</th>\n",
       "    </tr>\n",
       "  </thead>\n",
       "  <tbody>\n",
       "    <tr>\n",
       "      <th>0</th>\n",
       "      <td>892</td>\n",
       "      <td>34</td>\n",
       "      <td>7</td>\n",
       "      <td>0.0</td>\n",
       "      <td>1.0</td>\n",
       "      <td>1.0</td>\n",
       "      <td>0.0</td>\n",
       "      <td>0.0</td>\n",
       "      <td>0.0</td>\n",
       "      <td>0.0</td>\n",
       "      <td>1.0</td>\n",
       "    </tr>\n",
       "    <tr>\n",
       "      <th>1</th>\n",
       "      <td>893</td>\n",
       "      <td>47</td>\n",
       "      <td>7</td>\n",
       "      <td>0.0</td>\n",
       "      <td>0.0</td>\n",
       "      <td>1.0</td>\n",
       "      <td>0.0</td>\n",
       "      <td>1.0</td>\n",
       "      <td>1.0</td>\n",
       "      <td>0.0</td>\n",
       "      <td>0.0</td>\n",
       "    </tr>\n",
       "    <tr>\n",
       "      <th>2</th>\n",
       "      <td>894</td>\n",
       "      <td>62</td>\n",
       "      <td>9</td>\n",
       "      <td>0.0</td>\n",
       "      <td>1.0</td>\n",
       "      <td>0.0</td>\n",
       "      <td>0.0</td>\n",
       "      <td>0.0</td>\n",
       "      <td>0.0</td>\n",
       "      <td>0.0</td>\n",
       "      <td>1.0</td>\n",
       "    </tr>\n",
       "    <tr>\n",
       "      <th>3</th>\n",
       "      <td>895</td>\n",
       "      <td>27</td>\n",
       "      <td>8</td>\n",
       "      <td>0.0</td>\n",
       "      <td>0.0</td>\n",
       "      <td>1.0</td>\n",
       "      <td>0.0</td>\n",
       "      <td>0.0</td>\n",
       "      <td>1.0</td>\n",
       "      <td>0.0</td>\n",
       "      <td>0.0</td>\n",
       "    </tr>\n",
       "    <tr>\n",
       "      <th>4</th>\n",
       "      <td>896</td>\n",
       "      <td>22</td>\n",
       "      <td>12</td>\n",
       "      <td>0.0</td>\n",
       "      <td>0.0</td>\n",
       "      <td>1.0</td>\n",
       "      <td>0.0</td>\n",
       "      <td>1.0</td>\n",
       "      <td>0.0</td>\n",
       "      <td>0.0</td>\n",
       "      <td>1.0</td>\n",
       "    </tr>\n",
       "  </tbody>\n",
       "</table>\n",
       "</div>"
      ],
      "text/plain": [
       "   PassengerId  Age  Fare    C    Q  Family  Child  Female  Class1  Class2  \\\n",
       "0          892   34     7  0.0  1.0     1.0    0.0     0.0     0.0     0.0   \n",
       "1          893   47     7  0.0  0.0     1.0    0.0     1.0     1.0     0.0   \n",
       "2          894   62     9  0.0  1.0     0.0    0.0     0.0     0.0     0.0   \n",
       "3          895   27     8  0.0  0.0     1.0    0.0     0.0     1.0     0.0   \n",
       "4          896   22    12  0.0  0.0     1.0    0.0     1.0     0.0     0.0   \n",
       "\n",
       "   Class3  \n",
       "0     1.0  \n",
       "1     0.0  \n",
       "2     1.0  \n",
       "3     0.0  \n",
       "4     1.0  "
      ]
     },
     "execution_count": 23,
     "metadata": {},
     "output_type": "execute_result"
    }
   ],
   "source": [
    "test_df.info()\n",
    "test_df.head()"
   ]
  },
  {
   "cell_type": "markdown",
   "metadata": {},
   "source": [
    "至此 所有的预处理工作已经完成，终于获得可以直接输入到机器学习模型中的数据了。"
   ]
  },
  {
   "cell_type": "markdown",
   "metadata": {},
   "source": [
    "## 数据挖掘模型"
   ]
  },
  {
   "cell_type": "markdown",
   "metadata": {},
   "source": [
    "本策略中以下各算法均没有实现其最大的价值，为考量各模型的参数，也没有进行交叉验证。下一步可通过调整模型的参数优化拟合效果。"
   ]
  },
  {
   "cell_type": "code",
   "execution_count": 24,
   "metadata": {
    "collapsed": false
   },
   "outputs": [],
   "source": [
    "# data training and testing sets\n",
    "X_train = titanic_df.drop(['Survived'],axis=1)\n",
    "Y_train = titanic_df['Survived']\n",
    "X_test  = test_df.drop(['PassengerId'],axis=1).copy()\n",
    "    #必须标注drop的轴，否则默认删除数据中的行"
   ]
  },
  {
   "cell_type": "markdown",
   "metadata": {},
   "source": [
    "### 逻辑回归/对数几率回归（分类器） 隶属于线性模型 "
   ]
  },
  {
   "cell_type": "code",
   "execution_count": 79,
   "metadata": {
    "collapsed": false
   },
   "outputs": [
    {
     "data": {
      "text/plain": [
       "0.80246913580246915"
      ]
     },
     "execution_count": 79,
     "metadata": {},
     "output_type": "execute_result"
    }
   ],
   "source": [
    "# Logistic Regression\n",
    "logreg = LogisticRegression()\n",
    "logreg.fit(X_train,Y_train)\n",
    "Y_pred = logreg.predict(X_test)\n",
    "logreg.score(X_train,Y_train)"
   ]
  },
  {
   "cell_type": "markdown",
   "metadata": {},
   "source": [
    "mmodel.score(X_train,Y_train),score方法用于评估模型的拟合效果，实际上得到的是对训练集的拟合效果，与测试机无关，也与模型的泛化性能无关。\n",
    "\n",
    "NumPy不能用info()方法， 可以转换为DataFrame()"
   ]
  },
  {
   "cell_type": "code",
   "execution_count": 80,
   "metadata": {
    "collapsed": false
   },
   "outputs": [
    {
     "data": {
      "text/plain": [
       "array([-2.50744763,  1.82024078, -2.83463418, -0.59526387,  0.17425133,\n",
       "       -0.32024524,  2.68021081, -2.68613839,  1.06453279, -1.34255913,\n",
       "       -2.7153305 , -0.74527669,  0.38798768, -3.38500851, -0.07429048,\n",
       "        2.2125112 , -2.52394747, -0.53331975,  0.07764958,  0.55557558,\n",
       "       -1.14978447,  0.82318319,  0.47711501,  0.16030222,  0.41921539,\n",
       "       -3.14559605,  0.81483549,  0.11606743, -2.76874156, -1.96691959,\n",
       "       -0.82067775, -0.52790115, -0.02934093,  1.05409526, -0.01123051,\n",
       "        0.1914685 ,  0.22124961,  0.39090201, -2.67668979, -2.78654773,\n",
       "       -2.32116314, -1.68092376, -2.77955348,  1.27559763, -0.0408207 ,\n",
       "       -2.47794921, -2.4267434 , -2.36431768,  0.10557661, -0.08824215,\n",
       "       -2.63386526, -1.89433902,  2.33671933,  1.4308191 ,  0.41376018,\n",
       "        2.02430803, -1.41477354, -2.47794921, -1.572523  ,  0.6454186 ,\n",
       "       -2.32714708, -0.48748404, -0.42608155,  0.51173565,  2.35500207,\n",
       "        0.25388316,  2.03849581, -2.87620215, -2.16330975, -0.42406778,\n",
       "        1.92539421, -2.60222889,  1.49130814, -2.10722903,  0.83997534,\n",
       "       -1.89645394, -2.59058073, -0.24201563, -1.3177017 ,  0.67371587,\n",
       "        0.25124671, -3.1690625 , -2.92142403, -0.47145428, -0.97927722,\n",
       "       -2.26414226,  0.41748432,  0.44745281,  2.46167979, -0.28714161,\n",
       "        0.37440217, -2.51564975,  2.21839989, -2.92221335, -1.85146757,\n",
       "       -2.47794921,  1.50663974, -0.43375374,  1.66096054, -1.57628367,\n",
       "        0.61584014, -2.50671816,  0.03803286, -2.49679948,  0.90302266,\n",
       "       -2.52744876, -2.06271341, -2.36431768, -2.7790834 , -2.54285759,\n",
       "       -0.03864622,  0.26668218,  0.73650999,  0.58713672, -0.30068135,\n",
       "       -1.72515671, -1.84201898,  0.98009641,  0.08381014,  0.04888064,\n",
       "        0.77227339, -2.27006634,  1.81958003, -1.28282167,  0.05688313,\n",
       "        0.270383  , -2.42139841,  0.70008748, -2.995264  , -2.45862886,\n",
       "       -2.609431  , -2.37833487,  0.06726082, -0.88427272, -1.56557568,\n",
       "       -1.2074206 ,  0.24034711, -0.57406319,  0.35320148, -0.82245416,\n",
       "       -0.42713182,  0.23192079, -2.61881815, -2.52556842, -1.53779382,\n",
       "       -1.5338823 , -2.36301419, -2.62060908, -1.27389008, -1.51127136,\n",
       "        2.05800541, -0.0347347 , -3.13441797, -0.0896524 , -0.49073388,\n",
       "       -0.33950241,  0.34022772,  0.3527314 , -2.78947216,  0.09932035,\n",
       "        0.44751267,  1.48407478,  0.2990011 , -2.70415242, -2.97641373,\n",
       "        0.1035511 , -0.15414516, -2.53298583,  2.75997486,  0.37205175,\n",
       "       -0.65995694, -2.09778044, -2.63710893, -2.04890183, -0.82950542,\n",
       "       -0.52467374,  0.22323388, -0.26489634,  1.1747182 ,  0.03346613,\n",
       "       -2.76906079, -0.9988784 ,  0.26892584, -1.12381742,  0.80801974,\n",
       "       -0.63687592,  0.19733236, -0.20708046,  0.25759691, -2.75788271,\n",
       "       -1.38699168, -1.53779382, -0.46102477, -1.76237607,  1.72358408,\n",
       "       -0.50915481,  0.30718668,  0.44698273, -2.43883843,  1.68028089,\n",
       "        0.69632681, -0.25367183, -2.1716866 , -0.39883296, -2.47653896,\n",
       "       -2.02159005,  0.26668218, -2.4576887 ,  0.79118046, -0.35835267,\n",
       "       -2.60284983, -1.22627087, -2.29612155,  0.91588146, -0.12970335,\n",
       "       -0.86203503,  0.61716507, -1.95535701,  2.47713713, -1.37660292,\n",
       "        0.84115009, -1.15039972,  0.37299192, -2.40254815,  2.33409091,\n",
       "        0.43505657, -1.18857034,  0.7114164 , -1.5052642 , -2.8821624 ,\n",
       "        1.62599524,  0.39936352, -1.15133989, -2.30009469, -0.84253919,\n",
       "       -2.38369788, -1.51159628, -0.51446948,  1.50180083,  1.79724142,\n",
       "        0.17679384, -0.2508433 , -1.12570626, -2.55335028, -2.72665942,\n",
       "       -0.83895401,  0.37816284, -1.73465406,  2.16847718,  1.95016856,\n",
       "       -0.24756074, -2.58337863,  0.28213765, -2.65783953, -2.60896091,\n",
       "       -2.72300268,  0.11343393, -0.41443339,  2.55054951, -1.1508698 ,\n",
       "       -2.68060131, -2.60222889,  2.16706693,  1.84613427, -1.95230007,\n",
       "       -1.13201954, -2.75632162, -2.6587797 ,  2.34084615, -0.20708046,\n",
       "       -0.10469253, -2.21351554,  2.2260498 ,  2.57086988, -1.72844729,\n",
       "        2.33812958, -2.53308976, -1.50009328, -2.76530012, -2.61966891,\n",
       "        0.35320148, -0.25414191,  0.57946453,  0.19469591,  1.83104468,\n",
       "       -2.68530215, -2.36484761, -2.42384266, -0.83492402, -2.3832278 ,\n",
       "       -0.626064  ,  2.48005997, -0.60872082, -3.17065124, -2.68436198,\n",
       "       -0.37720294,  0.35772022,  0.0660978 , -0.43474083, -0.43375374,\n",
       "       -2.60990108, -2.15057057, -3.01035359, -1.20695052,  0.73026667,\n",
       "        1.50871784, -0.58459269,  1.86357429, -1.95103242,  2.06091265,\n",
       "       -0.22593072,  0.11606743, -1.59560402,  0.4286624 ,  1.47924123,\n",
       "        0.80566774, -1.34626846, -1.11175902, -0.39605321, -0.49020061,\n",
       "       -2.49679948, -1.86039916, -1.24230064, -1.56782216, -0.05265653,\n",
       "       -0.32065214, -0.46812294, -0.97073039, -2.74409944, -0.2801311 ,\n",
       "       -0.30457359,  0.00563549,  0.37229898,  0.84976244, -0.59573396,\n",
       "       -2.56326896, -0.68716479, -0.2043871 , -2.4666672 , -0.08010742,\n",
       "       -1.2925895 , -0.68998529, -1.62300963,  1.59991201, -1.42266103,\n",
       "        1.73636161, -1.24230064,  0.4878467 , -2.65595919,  0.20851043,\n",
       "        0.38221952, -0.35694242, -2.51465257, -3.10277151, -0.25085133,\n",
       "       -2.94027429,  1.81440202, -1.094319  , -2.10041394,  0.2245402 ,\n",
       "       -0.49172096,  2.01753129,  0.20851043, -2.51517966,  0.75546419,\n",
       "        0.08794451, -0.21994678,  0.38662434,  0.38033919,  0.18661682,\n",
       "       -0.48075202,  0.67949921, -2.93364621, -0.71368724, -0.39652142,\n",
       "        2.59536273,  0.37205175, -0.28107127, -3.02324362, -0.33993174,\n",
       "        0.0191826 , -2.15696474,  0.45027332,  2.35227901, -2.36249719,\n",
       "        1.41314358, -2.6587797 , -1.82665891, -2.06271341,  0.8881955 ,\n",
       "       -0.47990568, -0.35971414, -0.4959048 , -0.97132904, -2.74597977,\n",
       "        0.47189717, -2.11926421,  1.58486841, -1.16972007, -0.99953773,\n",
       "        0.29458268, -2.71642151,  0.81389533, -2.50802448, -2.19030229,\n",
       "       -0.71132973, -2.43883843, -1.18376115,  0.44751267, -0.31069272,\n",
       "        0.3721116 ,  0.46767935,  2.17839585, -1.43315372,  0.71615564,\n",
       "       -2.72300268, -1.25582913, -0.82020058])"
      ]
     },
     "execution_count": 80,
     "metadata": {},
     "output_type": "execute_result"
    }
   ],
   "source": [
    "logreg.get_params() #返回模型参数\n",
    "logreg.predict_proba(X_test)  #以列表返回每个样本的预测分类概率，即此样本属于不同类别的概率\n",
    "logreg.predict_log_proba(X_test)  #以列表返回每个样本的预测分类对数概率，即此样本属于不同类别的概率\n",
    "logreg.decision_function(X_test)  #不知道是什么？？？\n"
   ]
  },
  {
   "cell_type": "code",
   "execution_count": 81,
   "metadata": {
    "collapsed": false
   },
   "outputs": [
    {
     "data": {
      "text/plain": [
       "array([[ -1.88502669e-02,   4.70083772e-04,   6.17550055e-01,\n",
       "          3.39834738e-01,  -1.99680748e-01,   1.94941087e+00,\n",
       "          2.79298008e+00,   7.74282037e-01,  -9.36361603e-02,\n",
       "         -1.34531450e+00]])"
      ]
     },
     "execution_count": 81,
     "metadata": {},
     "output_type": "execute_result"
    }
   ],
   "source": [
    "logreg.coef_ # 逻辑回归模型的系数，即各个属性所对应的系数\n",
    "#logreg.intercept_ \n",
    "#logreg.n_iter_"
   ]
  },
  {
   "cell_type": "code",
   "execution_count": 82,
   "metadata": {
    "collapsed": false
   },
   "outputs": [
    {
     "data": {
      "text/plain": [
       "array([ -1.88502669e-02,   4.70083772e-04,   6.17550055e-01,\n",
       "         3.39834738e-01,  -1.99680748e-01,   1.94941087e+00,\n",
       "         2.79298008e+00,   7.74282037e-01,  -9.36361603e-02,\n",
       "        -1.34531450e+00])"
      ]
     },
     "execution_count": 82,
     "metadata": {},
     "output_type": "execute_result"
    }
   ],
   "source": [
    "# 返回数据集的属性名\n",
    "titanic_df.columns  \n",
    "# 返回逻辑回归模型的系数\n",
    "logreg.coef_[0]   #与logreg.coef_的效果一样  待探究"
   ]
  },
  {
   "cell_type": "code",
   "execution_count": 83,
   "metadata": {
    "collapsed": false
   },
   "outputs": [
    {
     "data": {
      "text/html": [
       "<div>\n",
       "<table border=\"1\" class=\"dataframe\">\n",
       "  <thead>\n",
       "    <tr style=\"text-align: right;\">\n",
       "      <th></th>\n",
       "      <th>Features</th>\n",
       "      <th>Coefficient Estimate</th>\n",
       "    </tr>\n",
       "  </thead>\n",
       "  <tbody>\n",
       "    <tr>\n",
       "      <th>0</th>\n",
       "      <td>Age</td>\n",
       "      <td>-0.018850</td>\n",
       "    </tr>\n",
       "    <tr>\n",
       "      <th>1</th>\n",
       "      <td>Fare</td>\n",
       "      <td>0.000470</td>\n",
       "    </tr>\n",
       "    <tr>\n",
       "      <th>2</th>\n",
       "      <td>C</td>\n",
       "      <td>0.617550</td>\n",
       "    </tr>\n",
       "    <tr>\n",
       "      <th>3</th>\n",
       "      <td>Q</td>\n",
       "      <td>0.339835</td>\n",
       "    </tr>\n",
       "    <tr>\n",
       "      <th>4</th>\n",
       "      <td>Family</td>\n",
       "      <td>-0.199681</td>\n",
       "    </tr>\n",
       "    <tr>\n",
       "      <th>5</th>\n",
       "      <td>Child</td>\n",
       "      <td>1.949411</td>\n",
       "    </tr>\n",
       "    <tr>\n",
       "      <th>6</th>\n",
       "      <td>Female</td>\n",
       "      <td>2.792980</td>\n",
       "    </tr>\n",
       "    <tr>\n",
       "      <th>7</th>\n",
       "      <td>Class1</td>\n",
       "      <td>0.774282</td>\n",
       "    </tr>\n",
       "    <tr>\n",
       "      <th>8</th>\n",
       "      <td>Class2</td>\n",
       "      <td>-0.093636</td>\n",
       "    </tr>\n",
       "    <tr>\n",
       "      <th>9</th>\n",
       "      <td>Class3</td>\n",
       "      <td>-1.345315</td>\n",
       "    </tr>\n",
       "  </tbody>\n",
       "</table>\n",
       "</div>"
      ],
      "text/plain": [
       "  Features  Coefficient Estimate\n",
       "0      Age             -0.018850\n",
       "1     Fare              0.000470\n",
       "2        C              0.617550\n",
       "3        Q              0.339835\n",
       "4   Family             -0.199681\n",
       "5    Child              1.949411\n",
       "6   Female              2.792980\n",
       "7   Class1              0.774282\n",
       "8   Class2             -0.093636\n",
       "9   Class3             -1.345315"
      ]
     },
     "execution_count": 83,
     "metadata": {},
     "output_type": "execute_result"
    }
   ],
   "source": [
    "# show the parameters for Logistic Regression model\n",
    "coeff_df = DataFrame(titanic_df.columns.delete(0))\n",
    "coeff_df.columns = ['Features']\n",
    "coeff_df['Coefficient Estimate'] = pd.Series(logreg.coef_[0])\n",
    "\n",
    "coeff_df"
   ]
  },
  {
   "cell_type": "code",
   "execution_count": 84,
   "metadata": {
    "collapsed": true
   },
   "outputs": [],
   "source": [
    "# save the Logistic Regression model's prediction outcome\n",
    "submission = pd.DataFrame({\n",
    "        \"PassengerId\": test_df['PassengerId'],\n",
    "        \"Survived\"   : Y_pred\n",
    "    })\n",
    "submission.to_csv('/Users/emily/Desktop/kaggle项目/Titanic/data/submission.csv',index=False)"
   ]
  },
  {
   "cell_type": "markdown",
   "metadata": {},
   "source": [
    "### 支持向量机  以下对四种不同的核函数进行了比较（Linear、RBF、Poly、Sigmoid）"
   ]
  },
  {
   "cell_type": "markdown",
   "metadata": {},
   "source": [
    "sklearn提供的支持向量机：\n",
    "分类：\n",
    "svm.SVC([C, kernel, degree, gamma, coef0, ...])\tC-Support Vector Classification.\n",
    "svm.LinearSVC([penalty, loss, dual, tol, C, ...])\tLinear Support Vector Classification.\n",
    "svm.NuSVC([nu, kernel, degree, gamma, ...])\tNu-Support Vector Classification.\n",
    "NuSVC与SVC类似，只不过SVC用C作为惩罚系数，NuSVC用Nu作为惩罚系数，二者都可以使用不同的核函数\n",
    "LinearSVC不接受核函数的设置，只能实现线性核，\n",
    "LinearSVC常用于作为对小样本数据分类的初次尝试算法，若效果不好则尝试其他模型\n",
    "SGDClassifier常用于作为大样本数据分类的初次尝试算法，若效果不好则尝试其他模型\n",
    "回归：\n",
    "svm.SVR([kernel, degree, gamma, coef0, tol, ...])\tEpsilon-Support Vector Regression.\n",
    "svm.LinearSVR([epsilon, tol, C, loss, ...])\tLinear Support Vector Regression.\n",
    "svm.NuSVR([nu, C, kernel, degree, gamma, ...])\tNu Support Vector Regression.\n",
    "非监督算法：\n",
    "svm.OneClassSVM([kernel, degree, gamma, ...])\tUnsupervised Outlier Detection.异常点监测\n",
    "svm.l1_min_c(X, y[, loss, fit_intercept, ...])\t\n",
    "Return the lowest bound for C such that for C in (l1_min_C, infinity) the model is guaranteed not to be empty."
   ]
  },
  {
   "cell_type": "markdown",
   "metadata": {},
   "source": [
    "以下对svm.SVC的四种不同的核函数进行了比较（Linear、RBF、Poly、Sigmoid）"
   ]
  },
  {
   "cell_type": "code",
   "execution_count": 87,
   "metadata": {
    "collapsed": false
   },
   "outputs": [
    {
     "name": "stdout",
     "output_type": "stream",
     "text": [
      "RandomizedSearchCV took 29.06 seconds for 20 candidates parameter settings.\n",
      "Model with rank: 1\n",
      "Mean validation score: 0.785 (std: 0.015)\n",
      "Parameters: {'C': 0.97126053367193688}\n",
      "\n",
      "Model with rank: 2\n",
      "Mean validation score: 0.785 (std: 0.015)\n",
      "Parameters: {'C': 0.69641687147435694}\n",
      "\n",
      "Model with rank: 3\n",
      "Mean validation score: 0.785 (std: 0.015)\n",
      "Parameters: {'C': 0.75657948966144417}\n",
      "\n"
     ]
    }
   ],
   "source": [
    "# Support Vector Machine - SVC(Linear Kernel)\n",
    "# Linear Kernel核函数没有可选参数\n",
    "from time import time\n",
    "start = time()\n",
    "from sklearn.grid_search import RandomizedSearchCV\n",
    "from scipy.stats import uniform\n",
    "from operator import itemgetter #\n",
    "\n",
    "def report(grid_scores, n_top=3):\n",
    "    top_scores = sorted(grid_scores, key=itemgetter(1), reverse=True)[:n_top]\n",
    "    for i, score in enumerate(top_scores):\n",
    "        print(\"Model with rank: {0}\".format(i + 1))\n",
    "        print(\"Mean validation score: {0:.3f} (std: {1:.3f})\".format(\n",
    "              score.mean_validation_score,\n",
    "              np.std(score.cv_validation_scores)))\n",
    "        print(\"Parameters: {0}\".format(score.parameters))\n",
    "        print(\"\")\n",
    "             \n",
    "svc = SVC(kernel='linear')\n",
    "[min,max]=[0,1] \n",
    "rv = uniform(min,max)  # 构造一个0-1的均匀分布\n",
    "param_dist = {\"C\":rv}  # 待分析参数的分布，此处不能将rv替换成[rv]，否则会报错\n",
    "random_search=RandomizedSearchCV(svc,param_distributions=param_dist,n_iter=20)\n",
    "random_search.fit(X_train,Y_train)\n",
    "#svc.fit(X_train,Y_train)\n",
    "#Y_pred = svc.predict(X_test)\n",
    "#svc.score(X_train,Y_train)\n",
    "print(\"RandomizedSearchCV took %.2f seconds for %d candidates\"\n",
    "      \" parameter settings.\" % ((time() - start), 20))\n",
    "report(random_search.grid_scores_)"
   ]
  },
  {
   "cell_type": "markdown",
   "metadata": {},
   "source": [
    "对list或dict进行排序的方法：\n",
    "方法1.用List的成员函数sort进行排序，在本地进行排序，不返回副本\n",
    "方法2.用built-in函数sorted进行排序，返回副本，原始输入不变\n",
    "sorted(iterable, cmp=None, key=None, reverse=False) --> new sorted list\n",
    "L.sort(cmp=None, key=None, reverse=False) -- stable sort *IN PLACE*;\n",
    "\n",
    "参数与返回值说明：\n",
    "iterable：是可迭代类型;\n",
    "cmp：用于比较的函数，比较什么由key决定;\n",
    "key：用列表元素的某个属性或函数进行作为关键字，有默认值，迭代集合中的一项;按照key的值的大小进行排序\n",
    "reverse：排序规则. reverse = True  降序 或者 reverse = False 升序，有默认值。\n",
    "返回值：是一个经过排序的可迭代类型，与iterable一样。\n"
   ]
  },
  {
   "cell_type": "markdown",
   "metadata": {},
   "source": [
    "from sklearn import preprocessing\n",
    "X_train_n = preprocessing.scale(X_train)\n",
    "X_test_n = preprocessing.scale(X_test)\n",
    "Y_train_n = preprocessing.scale(Y_train)\n",
    "\n",
    "svc_best = SVC(kernel='linear',C=0.75540763192273763)\n",
    "svc_best.fit(X_train_n,Y_train_n)\n",
    "Y_pred = svc_best.predict(X_test_n)\n",
    "model.score(X_train_n,Y_train_N)\n",
    "上述代码是对所有属性的分布进行标准化处理，令各属性变量服从均值为0，方差为1的标准正态分布。\n",
    "但是，失败了。\n",
    "失败原因：没有意识到只有连续的属性变量才能够进行标准化处理。\n",
    "\n",
    "关于分类结果的可视化\n",
    "注意：能够对分类结果进行可视化，需要判断属性变量的个数。能否可视化仅跟属性变量个数有关，与样本数和分类数均无关。\n",
    "     属性数＝2  可绘制2维图\n",
    "     属性数＝3  可绘制3维图\n",
    "     属性数>=4  难以进行可视化\n",
    "sklearn给了很多可视化的例子，可以参照例子自己画一下\n",
    "可视化的原理：在decision_function遍历图上的每一个点，遍历结果存储起来，作为contour中的Z参数。"
   ]
  },
  {
   "cell_type": "code",
   "execution_count": 90,
   "metadata": {
    "collapsed": false
   },
   "outputs": [
    {
     "name": "stdout",
     "output_type": "stream",
     "text": [
      "RandomizedSeachCV takes 5.31 seconds for 100 candidates parameter settings.\n",
      "Model with rank : 1\n",
      "Mean validation score : 0.676 (std:0.025)\n",
      "Parameters: {'C': 0.93472302168874843}\n",
      "\n",
      "Model with rank : 2\n",
      "Mean validation score : 0.675 (std:0.025)\n",
      "Parameters: {'C': 0.93267143256470453}\n",
      "\n",
      "Model with rank : 3\n",
      "Mean validation score : 0.675 (std:0.022)\n",
      "Parameters: {'C': 0.91215931310368104}\n",
      "\n"
     ]
    }
   ],
   "source": [
    "# Support Vector Machine - SVC(RBF Kernel)\n",
    "# RBF kernel 的可选参数 包括gamma(默认为auto，n_属性的倒数)\n",
    "from time import time\n",
    "start = time()\n",
    "from sklearn.grid_search import RandomizedSearchCV\n",
    "from scipy.stats import uniform\n",
    "from operator import itemgetter\n",
    "\n",
    "def report(grid_scores,n_top=3):\n",
    "    top_scores = sorted(grid_scores , key = itemgetter(1) , reverse = True)[:n_top]\n",
    "    for i,score in enumerate(top_scores):\n",
    "        print(\"Model with rank : {0}\".format(i+1))\n",
    "        print(\"Mean validation score : {0:.3f} (std:{1:.3f})\".format(score.mean_validation_score,np.std(score.cv_validation_scores)))\n",
    "        print(\"Parameters: {0}\".format(score.parameters))\n",
    "        print(\"\")\n",
    "        \n",
    "svc_rbf = SVC(kernel='rbf') #其他参数：gamma、C \n",
    "[min,max]=[0,1] \n",
    "rv_1 = uniform(min,max)\n",
    "param_dist_1 = {\"C\":rv_1}\n",
    "random_search_1 = RandomizedSearchCV(svc_rbf,param_distributions = param_dist_1 , n_iter =100)\n",
    "random_search_1.fit(X_train,Y_train)\n",
    "print(\"RandomizedSeachCV takes %.2f seconds for %d candidates\"\n",
    "     \" parameter settings.\" % ((time()-start),100))\n",
    "report(random_search_1.grid_scores_)"
   ]
  },
  {
   "cell_type": "code",
   "execution_count": null,
   "metadata": {
    "collapsed": false
   },
   "outputs": [],
   "source": [
    "svc_poly=SVC(kernel='poly') \n",
    "random = svc_poly.fit(X_train,Y_train)\n",
    "svc_poly.score(X_train,Y_train)"
   ]
  },
  {
   "cell_type": "code",
   "execution_count": null,
   "metadata": {
    "collapsed": false
   },
   "outputs": [],
   "source": [
    "# Support Vector Machine - SVC(Poly Kernel)----太慢了，不知道可以适用于什么情况f\n",
    "# poly kernel 的可选参数 包括degree(d，默认为3),gamma(默认为auto，n_属性的倒数),coef0(r,默认为0.0)\n",
    "from time import time \n",
    "from operator import itemgetter\n",
    "from scipy.stats import uniform\n",
    "from sklearn.grid_search import RandomizedSearchCV\n",
    "\n",
    "def report(grid_scores,n_top=3):\n",
    "    top_scores = sorted(grid_scores, key = itemgetter(1), reverse=True)[:n_top]\n",
    "    for i,score in enumerate(top_scores):\n",
    "        print(\"Model with rank : {0}\".format(i+1))\n",
    "        print(\"Mean validation score :{0:3f},(std:{1:.3f})\".format(score.mean_validation_score,np.std(score.cv_validation_scores)))\n",
    "        print(\"Parameters: {0}\".format(score.parameters))\n",
    "        \n",
    "start = time()\n",
    "rv_2 = uniform(0,1)\n",
    "param_dict_2 = {\"C\":rv_2}\n",
    "svc_poly = SVC(kernel='poly')\n",
    "random_search_2=RandomizedSearchCV(svc_poly,param_distributions = param_dict_2,n_iter=1)\n",
    "random_search_2.fit(X_train,Y_train)\n",
    "\n",
    "print(\"RandomizedSearchCV takes %.2f seconds for %d candidates parameter settings.\" %((time()-start),1))\n",
    "report(random_search_2.grid_scores_)"
   ]
  },
  {
   "cell_type": "code",
   "execution_count": null,
   "metadata": {
    "collapsed": false
   },
   "outputs": [],
   "source": [
    "svc_sigmoid=SVC(kernel='sigmoid')\n",
    "random = svc_sigmoid.fit(X_train,Y_train)\n",
    "svc_sigmoid.score(X_train,Y_train)"
   ]
  },
  {
   "cell_type": "code",
   "execution_count": null,
   "metadata": {
    "collapsed": false
   },
   "outputs": [],
   "source": [
    "# Support Vector Machine - SVC(Sigmoid Kernel)  计算速度非常快\n",
    "# Sigmoid Kernel 的可选参数包括gamma(默认为auto，n_属性的倒数),coef0(r,默认为0.0)\n",
    "from time import time\n",
    "from operator import itemgetter\n",
    "from scipy.stats import uniform\n",
    "from sklearn.grid_search import RandomizedSearchCV\n",
    "\n",
    "def report(grid_scores,n_top=3):\n",
    "    top_scores = sorted(grid_scores,key=itemgetter(1),reverse= True)[:3]\n",
    "    for i,score in enumerate(top_scores):\n",
    "        print(\"Model with rank : {0}\".format(i+1))\n",
    "        print(\"Mean validation score: {0:3f},(std:{1:3f})\".format(\n",
    "            score.mean_validation_score,\n",
    "            np.std(score.cv_validation_scores)))\n",
    "        print(\"Parameters: {0}\".format(score.parameters))\n",
    "\n",
    "start = time()\n",
    "rv_3 = uniform(0,1)\n",
    "param_dict_3 ={\"C\":rv_3}\n",
    "svc_sigmoid= SVC(kernel='sigmoid')\n",
    "random_search_3=RandomizedSearchCV(svc_sigmoid,param_distributions= param_dict_3,n_iter=20)\n",
    "random_search_3.fit(X_train,Y_train)\n",
    "\n",
    "print(\"RandomizedSearchCV takes %.2f seconds for %d candidates parameter settings.\"%((time()-start),20))\n",
    "report(random_search_3.grid_scores_)"
   ]
  },
  {
   "cell_type": "markdown",
   "metadata": {},
   "source": [
    "## KNeighborsClassifier K邻近模型\n"
   ]
  },
  {
   "cell_type": "code",
   "execution_count": 88,
   "metadata": {
    "collapsed": false
   },
   "outputs": [
    {
     "name": "stdout",
     "output_type": "stream",
     "text": [
      "GridSearchCV takes 0.627 seconds for 36 candidates parameter settings.\n",
      "Model with rank : 1\n",
      "Mean validation score: 0.728395,(std:0.013837)\n",
      "Parameters: {'p': 1, 'weights': 'distance', 'algorithm': 'brute', 'n_neighbors': 5}\n",
      "Model with rank : 2\n",
      "Mean validation score: 0.725028,(std:0.018305)\n",
      "Parameters: {'p': 1, 'weights': 'distance', 'algorithm': 'ball_tree', 'n_neighbors': 5}\n",
      "Model with rank : 3\n",
      "Mean validation score: 0.723906,(std:0.014547)\n",
      "Parameters: {'p': 1, 'weights': 'distance', 'algorithm': 'kd_tree', 'n_neighbors': 10}\n",
      "Model with rank : 4\n",
      "Mean validation score: 0.722783,(std:0.011446)\n",
      "Parameters: {'p': 1, 'weights': 'distance', 'algorithm': 'ball_tree', 'n_neighbors': 10}\n",
      "Model with rank : 5\n",
      "Mean validation score: 0.718294,(std:0.015632)\n",
      "Parameters: {'p': 1, 'weights': 'distance', 'algorithm': 'brute', 'n_neighbors': 15}\n",
      "Model with rank : 6\n",
      "Mean validation score: 0.718294,(std:0.012992)\n",
      "Parameters: {'p': 1, 'weights': 'distance', 'algorithm': 'ball_tree', 'n_neighbors': 15}\n",
      "Model with rank : 7\n",
      "Mean validation score: 0.717172,(std:0.009912)\n",
      "Parameters: {'p': 1, 'weights': 'distance', 'algorithm': 'kd_tree', 'n_neighbors': 15}\n",
      "Model with rank : 8\n",
      "Mean validation score: 0.717172,(std:0.034447)\n",
      "Parameters: {'p': 1, 'weights': 'uniform', 'algorithm': 'ball_tree', 'n_neighbors': 5}\n",
      "Model with rank : 9\n",
      "Mean validation score: 0.716049,(std:0.012397)\n",
      "Parameters: {'p': 1, 'weights': 'distance', 'algorithm': 'kd_tree', 'n_neighbors': 5}\n",
      "Model with rank : 10\n",
      "Mean validation score: 0.714927,(std:0.029652)\n",
      "Parameters: {'p': 1, 'weights': 'uniform', 'algorithm': 'brute', 'n_neighbors': 5}\n"
     ]
    }
   ],
   "source": [
    "# KNeighborsClassifier\n",
    "# KNeighborsClassifier的可选参数包括algorithm('brute','kd_tree','ball_tree')\n",
    "# n_neighbors(默认为5),  p(1，2，任意值,默认为2，距离计算公式)，weights('uniform','distance' 权重)\n",
    "from sklearn.grid_search import GridSearchCV\n",
    "from time import time\n",
    "from operator import itemgetter\n",
    "\n",
    "def report(grid_scores,n_top=10):\n",
    "    top_scores = sorted(grid_scores,key=itemgetter(1),reverse = True)[:n_top]\n",
    "    for i,score in enumerate(top_scores):\n",
    "        print(\"Model with rank : {0}\".format(i+1))\n",
    "        print(\"Mean validation score: {0:3f},(std:{1:3f})\".format(\n",
    "            score.mean_validation_score,\n",
    "            np.std(score.cv_validation_scores)))\n",
    "        print(\"Parameters: {0}\".format(score.parameters))\n",
    "        \n",
    "start = time()\n",
    "param_grid = {'algorithm':['brute','kd_tree','ball_tree'],\n",
    "              'n_neighbors':[5,10,15],\n",
    "              'p':[1,2],\n",
    "              'weights':['uniform','distance']}\n",
    "knn = KNeighborsClassifier()\n",
    "gridsearch = GridSearchCV(knn,param_grid)\n",
    "gridsearch.fit(X_train,Y_train)\n",
    "print(\"GridSearchCV takes %.3f seconds for %d candidates parameter settings.\" %((time()-start),36))\n",
    "#knn.fit(X_train,Y_train)\n",
    "#Y_pred = knn.predict(X_test)\n",
    "#knn.score(X_train,Y_train)\n",
    "report(gridsearch.grid_scores_)"
   ]
  },
  {
   "cell_type": "code",
   "execution_count": 89,
   "metadata": {
    "collapsed": false
   },
   "outputs": [
    {
     "data": {
      "text/plain": [
       "0.96520763187429859"
      ]
     },
     "execution_count": 89,
     "metadata": {},
     "output_type": "execute_result"
    }
   ],
   "source": [
    "knn = KNeighborsClassifier(n_neighbors=15, p=1,weights='distance', algorithm='kd_tree')\n",
    "knn.fit(X_train,Y_train)\n",
    "Y_pred = knn.predict(X_test)\n",
    "knn.score(X_train,Y_train)"
   ]
  },
  {
   "cell_type": "markdown",
   "metadata": {},
   "source": [
    "## Ensemble methods"
   ]
  },
  {
   "cell_type": "markdown",
   "metadata": {},
   "source": [
    "sklearn提供的ensemble方法：\n",
    "1:averaging methods:\n",
    "  Bagging methods         ensemble.BaggingClassifier([base_estimator, ...]) \tA Bagging classifier.\n",
    "                          ensemble.BaggingRegressor([base_estimator, ...])\t    A Bagging regressor\n",
    "  Forests of randomized trees\n",
    "                          ensemble.RandomForestClassifier([...])\tA random forest classifier.\n",
    "                          ensemble.RandomTreesEmbedding([...])\t    An ensemble of totally random trees.\n",
    "                          ensemble.RandomForestRegressor([...])\t    A random forest regressor.\n",
    "                          ensemble.ExtraTreesClassifier([...])              \tAn extra-trees classifier.\n",
    "                          ensemble.ExtraTreesRegressor([n_estimators, ...])   \tAn extra-trees regressor.\n",
    "2:boosting methods :\n",
    "  AdaBoost                ensemble.AdaBoostClassifier([...])\t                An AdaBoost classifier.\n",
    "                          ensemble.AdaBoostRegressor([base_estimator, ...])\tAn AdaBoost regressor.\n",
    "  Gradient Tree Boosting  ensemble.GradientBoostingClassifier([loss, ...])\tGradient Boosting for classification.\n",
    "                          ensemble.GradientBoostingRegressor([loss, ...])\tGradient Boosting for regression.\n",
    "                          \n",
    "  ensemble.VotingClassifier(estimators[, ...])\tSoft Voting/Majority Rule classifier for unfitted estimators.\n",
    "                   "
   ]
  },
  {
   "cell_type": "code",
   "execution_count": 53,
   "metadata": {
    "collapsed": false
   },
   "outputs": [
    {
     "name": "stdout",
     "output_type": "stream",
     "text": [
      "random forest:0.774410774\n",
      "bagging:0.773288440\n",
      "adaboost:0.793490460\n",
      "extratrees:0.778900112\n",
      "gradientboosting:0.806958474\n"
     ]
    }
   ],
   "source": [
    "# Random Forest\n",
    "from sklearn.cross_validation import cross_val_score\n",
    "from sklearn.ensemble import RandomForestClassifier\n",
    "from sklearn.ensemble import BaggingClassifier\n",
    "from sklearn.ensemble import AdaBoostClassifier\n",
    "from sklearn.ensemble import ExtraTreesClassifier\n",
    "from sklearn.ensemble import GradientBoostingClassifier\n",
    "\n",
    "random_forest = RandomForestClassifier(n_estimators=100)\n",
    "score_random_forest=cross_val_score(random_forest,X_train,Y_train)\n",
    "bagging = BaggingClassifier()\n",
    "score_bagging = cross_val_score(bagging,X_train,Y_train)\n",
    "adaboost = AdaBoostClassifier()\n",
    "score_Adaboost=cross_val_score(adaboost,X_train,Y_train)\n",
    "extra_trees = ExtraTreesClassifier()\n",
    "score_extra_trees = cross_val_score(extra_trees,X_train,Y_train)\n",
    "gradientboosting = GradientBoostingClassifier()\n",
    "score_gradient_boosting = cross_val_score(gradientboosting,X_train,Y_train)\n",
    "\n",
    "print(\"random forest:%.9f\\nbagging:%.9f\\nadaboost:%.9f\\nextratrees:%.9f\\ngradientboosting:%.9f\" \n",
    "      %(score_random_forest.mean(),score_bagging.mean(),score_Adaboost.mean(),score_extra_trees.mean(),score_gradient_boosting.mean()))"
   ]
  },
  {
   "cell_type": "markdown",
   "metadata": {},
   "source": [
    "## 朴素贝叶斯分类  sklearn.naive_bayes: Naive Bayes"
   ]
  },
  {
   "cell_type": "markdown",
   "metadata": {},
   "source": [
    "sklearn中提供了三种朴素贝叶斯分类算法\n",
    "naive_bayes.GaussianNB              \t        Gaussian Naive Bayes (GaussianNB)\n",
    "naive_bayes.MultinomialNB([alpha, ...])\t        Naive Bayes classifier for multinomial models\n",
    "naive_bayes.BernoulliNB([alpha, binarize, ...])\tNaive Bayes classifier for multivariate Bernoulli models."
   ]
  },
  {
   "cell_type": "code",
   "execution_count": 30,
   "metadata": {
    "collapsed": false
   },
   "outputs": [
    {
     "data": {
      "text/plain": [
       "0.75645342312008979"
      ]
     },
     "execution_count": 30,
     "metadata": {},
     "output_type": "execute_result"
    }
   ],
   "source": [
    "# Gaussian Naive Bayes\n",
    "gaussian = GaussianNB()\n",
    "gaussian.fit(X_train,Y_train)\n",
    "Y_pred = gaussian.predict(X_test)\n",
    "gaussian.score(X_train,Y_train)"
   ]
  },
  {
   "cell_type": "code",
   "execution_count": 98,
   "metadata": {
    "collapsed": false
   },
   "outputs": [
    {
     "name": "stdout",
     "output_type": "stream",
     "text": [
      "GaussianNB : 0.753086420\n",
      "MultinomialNB : 0.760942761\n",
      "BernoulliNB : 0.690235690\n"
     ]
    }
   ],
   "source": [
    "from sklearn.naive_bayes import GaussianNB\n",
    "from sklearn.naive_bayes import MultinomialNB\n",
    "from sklearn.naive_bayes import BernoulliNB\n",
    "from sklearn.cross_validation import cross_val_score\n",
    "\n",
    "Gaussian = GaussianNB()\n",
    "score_gaussian = cross_val_score(Gaussian,X_train,Y_train)\n",
    "Bernoulli = BernoulliNB()\n",
    "score_bernoulli = cross_val_score(Bernoulli, X_train, Y_train)\n",
    "Multinomial = MultinomialNB()\n",
    "score_multinomial = cross_val_score(Multinomial,X_train,Y_train)\n",
    "\n",
    "print(\"GaussianNB : %.9f\\nMultinomialNB : %.9f\\nBernoulliNB : %.9f\" %(score_gaussian.mean(),score_bernoulli.mean(),score_multinomial.mean()))"
   ]
  },
  {
   "cell_type": "markdown",
   "metadata": {},
   "source": [
    "## 适合大样本量的SGD Classifier 斯托克斯（随机）梯度下降法  隶属于线性模型 \n"
   ]
  },
  {
   "cell_type": "markdown",
   "metadata": {},
   "source": [
    "SGDClassifier 主要有两个参数\n",
    "损失函数loss：classification：‘hinge’, ‘log’, ‘modified_huber’, ‘squared_hinge’, ‘perceptron’\n",
    "       regression loss: ‘squared_loss’, ‘huber’, ‘epsilon_insensitive’, or ‘squared_epsilon_insensitive’\n",
    "惩罚函数penalty：‘none’, ‘l2’, ‘l1’, or ‘elasticnet’\n",
    "惩罚系数alpha：Defaults to 0.0001  官方文档中说最好用GridSearchCV得到最好的alpha （服从10.0**np.arange(1,7)的分布）"
   ]
  },
  {
   "cell_type": "code",
   "execution_count": 109,
   "metadata": {
    "collapsed": false
   },
   "outputs": [
    {
     "name": "stdout",
     "output_type": "stream",
     "text": [
      "GridSearchCV takes 0.901 seconds\n",
      "Model with rank : 1\n",
      "Mean validation score: 0.726150,(std:0.027810)\n",
      "Parameters: {'loss': 'hinge', 'penalty': 'l1', 'alpha': 0.01}\n",
      "Model with rank : 2\n",
      "Mean validation score: 0.722783,(std:0.037527)\n",
      "Parameters: {'loss': 'perceptron', 'penalty': 'l1', 'alpha': 0.01}\n",
      "Model with rank : 3\n",
      "Mean validation score: 0.719416,(std:0.027674)\n",
      "Parameters: {'loss': 'log', 'penalty': 'l1', 'alpha': 0.01}\n",
      "Model with rank : 4\n",
      "Mean validation score: 0.709315,(std:0.009655)\n",
      "Parameters: {'loss': 'hinge', 'penalty': 'l1', 'alpha': 0.0001}\n",
      "Model with rank : 5\n",
      "Mean validation score: 0.695847,(std:0.056363)\n",
      "Parameters: {'loss': 'log', 'penalty': 'elasticnet', 'alpha': 1.0000000000000001e-05}\n",
      "Model with rank : 6\n",
      "Mean validation score: 0.694725,(std:0.037426)\n",
      "Parameters: {'loss': 'squared_hinge', 'penalty': 'l2', 'alpha': 9.9999999999999995e-07}\n",
      "Model with rank : 7\n",
      "Mean validation score: 0.685746,(std:0.043148)\n",
      "Parameters: {'loss': 'log', 'penalty': 'elasticnet', 'alpha': 0.10000000000000001}\n",
      "Model with rank : 8\n",
      "Mean validation score: 0.682379,(std:0.065597)\n",
      "Parameters: {'loss': 'hinge', 'penalty': 'l2', 'alpha': 0.001}\n",
      "Model with rank : 9\n",
      "Mean validation score: 0.681257,(std:0.046111)\n",
      "Parameters: {'loss': 'log', 'penalty': 'l2', 'alpha': 1.0000000000000001e-05}\n",
      "Model with rank : 10\n",
      "Mean validation score: 0.680135,(std:0.049561)\n",
      "Parameters: {'loss': 'hinge', 'penalty': 'l1', 'alpha': 0.10000000000000001}\n"
     ]
    }
   ],
   "source": [
    "from sklearn.linear_model import SGDClassifier\n",
    "from sklearn.grid_search import GridSearchCV\n",
    "from time import time\n",
    "from operator import itemgetter\n",
    "\n",
    "def report(grid_score,n_top=10):\n",
    "    top_scores = sorted(grid_score,key=itemgetter(1),reverse=True)[:n_top]\n",
    "    for i,score in enumerate(top_scores):\n",
    "        print(\"Model with rank : {0}\".format(i+1))\n",
    "        print(\"Mean validation score: {0:3f},(std:{1:3f})\".format(\n",
    "            score.mean_validation_score,\n",
    "            np.std(score.cv_validation_scores)))\n",
    "        print(\"Parameters: {0}\".format(score.parameters))\n",
    "\n",
    "param_dict = {\"loss\":['hinge','log','squared_hinge','perceptron'],\n",
    "             \"penalty\":['l1','l2','elasticnet'],\n",
    "             \"alpha\":10.0**-np.arange(1,7)}\n",
    "SGDclassifier = SGDClassifier()\n",
    "grid_search = GridSearchCV(SGDclassifier,param_dict)\n",
    "start = time()\n",
    "grid_search.fit(X_train,Y_train)\n",
    "print(\"GridSearchCV takes %.3f seconds\" %(time()-start))\n",
    "report(grid_search.grid_scores_)"
   ]
  },
  {
   "cell_type": "markdown",
   "metadata": {},
   "source": [
    "对于大样本集，若线性模型SGDClassifier不好用，可以对样本（属性）应用kernel approximation（进行核近似），然后对转化完成的数据集使用SGDClassifier模型"
   ]
  },
  {
   "cell_type": "markdown",
   "metadata": {
    "collapsed": true
   },
   "source": [
    "# 补充"
   ]
  },
  {
   "cell_type": "code",
   "execution_count": 30,
   "metadata": {
    "collapsed": false
   },
   "outputs": [
    {
     "data": {
      "text/plain": [
       "pandas.core.frame.DataFrame"
      ]
     },
     "execution_count": 30,
     "metadata": {},
     "output_type": "execute_result"
    }
   ],
   "source": [
    "type(titanic_df)"
   ]
  },
  {
   "cell_type": "code",
   "execution_count": 37,
   "metadata": {
    "collapsed": false
   },
   "outputs": [
    {
     "ename": "TypeError",
     "evalue": "'tuple' object is not callable",
     "output_type": "error",
     "traceback": [
      "\u001b[0;31m---------------------------------------------------------------------------\u001b[0m",
      "\u001b[0;31mTypeError\u001b[0m                                 Traceback (most recent call last)",
      "\u001b[0;32m<ipython-input-37-cddf524eed51>\u001b[0m in \u001b[0;36m<module>\u001b[0;34m()\u001b[0m\n\u001b[1;32m      1\u001b[0m \u001b[0mdata\u001b[0m \u001b[0;34m=\u001b[0m \u001b[0mtitanic_df\u001b[0m\u001b[0;34m[\u001b[0m\u001b[0;34m'Age'\u001b[0m\u001b[0;34m]\u001b[0m\u001b[0;34m\u001b[0m\u001b[0m\n\u001b[1;32m      2\u001b[0m \u001b[0;31m#data.dtype()\u001b[0m\u001b[0;34m\u001b[0m\u001b[0;34m\u001b[0m\u001b[0m\n\u001b[0;32m----> 3\u001b[0;31m \u001b[0mdata\u001b[0m\u001b[0;34m.\u001b[0m\u001b[0mshape\u001b[0m\u001b[0;34m(\u001b[0m\u001b[0;34m)\u001b[0m\u001b[0;34m\u001b[0m\u001b[0m\n\u001b[0m",
      "\u001b[0;31mTypeError\u001b[0m: 'tuple' object is not callable"
     ]
    }
   ],
   "source": [
    "data = titanic_df['Age']\n",
    "#data.dtype()\n",
    "data.shape()"
   ]
  },
  {
   "cell_type": "code",
   "execution_count": 35,
   "metadata": {
    "collapsed": false
   },
   "outputs": [
    {
     "data": {
      "text/html": [
       "<div>\n",
       "<table border=\"1\" class=\"dataframe\">\n",
       "  <thead>\n",
       "    <tr style=\"text-align: right;\">\n",
       "      <th></th>\n",
       "      <th>Age</th>\n",
       "      <th>Class1</th>\n",
       "    </tr>\n",
       "  </thead>\n",
       "  <tbody>\n",
       "    <tr>\n",
       "      <th>0</th>\n",
       "      <td>22</td>\n",
       "      <td>0.0</td>\n",
       "    </tr>\n",
       "    <tr>\n",
       "      <th>1</th>\n",
       "      <td>38</td>\n",
       "      <td>1.0</td>\n",
       "    </tr>\n",
       "    <tr>\n",
       "      <th>2</th>\n",
       "      <td>26</td>\n",
       "      <td>0.0</td>\n",
       "    </tr>\n",
       "    <tr>\n",
       "      <th>3</th>\n",
       "      <td>35</td>\n",
       "      <td>1.0</td>\n",
       "    </tr>\n",
       "    <tr>\n",
       "      <th>4</th>\n",
       "      <td>35</td>\n",
       "      <td>0.0</td>\n",
       "    </tr>\n",
       "    <tr>\n",
       "      <th>5</th>\n",
       "      <td>41</td>\n",
       "      <td>0.0</td>\n",
       "    </tr>\n",
       "    <tr>\n",
       "      <th>6</th>\n",
       "      <td>54</td>\n",
       "      <td>1.0</td>\n",
       "    </tr>\n",
       "    <tr>\n",
       "      <th>7</th>\n",
       "      <td>2</td>\n",
       "      <td>0.0</td>\n",
       "    </tr>\n",
       "    <tr>\n",
       "      <th>8</th>\n",
       "      <td>27</td>\n",
       "      <td>0.0</td>\n",
       "    </tr>\n",
       "    <tr>\n",
       "      <th>9</th>\n",
       "      <td>14</td>\n",
       "      <td>0.0</td>\n",
       "    </tr>\n",
       "    <tr>\n",
       "      <th>10</th>\n",
       "      <td>4</td>\n",
       "      <td>0.0</td>\n",
       "    </tr>\n",
       "    <tr>\n",
       "      <th>11</th>\n",
       "      <td>58</td>\n",
       "      <td>1.0</td>\n",
       "    </tr>\n",
       "    <tr>\n",
       "      <th>12</th>\n",
       "      <td>20</td>\n",
       "      <td>0.0</td>\n",
       "    </tr>\n",
       "    <tr>\n",
       "      <th>13</th>\n",
       "      <td>39</td>\n",
       "      <td>0.0</td>\n",
       "    </tr>\n",
       "    <tr>\n",
       "      <th>14</th>\n",
       "      <td>14</td>\n",
       "      <td>0.0</td>\n",
       "    </tr>\n",
       "    <tr>\n",
       "      <th>15</th>\n",
       "      <td>55</td>\n",
       "      <td>0.0</td>\n",
       "    </tr>\n",
       "    <tr>\n",
       "      <th>16</th>\n",
       "      <td>2</td>\n",
       "      <td>0.0</td>\n",
       "    </tr>\n",
       "    <tr>\n",
       "      <th>17</th>\n",
       "      <td>20</td>\n",
       "      <td>0.0</td>\n",
       "    </tr>\n",
       "    <tr>\n",
       "      <th>18</th>\n",
       "      <td>31</td>\n",
       "      <td>0.0</td>\n",
       "    </tr>\n",
       "    <tr>\n",
       "      <th>19</th>\n",
       "      <td>36</td>\n",
       "      <td>0.0</td>\n",
       "    </tr>\n",
       "    <tr>\n",
       "      <th>20</th>\n",
       "      <td>35</td>\n",
       "      <td>0.0</td>\n",
       "    </tr>\n",
       "    <tr>\n",
       "      <th>21</th>\n",
       "      <td>34</td>\n",
       "      <td>0.0</td>\n",
       "    </tr>\n",
       "    <tr>\n",
       "      <th>22</th>\n",
       "      <td>15</td>\n",
       "      <td>0.0</td>\n",
       "    </tr>\n",
       "    <tr>\n",
       "      <th>23</th>\n",
       "      <td>28</td>\n",
       "      <td>1.0</td>\n",
       "    </tr>\n",
       "    <tr>\n",
       "      <th>24</th>\n",
       "      <td>8</td>\n",
       "      <td>0.0</td>\n",
       "    </tr>\n",
       "    <tr>\n",
       "      <th>25</th>\n",
       "      <td>38</td>\n",
       "      <td>0.0</td>\n",
       "    </tr>\n",
       "    <tr>\n",
       "      <th>26</th>\n",
       "      <td>15</td>\n",
       "      <td>0.0</td>\n",
       "    </tr>\n",
       "    <tr>\n",
       "      <th>27</th>\n",
       "      <td>19</td>\n",
       "      <td>1.0</td>\n",
       "    </tr>\n",
       "    <tr>\n",
       "      <th>28</th>\n",
       "      <td>26</td>\n",
       "      <td>0.0</td>\n",
       "    </tr>\n",
       "    <tr>\n",
       "      <th>29</th>\n",
       "      <td>28</td>\n",
       "      <td>0.0</td>\n",
       "    </tr>\n",
       "    <tr>\n",
       "      <th>...</th>\n",
       "      <td>...</td>\n",
       "      <td>...</td>\n",
       "    </tr>\n",
       "    <tr>\n",
       "      <th>861</th>\n",
       "      <td>21</td>\n",
       "      <td>0.0</td>\n",
       "    </tr>\n",
       "    <tr>\n",
       "      <th>862</th>\n",
       "      <td>48</td>\n",
       "      <td>1.0</td>\n",
       "    </tr>\n",
       "    <tr>\n",
       "      <th>863</th>\n",
       "      <td>34</td>\n",
       "      <td>0.0</td>\n",
       "    </tr>\n",
       "    <tr>\n",
       "      <th>864</th>\n",
       "      <td>24</td>\n",
       "      <td>0.0</td>\n",
       "    </tr>\n",
       "    <tr>\n",
       "      <th>865</th>\n",
       "      <td>42</td>\n",
       "      <td>0.0</td>\n",
       "    </tr>\n",
       "    <tr>\n",
       "      <th>866</th>\n",
       "      <td>27</td>\n",
       "      <td>0.0</td>\n",
       "    </tr>\n",
       "    <tr>\n",
       "      <th>867</th>\n",
       "      <td>31</td>\n",
       "      <td>1.0</td>\n",
       "    </tr>\n",
       "    <tr>\n",
       "      <th>868</th>\n",
       "      <td>27</td>\n",
       "      <td>0.0</td>\n",
       "    </tr>\n",
       "    <tr>\n",
       "      <th>869</th>\n",
       "      <td>4</td>\n",
       "      <td>0.0</td>\n",
       "    </tr>\n",
       "    <tr>\n",
       "      <th>870</th>\n",
       "      <td>26</td>\n",
       "      <td>0.0</td>\n",
       "    </tr>\n",
       "    <tr>\n",
       "      <th>871</th>\n",
       "      <td>47</td>\n",
       "      <td>1.0</td>\n",
       "    </tr>\n",
       "    <tr>\n",
       "      <th>872</th>\n",
       "      <td>33</td>\n",
       "      <td>1.0</td>\n",
       "    </tr>\n",
       "    <tr>\n",
       "      <th>873</th>\n",
       "      <td>47</td>\n",
       "      <td>0.0</td>\n",
       "    </tr>\n",
       "    <tr>\n",
       "      <th>874</th>\n",
       "      <td>28</td>\n",
       "      <td>0.0</td>\n",
       "    </tr>\n",
       "    <tr>\n",
       "      <th>875</th>\n",
       "      <td>15</td>\n",
       "      <td>0.0</td>\n",
       "    </tr>\n",
       "    <tr>\n",
       "      <th>876</th>\n",
       "      <td>20</td>\n",
       "      <td>0.0</td>\n",
       "    </tr>\n",
       "    <tr>\n",
       "      <th>877</th>\n",
       "      <td>19</td>\n",
       "      <td>0.0</td>\n",
       "    </tr>\n",
       "    <tr>\n",
       "      <th>878</th>\n",
       "      <td>25</td>\n",
       "      <td>0.0</td>\n",
       "    </tr>\n",
       "    <tr>\n",
       "      <th>879</th>\n",
       "      <td>56</td>\n",
       "      <td>1.0</td>\n",
       "    </tr>\n",
       "    <tr>\n",
       "      <th>880</th>\n",
       "      <td>25</td>\n",
       "      <td>0.0</td>\n",
       "    </tr>\n",
       "    <tr>\n",
       "      <th>881</th>\n",
       "      <td>33</td>\n",
       "      <td>0.0</td>\n",
       "    </tr>\n",
       "    <tr>\n",
       "      <th>882</th>\n",
       "      <td>22</td>\n",
       "      <td>0.0</td>\n",
       "    </tr>\n",
       "    <tr>\n",
       "      <th>883</th>\n",
       "      <td>28</td>\n",
       "      <td>0.0</td>\n",
       "    </tr>\n",
       "    <tr>\n",
       "      <th>884</th>\n",
       "      <td>25</td>\n",
       "      <td>0.0</td>\n",
       "    </tr>\n",
       "    <tr>\n",
       "      <th>885</th>\n",
       "      <td>39</td>\n",
       "      <td>0.0</td>\n",
       "    </tr>\n",
       "    <tr>\n",
       "      <th>886</th>\n",
       "      <td>27</td>\n",
       "      <td>0.0</td>\n",
       "    </tr>\n",
       "    <tr>\n",
       "      <th>887</th>\n",
       "      <td>19</td>\n",
       "      <td>1.0</td>\n",
       "    </tr>\n",
       "    <tr>\n",
       "      <th>888</th>\n",
       "      <td>31</td>\n",
       "      <td>0.0</td>\n",
       "    </tr>\n",
       "    <tr>\n",
       "      <th>889</th>\n",
       "      <td>26</td>\n",
       "      <td>1.0</td>\n",
       "    </tr>\n",
       "    <tr>\n",
       "      <th>890</th>\n",
       "      <td>32</td>\n",
       "      <td>0.0</td>\n",
       "    </tr>\n",
       "  </tbody>\n",
       "</table>\n",
       "<p>891 rows × 2 columns</p>\n",
       "</div>"
      ],
      "text/plain": [
       "     Age  Class1\n",
       "0     22     0.0\n",
       "1     38     1.0\n",
       "2     26     0.0\n",
       "3     35     1.0\n",
       "4     35     0.0\n",
       "5     41     0.0\n",
       "6     54     1.0\n",
       "7      2     0.0\n",
       "8     27     0.0\n",
       "9     14     0.0\n",
       "10     4     0.0\n",
       "11    58     1.0\n",
       "12    20     0.0\n",
       "13    39     0.0\n",
       "14    14     0.0\n",
       "15    55     0.0\n",
       "16     2     0.0\n",
       "17    20     0.0\n",
       "18    31     0.0\n",
       "19    36     0.0\n",
       "20    35     0.0\n",
       "21    34     0.0\n",
       "22    15     0.0\n",
       "23    28     1.0\n",
       "24     8     0.0\n",
       "25    38     0.0\n",
       "26    15     0.0\n",
       "27    19     1.0\n",
       "28    26     0.0\n",
       "29    28     0.0\n",
       "..   ...     ...\n",
       "861   21     0.0\n",
       "862   48     1.0\n",
       "863   34     0.0\n",
       "864   24     0.0\n",
       "865   42     0.0\n",
       "866   27     0.0\n",
       "867   31     1.0\n",
       "868   27     0.0\n",
       "869    4     0.0\n",
       "870   26     0.0\n",
       "871   47     1.0\n",
       "872   33     1.0\n",
       "873   47     0.0\n",
       "874   28     0.0\n",
       "875   15     0.0\n",
       "876   20     0.0\n",
       "877   19     0.0\n",
       "878   25     0.0\n",
       "879   56     1.0\n",
       "880   25     0.0\n",
       "881   33     0.0\n",
       "882   22     0.0\n",
       "883   28     0.0\n",
       "884   25     0.0\n",
       "885   39     0.0\n",
       "886   27     0.0\n",
       "887   19     1.0\n",
       "888   31     0.0\n",
       "889   26     1.0\n",
       "890   32     0.0\n",
       "\n",
       "[891 rows x 2 columns]"
      ]
     },
     "execution_count": 35,
     "metadata": {},
     "output_type": "execute_result"
    }
   ],
   "source": [
    "# DataFrame sliced 数据框切片，只选取指定列\n",
    "titanic_df[['Age','Class1']]"
   ]
  },
  {
   "cell_type": "code",
   "execution_count": 36,
   "metadata": {
    "collapsed": false
   },
   "outputs": [
    {
     "ename": "TypeError",
     "evalue": "'tuple' object is not callable",
     "output_type": "error",
     "traceback": [
      "\u001b[0;31m---------------------------------------------------------------------------\u001b[0m",
      "\u001b[0;31mTypeError\u001b[0m                                 Traceback (most recent call last)",
      "\u001b[0;32m<ipython-input-36-3fbfe2f9e43a>\u001b[0m in \u001b[0;36m<module>\u001b[0;34m()\u001b[0m\n\u001b[0;32m----> 1\u001b[0;31m \u001b[0mtitanic_df\u001b[0m\u001b[0;34m.\u001b[0m\u001b[0mshape\u001b[0m\u001b[0;34m(\u001b[0m\u001b[0;34m)\u001b[0m\u001b[0;34m\u001b[0m\u001b[0m\n\u001b[0m",
      "\u001b[0;31mTypeError\u001b[0m: 'tuple' object is not callable"
     ]
    }
   ],
   "source": []
  },
  {
   "cell_type": "code",
   "execution_count": null,
   "metadata": {
    "collapsed": true
   },
   "outputs": [],
   "source": []
  }
 ],
 "metadata": {
  "anaconda-cloud": {},
  "kernelspec": {
   "display_name": "Python [Root]",
   "language": "python",
   "name": "Python [Root]"
  },
  "language_info": {
   "codemirror_mode": {
    "name": "ipython",
    "version": 3
   },
   "file_extension": ".py",
   "mimetype": "text/x-python",
   "name": "python",
   "nbconvert_exporter": "python",
   "pygments_lexer": "ipython3",
   "version": "3.5.2"
  }
 },
 "nbformat": 4,
 "nbformat_minor": 0
}
