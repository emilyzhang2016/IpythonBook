{
 "cells": [
  {
   "cell_type": "markdown",
   "metadata": {},
   "source": [
    "# python数据结构"
   ]
  },
  {
   "cell_type": "markdown",
   "metadata": {},
   "source": [
    "python的数据结构可称为容器。序列，映射，集合是三类主要的容器"
   ]
  },
  {
   "cell_type": "markdown",
   "metadata": {},
   "source": [
    "\n",
    "## 一、序列"
   ]
  },
  {
   "cell_type": "markdown",
   "metadata": {},
   "source": [
    "序列：每个元素都有自己的编号\n",
    "序列的分类：列表、元组、字符串、Unicode字符串、buffer对象和xrange对象 \n"
   ]
  },
  {
   "cell_type": "markdown",
   "metadata": {},
   "source": [
    "### 1、列表"
   ]
  },
  {
   "cell_type": "markdown",
   "metadata": {},
   "source": [
    "列表是可变的，这是它区别于字符串和元组的最重要的特点，一句话概括即：列表可以修改，而字符串和元组不能。\n"
   ]
  },
  {
   "cell_type": "code",
   "execution_count": 1,
   "metadata": {
    "collapsed": false
   },
   "outputs": [
    {
     "name": "stdout",
     "output_type": "stream",
     "text": [
      "[] ['hello', 'world'] [1, 2, 3]\n"
     ]
    }
   ],
   "source": [
    "#创建方式一   方括号\n",
    "list1=[] \n",
    "list2=['hello','world']\n",
    "list3=[1,2,3]\n",
    "print(list1,list2,list3)"
   ]
  },
  {
   "cell_type": "code",
   "execution_count": 7,
   "metadata": {
    "collapsed": false
   },
   "outputs": [
    {
     "name": "stdout",
     "output_type": "stream",
     "text": [
      "['h', 'e', 'l', 'l', 'o', 'w', 'o', 'r', 'l', 'd'] [1, 2, 3, 4]\n"
     ]
    }
   ],
   "source": [
    "#创建方式二   list函数\n",
    "#list函数：以一个序列（注意是序列）作为参数并把它转换为列表\n",
    "list4=list('helloworld')#将字符串转换为列表\n",
    "list5=list((1,2,3,4))#将元组转换为列表\n",
    "print(list4,list5)"
   ]
  },
  {
   "cell_type": "markdown",
   "metadata": {},
   "source": [
    "### 2、元组"
   ]
  },
  {
   "cell_type": "markdown",
   "metadata": {},
   "source": [
    "元组与列表一样，也是一种序列，唯一不同的是元组不能被修改（字符串其实也有这种特点）。"
   ]
  },
  {
   "cell_type": "code",
   "execution_count": 4,
   "metadata": {
    "collapsed": false
   },
   "outputs": [
    {
     "name": "stdout",
     "output_type": "stream",
     "text": [
      "(1, 2, 3) ('hello', 'world') (1, 2, 3, 4) ('hello', 'world') (1,)\n"
     ]
    }
   ],
   "source": [
    "#创建方式一  逗号分隔、小括号\n",
    "t1=1,2,3\n",
    "t2='hello','world'\n",
    "t3=(1,2,3,4)\n",
    "t4=('hello','world')\n",
    "t5=(1,) #为了与数学上的小括号的功能相区别\n",
    "print(t1,t2,t3,t4,t5)"
   ]
  },
  {
   "cell_type": "markdown",
   "metadata": {},
   "source": [
    "总结\n",
    "a、逗号分隔一些值，元组自动创建完成；\n",
    "\n",
    "b、元组大部分时候是通过圆括号括起来的；\n",
    "\n",
    "c、空元组可以用没有包含内容的圆括号来表示；\n",
    "\n",
    "d、只含一个值的元组，必须加个逗号（,）；"
   ]
  },
  {
   "cell_type": "code",
   "execution_count": 9,
   "metadata": {
    "collapsed": false
   },
   "outputs": [
    {
     "name": "stdout",
     "output_type": "stream",
     "text": [
      "(1, 2, 3) ('h', 'e', 'l', 'l', 'o', 'w', 'o', 'r', 'l', 'd') (1, 2, 3)\n"
     ]
    }
   ],
   "source": [
    "#创建方式二  tuple函数\n",
    "#tuple函数的作用：以一个序列（注意是序列）作为参数并把它转换为元组。如果参数就算元组，那么该参数就会原样返回：\n",
    "t1=tuple([1,2,3])\n",
    "t2=tuple('helloworld')\n",
    "t3=tuple((1,2,3))\n",
    "print(t1,t2,t3)"
   ]
  },
  {
   "cell_type": "markdown",
   "metadata": {},
   "source": [
    "### 3、字符串"
   ]
  },
  {
   "cell_type": "markdown",
   "metadata": {},
   "source": [
    "字符串的创建：\n",
    "单引号，双引号，三引号，三个双引号都可以创建字符串。\n",
    "单引号定义下，若字符串包含单引号，则需要转义，包含双引号则不需要转义\n",
    "双引号定义下，若字符串包含单引号，不需要转义，若包含双引号，则需要转义\n",
    "三引号和三个双引号定义下，若字符串包含单引号和双引号，不需要转义，若包含三引号，则需要转义。\n",
    "三个双引号和三引号引号的其他作用是支持多行输入字符串，省略了\\n的书写"
   ]
  },
  {
   "cell_type": "code",
   "execution_count": 17,
   "metadata": {
    "collapsed": false
   },
   "outputs": [
    {
     "name": "stdout",
     "output_type": "stream",
     "text": [
      "i'm lucky\n",
      " i'm lucky\n",
      " i'm lucky\n",
      "and what about you\n",
      "  i'm lucky\n",
      "and what about you #jddhfhf\n"
     ]
    }
   ],
   "source": [
    "str1='i\\'m lucky\\n'\n",
    "str2=\"i'm lucky\\n\"\n",
    "str3='''i'm lucky\n",
    "and what about you\\n '''\n",
    "str4=\"\"\"i'm lucky\n",
    "and what about you #jddhfhf\"\"\"\n",
    "print(str1,str2,str3,str4)"
   ]
  },
  {
   "cell_type": "markdown",
   "metadata": {},
   "source": [
    "拓展：字符串的三引号定义与python注释语法的区别：\n",
    "python注释：单行注释＃ 多行注释'''   '''  或\"\"\"    \"\"\"\n",
    "例子："
   ]
  },
  {
   "cell_type": "code",
   "execution_count": 21,
   "metadata": {
    "collapsed": false
   },
   "outputs": [
    {
     "data": {
      "text/plain": [
       "'   这是注释\\n这是注释\\n这是注释'"
      ]
     },
     "execution_count": 21,
     "metadata": {},
     "output_type": "execute_result"
    }
   ],
   "source": [
    "# this is 注释\n",
    "\n",
    "\"\"\"  这是注释\n",
    "     这是注释\n",
    "     这是注释\n",
    "\"\"\"\n",
    "'''   这是注释\n",
    "      这是注释\n",
    "     这是注释'''\n"
   ]
  },
  {
   "cell_type": "markdown",
   "metadata": {},
   "source": [
    "拓展：python添加中文注释的两种方法  ！！！写这个的目的是可以写中文注释\n",
    "#coding=utf-8\n",
    "或者：\n",
    "#coding=gbk\n",
    "或者\n",
    "# -*- coding:utf-8 -*-"
   ]
  },
  {
   "cell_type": "markdown",
   "metadata": {},
   "source": [
    "字符串的格式化输出：\n",
    "1、单个字符串的格式化输出 '%s' %变量名\n",
    "2、字符串元组的格式化输出 元组的每个字符串各自对应一个%s  ‘%s%s%s’ %拥有三个字符串的元组变量名 \n",
    "3、字符串字典的格式化输出  '%(key1)s%(key2)s' %字典的变量名"
   ]
  },
  {
   "cell_type": "code",
   "execution_count": 33,
   "metadata": {
    "collapsed": false
   },
   "outputs": [
    {
     "name": "stdout",
     "output_type": "stream",
     "text": [
      "hello,world.:emily\n",
      " hello,world~~~\n",
      " hello,world\n",
      " %,world.\n"
     ]
    }
   ],
   "source": [
    "str1='world.'\n",
    "str2=('hello','world')\n",
    "str3={'h':'hello','w':'world'}\n",
    "str11='hello,%s:emily\\n' %str1 #注意，逗号不是两个字符串之间的分隔符，而是要输出的内容\n",
    "str22='%s,%s~~~\\n' %str2      \n",
    "str33='%(h)s,%(w)s\\n' %str3\n",
    "\n",
    "str4='%%,%s' %str1 #%作为特殊字符在输出时要转义\n",
    "print(str11,str22,str33,str4)"
   ]
  },
  {
   "cell_type": "markdown",
   "metadata": {},
   "source": [
    "数字的格式化输出"
   ]
  },
  {
   "cell_type": "code",
   "execution_count": 34,
   "metadata": {
    "collapsed": false
   },
   "outputs": [
    {
     "name": "stdout",
     "output_type": "stream",
     "text": [
      "3.14   3.141593       3.14\n"
     ]
    }
   ],
   "source": [
    "from math import pi\n",
    "str1='%.2f' %pi #精度2\n",
    "str2='%10f' %pi  #字宽10\n",
    "str3='%10.2f' %pi  #精度2 字宽10\n",
    "print(str1,str2,str3)"
   ]
  },
  {
   "cell_type": "markdown",
   "metadata": {},
   "source": [
    "Python中在string模块还提供另外一种格式化值的方法：模板字符串。它的工作方式类似于很多UNIX Shell里的变量替换，如下所示："
   ]
  },
  {
   "cell_type": "code",
   "execution_count": 40,
   "metadata": {
    "collapsed": false
   },
   "outputs": [
    {
     "name": "stdout",
     "output_type": "stream",
     "text": [
      "hello,world!\n"
     ]
    }
   ],
   "source": [
    "from string import Template\n",
    "str1=Template('$x,$y!')#定义一个模版字符串str1\n",
    "str1=str1.substitute(x='hello',y='world')#用其他字符串替换模版中的字符\n",
    "print(str1)\n"
   ]
  },
  {
   "cell_type": "code",
   "execution_count": 43,
   "metadata": {
    "collapsed": false
   },
   "outputs": [
    {
     "name": "stdout",
     "output_type": "stream",
     "text": [
      "i'm Mrs.emily\n"
     ]
    }
   ],
   "source": [
    "#如果替换字段是单词的一部分，那么参数名称就必须用括号括起来，从而准确指明结尾：\n",
    "from string import Template\n",
    "str1=Template(\"i'm Mrs.${name}\")\n",
    "str1=str1.substitute(name='emily')\n",
    "print(str1)"
   ]
  },
  {
   "cell_type": "code",
   "execution_count": 47,
   "metadata": {
    "collapsed": false
   },
   "outputs": [
    {
     "name": "stdout",
     "output_type": "stream",
     "text": [
      "I'm Emily,you're Tom,we're friends\n"
     ]
    }
   ],
   "source": [
    "#除了关键字参数之外，模板字符串还可以使用字典变量提供键值对进行格式化：上例可写成\n",
    "from string import Template\n",
    "d={'name1':'Emily','name2':'Tom'}\n",
    "str1=Template(\"I'm ${name1},you're ${name2},we're friends\")\n",
    "str1=str1.substitute(d)\n",
    "print(str1)"
   ]
  },
  {
   "cell_type": "markdown",
   "metadata": {},
   "source": [
    "### 序列通用操作（方法）"
   ]
  },
  {
   "cell_type": "markdown",
   "metadata": {},
   "source": [
    "从列表、元组以及字符串可以“抽象”出序列的一些公共通用方法（不是你想像中的CRUD）\n",
    "这些操作包括：索引（indexing）、分片（sliceing）、加（adding）、乘（multiplying）以及检查某个元素是否属于序列的成员。\n",
    "除此之外，还有计算序列长度、最大最小元素等内置函数。"
   ]
  },
  {
   "cell_type": "markdown",
   "metadata": {},
   "source": [
    "#### 序列通用方法之索引和切片"
   ]
  },
  {
   "cell_type": "markdown",
   "metadata": {},
   "source": [
    "索引从0（从左向右）开始，所有序列可通过这种方式进行索引。神奇的是，索引可以从最后一个位置（从右向左）开始，编号是-1：\n",
    "分片操作用来访问一定范围内的元素。分片通过冒号相隔的两个索引来实现，半闭半开区间"
   ]
  },
  {
   "cell_type": "code",
   "execution_count": 54,
   "metadata": {
    "collapsed": false
   },
   "outputs": [
    {
     "name": "stdout",
     "output_type": "stream",
     "text": [
      "a 1 3 amazing [1, 2] (3, 4) aaig\n"
     ]
    }
   ],
   "source": [
    "str1=\"amazing\"\n",
    "str2=[1,2,3]\n",
    "str3=(3,4,5)\n",
    "print(str1[0],str2[0],str3[0],str1[0:7],str2[0:2],str3[0:2],str1[0:8:2])"
   ]
  },
  {
   "cell_type": "markdown",
   "metadata": {},
   "source": [
    "#### 序列通用方法之序列相加相乘"
   ]
  },
  {
   "cell_type": "markdown",
   "metadata": {},
   "source": [
    "字符串相加,列表相加,元组相加均为左右相加\n",
    "不同序列类型不可以相加，即元组不可以跟列表相加"
   ]
  },
  {
   "cell_type": "code",
   "execution_count": 57,
   "metadata": {
    "collapsed": false
   },
   "outputs": [
    {
     "name": "stdout",
     "output_type": "stream",
     "text": [
      "helloworld [1, 2, 3, 4, 1, 2, 3, 4] (1, 2, 3, 4, 1, 2, 3, 4)\n"
     ]
    }
   ],
   "source": [
    "str1='hello' \n",
    "str2='world'\n",
    "l1=[1,2,3,4] \n",
    "l2=[1,2,3,4]\n",
    "t1=(1,2,3,4)\n",
    "t2=(1,2,3,4)\n",
    "print(str1+str2,l1+l2,t1+t2)"
   ]
  },
  {
   "cell_type": "code",
   "execution_count": 59,
   "metadata": {
    "collapsed": false
   },
   "outputs": [
    {
     "name": "stdout",
     "output_type": "stream",
     "text": [
      "hellohello [1, 2, 3, 4, 1, 2, 3, 4, 1, 2, 3, 4] (1, 2, 3, 4, 1, 2, 3, 4, 1, 2, 3, 4, 1, 2, 3, 4)\n"
     ]
    }
   ],
   "source": [
    "#字符串乘整数，列表乘整数，元组乘整数均为复制\n",
    "str1='hello' \n",
    "l1=[1,2,3,4] \n",
    "t1=(1,2,3,4)\n",
    "print(str1*2,l1*3,t1*4)"
   ]
  },
  {
   "cell_type": "markdown",
   "metadata": {},
   "source": [
    "#### 序列通用方法之成员资格"
   ]
  },
  {
   "cell_type": "code",
   "execution_count": 60,
   "metadata": {
    "collapsed": false
   },
   "outputs": [
    {
     "name": "stdout",
     "output_type": "stream",
     "text": [
      "True False True False True False\n"
     ]
    }
   ],
   "source": [
    "# in运算符会用来检查一个对象是否为某个序列（或者其他类型）的成员（即元素）\n",
    "str1='hello' \n",
    "l1=[1,2,3,4] \n",
    "t1=(1,2,3,4)\n",
    "print('h' in str1,'H' in str1,2 in l1,5 in l1,3 in t1,5 in t1)"
   ]
  },
  {
   "cell_type": "markdown",
   "metadata": {},
   "source": [
    "#### 序列通用方法之长度、最大最小值"
   ]
  },
  {
   "cell_type": "code",
   "execution_count": 62,
   "metadata": {
    "collapsed": false
   },
   "outputs": [
    {
     "name": "stdout",
     "output_type": "stream",
     "text": [
      "o e 5 4 1 4 4 1 4\n"
     ]
    }
   ],
   "source": [
    "#通过内建函数len、max和min可以返回序列中所包含元素的数量、最大和最小元素。 函数名均为三位简化字符\n",
    "str1='hello' \n",
    "l1=[1,2,3,4] \n",
    "t1=(1,2,3,4)\n",
    "print(max(str1),min(str1),len(str1),max(l1),min(l1),len(l1),max(t1),min(t1),len(t1))"
   ]
  },
  {
   "cell_type": "markdown",
   "metadata": {},
   "source": [
    "#### 列表的方法"
   ]
  },
  {
   "cell_type": "markdown",
   "metadata": {},
   "source": [
    "增：\n",
    "list.append(obj)\n",
    "在列表末尾添加新的对象\n",
    "list.insert(index, obj)\n",
    "将对象插入列表，可指明位置\n",
    "list.extend(seq)\n",
    "在列表末尾一次性追加另一个序列中的多个值（用新列表扩展原来的列表）\n",
    "\n",
    "删 \n",
    "list.pop(obj=list[-1])\n",
    "移除列表中的一个元素（默认最后一个元素），并且返回该元素的\n",
    "list.remove(obj)\n",
    "移除列表中某个值的第一个匹配项\n",
    "\n",
    "查\n",
    "list.index(obj)\n",
    "从列表中找出某个值第一个匹配项的索引位置\n",
    "list.count(obj)\n",
    "统计某个元素在列表中出现的次数\n",
    "\n",
    "排序\n",
    "list.reverse()\n",
    "反向列表中元素\n",
    "list.sort([func])\n",
    "对原列表进行排序"
   ]
  },
  {
   "cell_type": "markdown",
   "metadata": {},
   "source": [
    "#### python range函数的用法"
   ]
  },
  {
   "cell_type": "code",
   "execution_count": 14,
   "metadata": {
    "collapsed": false
   },
   "outputs": [
    {
     "name": "stdout",
     "output_type": "stream",
     "text": [
      "range(1, 5)\n"
     ]
    }
   ],
   "source": [
    "print(range(1,5))"
   ]
  },
  {
   "cell_type": "code",
   "execution_count": 8,
   "metadata": {
    "collapsed": false
   },
   "outputs": [
    {
     "name": "stdout",
     "output_type": "stream",
     "text": [
      "[1, 2, 3, 4]\n"
     ]
    }
   ],
   "source": [
    "print(list(range(1,5))) #代表从1到5(不包含5)"
   ]
  },
  {
   "cell_type": "code",
   "execution_count": 10,
   "metadata": {
    "collapsed": false
   },
   "outputs": [
    {
     "name": "stdout",
     "output_type": "stream",
     "text": [
      "[1, 3]\n"
     ]
    }
   ],
   "source": [
    "print(list(range(1,5,2))) #代表从1到5，间隔2(不包含5)"
   ]
  },
  {
   "cell_type": "code",
   "execution_count": 13,
   "metadata": {
    "collapsed": false
   },
   "outputs": [
    {
     "name": "stdout",
     "output_type": "stream",
     "text": [
      "[0, 1, 2, 3, 4]\n"
     ]
    }
   ],
   "source": [
    "print(list(range(5))) #代表从0到5(不包含5) 默认情况下range() 的起始值是 0。"
   ]
  },
  {
   "cell_type": "markdown",
   "metadata": {},
   "source": [
    "#### python None和Null的区别"
   ]
  },
  {
   "cell_type": "markdown",
   "metadata": {},
   "source": [
    "一、Python对象\n",
    "\n",
    "要理解这个，首先要理解Python对象：\n",
    "\n",
    "python对象具有三个特性：身份、类型、值。\n",
    "\n",
    "三特性在对象创建时被赋值。只有值可以改变，其他只读。\n",
    "\n",
    "类型本身也是对象。\n",
    "\n",
    "二、Null与None\n",
    "\n",
    "是Python的特殊类型，Null对象或者是None Type，它只有一个值None.\n",
    "\n",
    "它不支持任何运算也没有任何内建方法.\n",
    "\n",
    "None和任何其他的数据类型比较永远返回False。\n",
    "\n",
    "None有自己的数据类型NoneType。\n",
    "\n",
    "你可以将None复制给任何变量，但是你不能创建其他NoneType对象。\n",
    "\n",
    "记住：\n",
    "python 返回 None\n",
    "java 返回 null"
   ]
  },
  {
   "cell_type": "markdown",
   "metadata": {},
   "source": [
    "## 二、映射（字典）"
   ]
  },
  {
   "cell_type": "markdown",
   "metadata": {},
   "source": [
    "映射中的每个元素都有一个名字，如你所知，这个名字专业的名称叫键。字典（也叫散列表）是Python中唯一内建的映射类型。\n",
    "1、键类型［不可变，三种］\n",
    "字典的键可以是数字、字符串或者是元组，键必须唯一。在Python中，数字、字符串和元组都被设计成不可变类型，而常见的列表以及集合（set）都是可变的，所以列表和集合不能作为字典的键。键可以为任何不可变类型，这正是Python中的字典最强大的地方。\n",
    "\n",
    "\n",
    "映射和序列的区别：\n",
    "1.存取和访问数据的方式不同。\n",
    "2.序列类型只用数字类型的键（从序列的开始按数值顺序索引）；\n",
    "3.映射类型可以用其他对象类型作键（如：数字、字符串、元祖，一般用字符串作键），和序列类型的键不同，映射类型的键直4.接或间接地和存储数据值相关联。\n",
    "5.映射类型中的数据是无序排列的。这和序列类型是不一样的，序列类型是以数值序排列的。\n",
    "6.映射类型用键直接“映射”到值。"
   ]
  },
  {
   "cell_type": "markdown",
   "metadata": {
    "collapsed": true
   },
   "source": [
    "定义：字典的每个键值(key=>value)对用冒号(:)分割，每个对之间用逗号(,)分割，整个字典包括在花括号({})中 ,格式如下所示\n",
    "特点：\n",
    "1、键与值用冒号“：”分开；\n",
    "2、项与项用逗号“，”分开；\n",
    "3、字典中的键必须是唯一的，而值可以不唯一"
   ]
  },
  {
   "cell_type": "code",
   "execution_count": 7,
   "metadata": {
    "collapsed": false
   },
   "outputs": [
    {
     "name": "stdout",
     "output_type": "stream",
     "text": [
      "{} {'1': 'emily', '2': 'tom'}\n"
     ]
    }
   ],
   "source": [
    "dict1={}\n",
    "dict2={'1':'emily','2':'tom'}\n",
    "print(dict1,dict2)"
   ]
  },
  {
   "cell_type": "code",
   "execution_count": 8,
   "metadata": {
    "collapsed": false
   },
   "outputs": [
    {
     "name": "stdout",
     "output_type": "stream",
     "text": [
      "{'1': 'linda', '3': 'amy'} linda amy\n"
     ]
    }
   ],
   "source": [
    "#字典每个键值对的增删改查\n",
    "\n",
    "dict2['3']='amy' #增\n",
    "del dict2['2']  # 删除键是'2'的条目\n",
    "dict2['1']='linda'#改\n",
    "print(dict2,dict2['1'],dict2['3'])#查"
   ]
  },
  {
   "cell_type": "code",
   "execution_count": 9,
   "metadata": {
    "collapsed": true
   },
   "outputs": [],
   "source": [
    "#拓展\n",
    "dict2.clear();     # 清空词典所有条目\n",
    "del dict2 ;        # 删除字典"
   ]
  },
  {
   "cell_type": "markdown",
   "metadata": {
    "collapsed": true
   },
   "source": [
    "#字典的内置函数\n",
    "Python字典包含了以下内置函数：！！！内置函数名一般为三个字符的缩写\n",
    "1、cmp(dict1, dict2)：比较两个字典元素。  \n",
    "2、len(dict)：计算字典元素个数，即键的总数。\n",
    "3、str(dict)：输出字典可打印的字符串表示。\n",
    "4、type(variable)：返回输入的变量类型，如果变量是字典就返回字典类型。"
   ]
  },
  {
   "cell_type": "markdown",
   "metadata": {},
   "source": [
    "#字典的内置方法\n",
    "Python字典包含了以下内置方法：！！！内置方法通常是完整单词\n",
    "1、dict.clear()：删除字典内所有元素\n",
    "2、dict.copy()：返回一个字典的浅复制\n",
    "3、dict.fromkeys()：创建一个新字典，以序列seq中元素做字典的键，val为字典所有键对应的初始值\n",
    "8、dict.setdefault(key, default=None)：和get()类似, 但如果键不已经存在于字典中，将会添加键并将值设为default\n",
    "9、dict.update(dict2)：把字典dict2的键/值对更新到dict里\n",
    "重要的方法\n",
    "4、dict.get(key, default=None)：返回指定键的值，如果值不在字典中返回default值\n",
    "5、dict.has_key(key)：如果键在字典dict里返回true，否则返回false\n",
    "6、dict.items()：以列表返回可遍历的(键, 值) 元组数组\n",
    "7、dict.keys()：以列表返回一个字典所有的键\n",
    "10、dict.values()：以列表返回字典中的所有值\n",
    "后三个均已列表返回结果\n",
    "\n",
    "注意：表达式item in d（d为字典）查找的是键（containskey），而不是值（containsvalue）。"
   ]
  },
  {
   "cell_type": "markdown",
   "metadata": {},
   "source": [
    "## 三、集合"
   ]
  },
  {
   "cell_type": "markdown",
   "metadata": {},
   "source": [
    "可变集合(set)：可添加和删除元素，非可哈希的，不能用作字典的键，也不能做其他集合的元素\n",
    "不可变集合(frozenset)：与上面恰恰相反"
   ]
  },
  {
   "cell_type": "code",
   "execution_count": 2,
   "metadata": {
    "collapsed": false
   },
   "outputs": [
    {
     "name": "stdout",
     "output_type": "stream",
     "text": [
      "{'h', 'l', 'o', 'e'} {1, 2, 3, 4} {1, 2, 3, 4} frozenset({'h', 'l', 'o', 'e'})\n"
     ]
    }
   ],
   "source": [
    "#由于集合没有自己的语法格式，只能通过集合的工厂方法set()和frozenset()创建\n",
    "#集合的定义：只有一种方法，利用set函数将其他任何一个数据结构转化为集合。\n",
    "set1=set('hello')\n",
    "set2=set([1,2,3,4])\n",
    "set3=set((1,2,3,4))\n",
    "set4=frozenset('hello')\n",
    "print(set1,set2,set3,set4)"
   ]
  },
  {
   "cell_type": "code",
   "execution_count": 6,
   "metadata": {
    "collapsed": false
   },
   "outputs": [
    {
     "name": "stdout",
     "output_type": "stream",
     "text": [
      "True True\n"
     ]
    }
   ],
   "source": [
    "#由于集合本身是无序的，所以不能为集合创建索引或切片操作，只能循环遍历或使用in、not in来访问或判断集合元素。\n",
    "print('h' in set4,'a' not in set4)"
   ]
  },
  {
   "cell_type": "code",
   "execution_count": 8,
   "metadata": {
    "collapsed": false
   },
   "outputs": [
    {
     "name": "stdout",
     "output_type": "stream",
     "text": [
      "{'e', 'M', 'a', 'l', 'h'}\n"
     ]
    }
   ],
   "source": [
    "#可使用以下内建方法来更新：\n",
    "\n",
    "set1.add('a')\n",
    "set1.update('M')\n",
    "set1.remove('o')\n",
    "print(set1)\n",
    "#"
   ]
  },
  {
   "cell_type": "markdown",
   "metadata": {},
   "source": [
    "集合常用方法\n",
    "交集union\n",
    "其他常见操作包括&（交集）,<=,>=,-,copy()等等，这里不再列举。"
   ]
  },
  {
   "cell_type": "markdown",
   "metadata": {},
   "source": [
    "扩展的数据结构_NumPy包\n",
    "\n",
    "标准安装的Python中用列表(list)保存一组值，可以用来当作数组使用，不过由于列表的元素可以是任何对象，因此列表中所保存的是对象的指针。这样为了保存一个简单的[1,2,3]，需要有3个指针和三个整数对象。对于数值运算来说这种结构显然比较浪费内存和CPU计算时间。\n",
    "\n",
    "此外Python还提供了一个array模块，array对象和列表不同，它直接保存数值，和C语言的一维数组比较类似。但是由于它不支持多维，也没有各种运算函数，因此也不适合做数值运算。\n",
    "\n",
    "NumPy的诞生弥补了这些不足，NumPy提供了两种基本的对象：ndarray（N-dimensional array object）和 ufunc（universal function object）。ndarray(下文统一称之为数组)是存储单一数据类型的多维数组，而ufunc则是能够对数组进行处理的函数。"
   ]
  },
  {
   "cell_type": "markdown",
   "metadata": {},
   "source": [
    "注意下面两种引入包方式的差异\n",
    "1、 import numpy as np\n",
    "    numpy包中方法的调用形式: np.array()\n",
    "2、 from numpy import *\n",
    "    numpy包中方法的调用形式: array()\n",
    "\n",
    "numpy.array的创建方式：\n",
    "通过给array函数传递Python的序列对象创建数组(python中的序列对象有三种：字符串，元组，列表)，如果传递的是多层嵌套的序列\n",
    "例子：c = np.array([[1, 2, 3, 4],[4, 5, 6, 7], [7, 8, 9, 10]])\n",
    "\n",
    "查看数组中元素的数据类型:c.dtype\n",
    "数组的大小可以通过其shape属性获得：c.shape \n",
    "[注意属性不用➕括号，只有调用方法时才需要加括号，这是属性和方法在使用上的差异。除此之外，属性和方法的定义方式也不同]\n",
    "     可以通过修改数组的shape属性，在保持数组元素个数不变的情况下，改变数组每个轴的长度\n",
    "     c.shape = (5,5)# 因此原来是3*4 必须保证转换后数组的元素个数仍是12\n",
    "     使用的注意事项：新的数组大小必须不能够被改变，就是数组的元素个数不能变，之前的8个元素，在你的维度改变之后，元素个数还应该是原来的数目。\n",
    "数组的reshape方法，可以创建一个改变了尺寸的新数组，原数组的shape保持不变：(注意方法需要加括号)\n",
    "     直接改变shape属性和通过reshape方法改变尺寸的差异时，前者作用在原数组，而reshape会生成一个新数组\n",
    "     例子：d=c.reshape(5,5) 注意：此时数组的元素个数也不能被改变\n",
    "     使用注意事项：reshape(x,y)函数中，x、y参数，将其中的任意一个值用 -1 替换，此时它将自动计算此轴的长度。\n",
    "   注意：数组c和d其实共享数据存储内存区域，因此修改其中任意一个数组的元素都会同时修改另外一个数组的内容："
   ]
  },
  {
   "cell_type": "code",
   "execution_count": 6,
   "metadata": {
    "collapsed": false
   },
   "outputs": [
    {
     "name": "stdout",
     "output_type": "stream",
     "text": [
      "(3, 4) int64\n"
     ]
    }
   ],
   "source": [
    "import numpy as np\n",
    "c = np.array([[1, 2, 3, 4],[4, 5, 6, 7], [7, 8, 9, 10]])\n",
    "print(c.shape,c.dtype)"
   ]
  },
  {
   "cell_type": "code",
   "execution_count": 13,
   "metadata": {
    "collapsed": false
   },
   "outputs": [
    {
     "name": "stdout",
     "output_type": "stream",
     "text": [
      "[[ 1  2  3]\n",
      " [ 4  4  5]\n",
      " [ 6  7  7]\n",
      " [ 8  9 10]]\n"
     ]
    }
   ],
   "source": [
    "d = c.reshape(4,-1)\n",
    "print(d)"
   ]
  },
  {
   "cell_type": "markdown",
   "metadata": {},
   "source": [
    "上面的例子都是先创建一个Python序列，然后通过array函数将其转换为数组，这样做显然效率不高。\n",
    "因此NumPy提供了很多专门用来创建数组的函数。下面的每个函数都有一些关键字参数，具体用法请查看函数说明。\n",
    "\n",
    "arange函数类似于python的range函数，通过指定开始值、终值和步长来创建一维数组，注意数组不包括终值:np.arange(0,1,0.1)\n",
    "linspace函数通过指定开始值、终值和元素个数来创建一维数组，可以通过endpoint关键字指定是否包括终值，缺省设置是包括终值:np.linspace(0, 1, 12)\n",
    "logspace函数和linspace类似，不过它创建等比数列，下面的例子产生1(10^0)到100(10^2)、有20个元素的等比数列:np.logspace(0, 2, 20)"
   ]
  },
  {
   "cell_type": "markdown",
   "metadata": {},
   "source": [
    "python中的数组元素和numpy中的数组元素存取方法的异同：\n",
    "相同点：数组元素的存取方法和Python的标准方法相同,\n",
    "不同点：1、numpy.array通过下标范围获取的新的数组是原始数组的一个视图。它与原始数组共享同一块数据空间\n",
    "       2、numpy.array使用整数序列作为下标获得的数组不和原始数组共享数据空间。\n",
    "       3、numpy.array当使用布尔数组b作为下标存取数组x中的元素时，将收集数组x中所有在数组b中对应下标为True的元素。\n",
    "          使用布尔数组作为下标获得的数组不和原始数组共享数据空间，注意这种方式只对应于布尔数组，不能使用布尔列表。\n",
    "       "
   ]
  },
  {
   "cell_type": "code",
   "execution_count": null,
   "metadata": {
    "collapsed": true
   },
   "outputs": [],
   "source": [
    "多维数组的存取和一维数组类似，因为多维数组有多个轴，因此它的下标需要用多个值来表示，NumPy采用组元(tuple)作为数组的下标。\n"
   ]
  }
 ],
 "metadata": {
  "anaconda-cloud": {},
  "kernelspec": {
   "display_name": "Python [Root]",
   "language": "python",
   "name": "Python [Root]"
  },
  "language_info": {
   "codemirror_mode": {
    "name": "ipython",
    "version": 3
   },
   "file_extension": ".py",
   "mimetype": "text/x-python",
   "name": "python",
   "nbconvert_exporter": "python",
   "pygments_lexer": "ipython3",
   "version": "3.5.2"
  }
 },
 "nbformat": 4,
 "nbformat_minor": 0
}
